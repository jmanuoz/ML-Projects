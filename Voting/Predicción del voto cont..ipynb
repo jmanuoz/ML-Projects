{
 "cells": [
  {
   "cell_type": "markdown",
   "metadata": {},
   "source": [
    "En esta parte intentaré predecir el voto indeciso que figura en una encuesta de intención de voto anterior a las elecciones legislativas 2017 de la provincia de Buenos Aires. \n",
    "Para eso utilizaré los conceptos y métodos vistos en la sección anterior"
   ]
  },
  {
   "cell_type": "code",
   "execution_count": 1,
   "metadata": {},
   "outputs": [],
   "source": [
    "# data analysis and wrangling\n",
    "import pandas as pd\n",
    "import numpy as np\n",
    "import random as rnd\n",
    "\n",
    "# visualization\n",
    "import seaborn as sns\n",
    "import matplotlib.pyplot as plt\n",
    "#matplotlib inline\n",
    "\n",
    "# machine learning\n",
    "from sklearn.linear_model import LogisticRegression\n",
    "from sklearn.svm import SVC, LinearSVC\n",
    "from sklearn.ensemble import RandomForestClassifier\n",
    "from sklearn.neighbors import KNeighborsClassifier\n",
    "from sklearn.naive_bayes import GaussianNB\n",
    "from sklearn.linear_model import Perceptron\n",
    "from sklearn.linear_model import SGDClassifier\n",
    "from sklearn.tree import DecisionTreeClassifier\n",
    "import seaborn as sns\n",
    "import matplotlib.pyplot as plt"
   ]
  },
  {
   "cell_type": "code",
   "execution_count": 47,
   "metadata": {},
   "outputs": [
    {
     "data": {
      "text/html": [
       "<div>\n",
       "<style scoped>\n",
       "    .dataframe tbody tr th:only-of-type {\n",
       "        vertical-align: middle;\n",
       "    }\n",
       "\n",
       "    .dataframe tbody tr th {\n",
       "        vertical-align: top;\n",
       "    }\n",
       "\n",
       "    .dataframe thead th {\n",
       "        text-align: right;\n",
       "    }\n",
       "</style>\n",
       "<table border=\"1\" class=\"dataframe\">\n",
       "  <thead>\n",
       "    <tr style=\"text-align: right;\">\n",
       "      <th></th>\n",
       "      <th>%date%</th>\n",
       "      <th>%time%</th>\n",
       "      <th>%linename%</th>\n",
       "      <th>%cid%</th>\n",
       "      <th>%intro%</th>\n",
       "      <th>Genero</th>\n",
       "      <th>Edad</th>\n",
       "      <th>Estudios</th>\n",
       "      <th>fue_a_votar</th>\n",
       "      <th>voto_anterior</th>\n",
       "      <th>voto_partido</th>\n",
       "      <th>voto_candidato</th>\n",
       "      <th>voto_cfk</th>\n",
       "      <th>voto_bullrich</th>\n",
       "      <th>voto_massa</th>\n",
       "      <th>vot_randazzo</th>\n",
       "      <th>voto_cambiemos</th>\n",
       "      <th>economia_pais</th>\n",
       "      <th>economia_personal</th>\n",
       "      <th>partido_politico</th>\n",
       "      <th>imagen_gobierno_nacional</th>\n",
       "      <th>imagen_gobierno_vidal</th>\n",
       "      <th>imagen_gobierno_cfk</th>\n",
       "      <th>emocion_pais</th>\n",
       "      <th>imagen_macri</th>\n",
       "      <th>imagen_vidal</th>\n",
       "      <th>imagen_cfk</th>\n",
       "      <th>imagen_massa</th>\n",
       "      <th>imagen_randazoo</th>\n",
       "      <th>imagen_bullrich</th>\n",
       "      <th>Cantidad</th>\n",
       "      <th>ProvMunLoc</th>\n",
       "      <th>RadioCensal</th>\n",
       "      <th>NSE</th>\n",
       "      <th>FC</th>\n",
       "      <th>ProvMunFC</th>\n",
       "      <th>Localidad</th>\n",
       "      <th>ProvMun</th>\n",
       "      <th>F4</th>\n",
       "      <th>Base</th>\n",
       "      <th>Base_A</th>\n",
       "      <th>Zona</th>\n",
       "      <th>Telefonia</th>\n",
       "      <th>PonderFinal28</th>\n",
       "      <th>IDPECFK</th>\n",
       "      <th>IDPE Bullrich</th>\n",
       "      <th>IDPEMassa</th>\n",
       "      <th>IDPE Randazzo</th>\n",
       "      <th>IDPE Candidato Macri y Vidal</th>\n",
       "      <th>VotoIDPE</th>\n",
       "    </tr>\n",
       "  </thead>\n",
       "  <tbody>\n",
       "    <tr>\n",
       "      <th>0</th>\n",
       "      <td>12/10/2017 00:00</td>\n",
       "      <td>1</td>\n",
       "      <td>Apu Digi</td>\n",
       "      <td>542214660002</td>\n",
       "      <td>1</td>\n",
       "      <td>Feme</td>\n",
       "      <td>60-74</td>\n",
       "      <td>Superior</td>\n",
       "      <td>Si, fui a votar.</td>\n",
       "      <td>A otro candidato</td>\n",
       "      <td>Al Frente de Izquierda de los trabajadores</td>\n",
       "      <td>A Néstor Pitrola y Andrea Datri por Frente de ...</td>\n",
       "      <td>Nunca lo votaría</td>\n",
       "      <td>Nunca lo votaría</td>\n",
       "      <td>Nunca lo votaría</td>\n",
       "      <td>Nunca lo votaría</td>\n",
       "      <td>Nunca lo votaría</td>\n",
       "      <td>Mala</td>\n",
       "      <td>Regular negativa</td>\n",
       "      <td>A la izquierda</td>\n",
       "      <td>Mala</td>\n",
       "      <td>Regular negativa</td>\n",
       "      <td>Muy Mala</td>\n",
       "      <td>Preocupación</td>\n",
       "      <td>Muy Mala</td>\n",
       "      <td>Muy Mala</td>\n",
       "      <td>Muy Mala</td>\n",
       "      <td>Muy Mala</td>\n",
       "      <td>Muy Mala</td>\n",
       "      <td>Muy Mala</td>\n",
       "      <td>1</td>\n",
       "      <td>BUENOS AIRES             ENSENADA             ...</td>\n",
       "      <td>06.245.04.12</td>\n",
       "      <td>C3</td>\n",
       "      <td>06.245.04</td>\n",
       "      <td>BUENOS AIRES             ENSENADA             ...</td>\n",
       "      <td>PUNTA LARA</td>\n",
       "      <td>BUENOS AIRES             ENSENADA</td>\n",
       "      <td>1</td>\n",
       "      <td>A</td>\n",
       "      <td>Fijo</td>\n",
       "      <td>3era</td>\n",
       "      <td>Ambos</td>\n",
       "      <td>0,3738</td>\n",
       "      <td>0</td>\n",
       "      <td>0</td>\n",
       "      <td>0</td>\n",
       "      <td>0</td>\n",
       "      <td>0</td>\n",
       "      <td>A otro candidato</td>\n",
       "    </tr>\n",
       "    <tr>\n",
       "      <th>1</th>\n",
       "      <td>12/10/2017 00:00</td>\n",
       "      <td>1</td>\n",
       "      <td>Apu Digi</td>\n",
       "      <td>541147514706</td>\n",
       "      <td>1</td>\n",
       "      <td>Masc</td>\n",
       "      <td>60-74</td>\n",
       "      <td>Secundario</td>\n",
       "      <td>Si, fui a votar.</td>\n",
       "      <td>A Esteban Bullrich y Gladys González por Cambi...</td>\n",
       "      <td>A Cambiemos de Macri y Vidal</td>\n",
       "      <td>A Esteban Bullrich y Gladys González por Cambi...</td>\n",
       "      <td>Nunca lo votaría</td>\n",
       "      <td>Muy probable que la vote</td>\n",
       "      <td>Nunca lo votaría</td>\n",
       "      <td>Nunca lo votaría</td>\n",
       "      <td>Muy probable que la vote</td>\n",
       "      <td>Buena</td>\n",
       "      <td>Regular positiva</td>\n",
       "      <td>Al radicalismo</td>\n",
       "      <td>Buena</td>\n",
       "      <td>Muy buena</td>\n",
       "      <td>Muy Mala</td>\n",
       "      <td>Enojo</td>\n",
       "      <td>Buena</td>\n",
       "      <td>Muy buena</td>\n",
       "      <td>Muy Mala</td>\n",
       "      <td>Mala</td>\n",
       "      <td>Regular negativa</td>\n",
       "      <td>Buena</td>\n",
       "      <td>1</td>\n",
       "      <td>BUENOS AIRES             MORON                ...</td>\n",
       "      <td>?</td>\n",
       "      <td>?</td>\n",
       "      <td>?</td>\n",
       "      <td>BUENOS AIRES             MORON                ...</td>\n",
       "      <td>EL PALOMAR</td>\n",
       "      <td>BUENOS AIRES             MORON</td>\n",
       "      <td>1</td>\n",
       "      <td>A</td>\n",
       "      <td>Fijo</td>\n",
       "      <td>1era</td>\n",
       "      <td>Ambos</td>\n",
       "      <td>0,1931</td>\n",
       "      <td>0</td>\n",
       "      <td>10</td>\n",
       "      <td>0</td>\n",
       "      <td>0</td>\n",
       "      <td>10</td>\n",
       "      <td>A Esteban Bullrich y Gladys González por Cambi...</td>\n",
       "    </tr>\n",
       "    <tr>\n",
       "      <th>2</th>\n",
       "      <td>12/10/2017 00:00</td>\n",
       "      <td>1</td>\n",
       "      <td>Apu Digi</td>\n",
       "      <td>541142972389</td>\n",
       "      <td>1</td>\n",
       "      <td>Masc</td>\n",
       "      <td>30-44</td>\n",
       "      <td>Secundario</td>\n",
       "      <td>Si, fui a votar.</td>\n",
       "      <td>A Cristina Fernández de Kirchner y Jorge Taian...</td>\n",
       "      <td>A Cambiemos de Macri y Vidal</td>\n",
       "      <td>A Esteban Bullrich y Gladys González por Cambi...</td>\n",
       "      <td>Nunca lo votaría</td>\n",
       "      <td>Muy probable que la vote</td>\n",
       "      <td>Nunca lo votaría</td>\n",
       "      <td>Nunca lo votaría</td>\n",
       "      <td>Muy probable que la vote</td>\n",
       "      <td>Buena</td>\n",
       "      <td>Buena</td>\n",
       "      <td>A ningún espacio político</td>\n",
       "      <td>Buena</td>\n",
       "      <td>Buena</td>\n",
       "      <td>Muy Mala</td>\n",
       "      <td>Esperanza</td>\n",
       "      <td>Buena</td>\n",
       "      <td>Muy buena</td>\n",
       "      <td>Muy Mala</td>\n",
       "      <td>Regular negativa</td>\n",
       "      <td>Buena</td>\n",
       "      <td>Muy buena</td>\n",
       "      <td>1</td>\n",
       "      <td>BUENOS AIRES             ALMIRANTE BROWN      ...</td>\n",
       "      <td>06.028.33.10</td>\n",
       "      <td>C2</td>\n",
       "      <td>06.028.33</td>\n",
       "      <td>BUENOS AIRES             ALMIRANTE BROWN      ...</td>\n",
       "      <td>LONGCHAMPS</td>\n",
       "      <td>BUENOS AIRES             ALMIRANTE BROWN</td>\n",
       "      <td>1</td>\n",
       "      <td>A</td>\n",
       "      <td>Fijo</td>\n",
       "      <td>3era</td>\n",
       "      <td>Ambos</td>\n",
       "      <td>0,6664</td>\n",
       "      <td>0</td>\n",
       "      <td>10</td>\n",
       "      <td>0</td>\n",
       "      <td>0</td>\n",
       "      <td>10</td>\n",
       "      <td>A Cristina Fernández de Kirchner y Jorge Taian...</td>\n",
       "    </tr>\n",
       "    <tr>\n",
       "      <th>3</th>\n",
       "      <td>12/10/2017 00:00</td>\n",
       "      <td>1</td>\n",
       "      <td>Apu Digi</td>\n",
       "      <td>543364432672</td>\n",
       "      <td>1</td>\n",
       "      <td>Masc</td>\n",
       "      <td>60-74</td>\n",
       "      <td>Secundario</td>\n",
       "      <td>Si, fui a votar.</td>\n",
       "      <td>A Esteban Bullrich y Gladys González por Cambi...</td>\n",
       "      <td>A Cambiemos de Macri y Vidal</td>\n",
       "      <td>A Esteban Bullrich y Gladys González por Cambi...</td>\n",
       "      <td>Nunca lo votaría</td>\n",
       "      <td>Muy probable que la vote</td>\n",
       "      <td>No sabe</td>\n",
       "      <td>Nunca lo votaría</td>\n",
       "      <td>Muy probable que la vote</td>\n",
       "      <td>Regular positiva</td>\n",
       "      <td>Buena</td>\n",
       "      <td>A cambiemos</td>\n",
       "      <td>Buena</td>\n",
       "      <td>Buena</td>\n",
       "      <td>Mala</td>\n",
       "      <td>Esperanza</td>\n",
       "      <td>Buena</td>\n",
       "      <td>Muy buena</td>\n",
       "      <td>Mala</td>\n",
       "      <td>Regular negativa</td>\n",
       "      <td>Regular positiva</td>\n",
       "      <td>Buena</td>\n",
       "      <td>1</td>\n",
       "      <td>BUENOS AIRES             SAN NICOLAS DE LOS AR...</td>\n",
       "      <td>06.763.04.07</td>\n",
       "      <td>C2</td>\n",
       "      <td>06.763.04</td>\n",
       "      <td>BUENOS AIRES             SAN NICOLAS DE LOS AR...</td>\n",
       "      <td>SAN NICOLÁS</td>\n",
       "      <td>BUENOS AIRES             SAN NICOLAS DE LOS AR</td>\n",
       "      <td>1</td>\n",
       "      <td>A</td>\n",
       "      <td>Fijo</td>\n",
       "      <td>Interior</td>\n",
       "      <td>Ambos</td>\n",
       "      <td>0,5485</td>\n",
       "      <td>0</td>\n",
       "      <td>10</td>\n",
       "      <td>NaN</td>\n",
       "      <td>0</td>\n",
       "      <td>10</td>\n",
       "      <td>A Esteban Bullrich y Gladys González por Cambi...</td>\n",
       "    </tr>\n",
       "    <tr>\n",
       "      <th>4</th>\n",
       "      <td>12/10/2017 00:00</td>\n",
       "      <td>1</td>\n",
       "      <td>Apu Digi</td>\n",
       "      <td>541142484646</td>\n",
       "      <td>1</td>\n",
       "      <td>Masc</td>\n",
       "      <td>45-59</td>\n",
       "      <td>Superior</td>\n",
       "      <td>Si, fui a votar.</td>\n",
       "      <td>A Esteban Bullrich y Gladys González por Cambi...</td>\n",
       "      <td>A Cambiemos de Macri y Vidal</td>\n",
       "      <td>A Esteban Bullrich y Gladys González por Cambi...</td>\n",
       "      <td>Es poco probable que lo vote</td>\n",
       "      <td>Es probable que la vote</td>\n",
       "      <td>Es probable que la vote</td>\n",
       "      <td>Es poco probable que lo vote</td>\n",
       "      <td>Muy probable que la vote</td>\n",
       "      <td>Regular positiva</td>\n",
       "      <td>Regular positiva</td>\n",
       "      <td>A ningún espacio político</td>\n",
       "      <td>Regular positiva</td>\n",
       "      <td>Buena</td>\n",
       "      <td>Regular negativa</td>\n",
       "      <td>Esperanza</td>\n",
       "      <td>Regular positiva</td>\n",
       "      <td>Buena</td>\n",
       "      <td>Mala</td>\n",
       "      <td>Regular positiva</td>\n",
       "      <td>Regular positiva</td>\n",
       "      <td>Regular positiva</td>\n",
       "      <td>1</td>\n",
       "      <td>BUENOS AIRES             LOMAS DE ZAMORA      ...</td>\n",
       "      <td>06.490.09.08</td>\n",
       "      <td>C1</td>\n",
       "      <td>06.490.09</td>\n",
       "      <td>BUENOS AIRES             LOMAS DE ZAMORA      ...</td>\n",
       "      <td>BANFIELD</td>\n",
       "      <td>BUENOS AIRES             LOMAS DE ZAMORA</td>\n",
       "      <td>1</td>\n",
       "      <td>A</td>\n",
       "      <td>Fijo</td>\n",
       "      <td>3era</td>\n",
       "      <td>Ambos</td>\n",
       "      <td>0,5594</td>\n",
       "      <td>3,3</td>\n",
       "      <td>6,6</td>\n",
       "      <td>6,6</td>\n",
       "      <td>3,3</td>\n",
       "      <td>10</td>\n",
       "      <td>A Esteban Bullrich y Gladys González por Cambi...</td>\n",
       "    </tr>\n",
       "  </tbody>\n",
       "</table>\n",
       "</div>"
      ],
      "text/plain": [
       "             %date%  %time% %linename%         %cid% %intro% Genero   Edad  \\\n",
       "0  12/10/2017 00:00       1   Apu Digi  542214660002       1   Feme  60-74   \n",
       "1  12/10/2017 00:00       1   Apu Digi  541147514706       1   Masc  60-74   \n",
       "2  12/10/2017 00:00       1   Apu Digi  541142972389       1   Masc  30-44   \n",
       "3  12/10/2017 00:00       1   Apu Digi  543364432672       1   Masc  60-74   \n",
       "4  12/10/2017 00:00       1   Apu Digi  541142484646       1   Masc  45-59   \n",
       "\n",
       "     Estudios       fue_a_votar  \\\n",
       "0    Superior  Si, fui a votar.   \n",
       "1  Secundario  Si, fui a votar.   \n",
       "2  Secundario  Si, fui a votar.   \n",
       "3  Secundario  Si, fui a votar.   \n",
       "4    Superior  Si, fui a votar.   \n",
       "\n",
       "                                       voto_anterior  \\\n",
       "0                                   A otro candidato   \n",
       "1  A Esteban Bullrich y Gladys González por Cambi...   \n",
       "2  A Cristina Fernández de Kirchner y Jorge Taian...   \n",
       "3  A Esteban Bullrich y Gladys González por Cambi...   \n",
       "4  A Esteban Bullrich y Gladys González por Cambi...   \n",
       "\n",
       "                                 voto_partido  \\\n",
       "0  Al Frente de Izquierda de los trabajadores   \n",
       "1                A Cambiemos de Macri y Vidal   \n",
       "2                A Cambiemos de Macri y Vidal   \n",
       "3                A Cambiemos de Macri y Vidal   \n",
       "4                A Cambiemos de Macri y Vidal   \n",
       "\n",
       "                                      voto_candidato  \\\n",
       "0  A Néstor Pitrola y Andrea Datri por Frente de ...   \n",
       "1  A Esteban Bullrich y Gladys González por Cambi...   \n",
       "2  A Esteban Bullrich y Gladys González por Cambi...   \n",
       "3  A Esteban Bullrich y Gladys González por Cambi...   \n",
       "4  A Esteban Bullrich y Gladys González por Cambi...   \n",
       "\n",
       "                       voto_cfk             voto_bullrich  \\\n",
       "0              Nunca lo votaría          Nunca lo votaría   \n",
       "1              Nunca lo votaría  Muy probable que la vote   \n",
       "2              Nunca lo votaría  Muy probable que la vote   \n",
       "3              Nunca lo votaría  Muy probable que la vote   \n",
       "4  Es poco probable que lo vote   Es probable que la vote   \n",
       "\n",
       "                voto_massa                  vot_randazzo  \\\n",
       "0         Nunca lo votaría              Nunca lo votaría   \n",
       "1         Nunca lo votaría              Nunca lo votaría   \n",
       "2         Nunca lo votaría              Nunca lo votaría   \n",
       "3                  No sabe              Nunca lo votaría   \n",
       "4  Es probable que la vote  Es poco probable que lo vote   \n",
       "\n",
       "             voto_cambiemos     economia_pais economia_personal  \\\n",
       "0          Nunca lo votaría              Mala  Regular negativa   \n",
       "1  Muy probable que la vote             Buena  Regular positiva   \n",
       "2  Muy probable que la vote             Buena             Buena   \n",
       "3  Muy probable que la vote  Regular positiva             Buena   \n",
       "4  Muy probable que la vote  Regular positiva  Regular positiva   \n",
       "\n",
       "            partido_politico imagen_gobierno_nacional imagen_gobierno_vidal  \\\n",
       "0             A la izquierda                     Mala      Regular negativa   \n",
       "1             Al radicalismo                    Buena             Muy buena   \n",
       "2  A ningún espacio político                    Buena                 Buena   \n",
       "3                A cambiemos                    Buena                 Buena   \n",
       "4  A ningún espacio político         Regular positiva                 Buena   \n",
       "\n",
       "  imagen_gobierno_cfk  emocion_pais      imagen_macri imagen_vidal imagen_cfk  \\\n",
       "0            Muy Mala  Preocupación          Muy Mala     Muy Mala   Muy Mala   \n",
       "1            Muy Mala         Enojo             Buena    Muy buena   Muy Mala   \n",
       "2            Muy Mala     Esperanza             Buena    Muy buena   Muy Mala   \n",
       "3                Mala     Esperanza             Buena    Muy buena       Mala   \n",
       "4    Regular negativa     Esperanza  Regular positiva        Buena       Mala   \n",
       "\n",
       "       imagen_massa   imagen_randazoo   imagen_bullrich  Cantidad  \\\n",
       "0          Muy Mala          Muy Mala          Muy Mala         1   \n",
       "1              Mala  Regular negativa             Buena         1   \n",
       "2  Regular negativa             Buena         Muy buena         1   \n",
       "3  Regular negativa  Regular positiva             Buena         1   \n",
       "4  Regular positiva  Regular positiva  Regular positiva         1   \n",
       "\n",
       "                                          ProvMunLoc   RadioCensal NSE  \\\n",
       "0  BUENOS AIRES             ENSENADA             ...  06.245.04.12  C3   \n",
       "1  BUENOS AIRES             MORON                ...             ?   ?   \n",
       "2  BUENOS AIRES             ALMIRANTE BROWN      ...  06.028.33.10  C2   \n",
       "3  BUENOS AIRES             SAN NICOLAS DE LOS AR...  06.763.04.07  C2   \n",
       "4  BUENOS AIRES             LOMAS DE ZAMORA      ...  06.490.09.08  C1   \n",
       "\n",
       "          FC                                          ProvMunFC    Localidad  \\\n",
       "0  06.245.04  BUENOS AIRES             ENSENADA             ...   PUNTA LARA   \n",
       "1          ?  BUENOS AIRES             MORON                ...   EL PALOMAR   \n",
       "2  06.028.33  BUENOS AIRES             ALMIRANTE BROWN      ...   LONGCHAMPS   \n",
       "3  06.763.04  BUENOS AIRES             SAN NICOLAS DE LOS AR...  SAN NICOLÁS   \n",
       "4  06.490.09  BUENOS AIRES             LOMAS DE ZAMORA      ...     BANFIELD   \n",
       "\n",
       "                                          ProvMun  F4 Base Base_A      Zona  \\\n",
       "0               BUENOS AIRES             ENSENADA   1    A   Fijo      3era   \n",
       "1                  BUENOS AIRES             MORON   1    A   Fijo      1era   \n",
       "2        BUENOS AIRES             ALMIRANTE BROWN   1    A   Fijo      3era   \n",
       "3  BUENOS AIRES             SAN NICOLAS DE LOS AR   1    A   Fijo  Interior   \n",
       "4        BUENOS AIRES             LOMAS DE ZAMORA   1    A   Fijo      3era   \n",
       "\n",
       "  Telefonia PonderFinal28 IDPECFK IDPE Bullrich IDPEMassa IDPE Randazzo  \\\n",
       "0     Ambos        0,3738       0             0         0             0   \n",
       "1     Ambos        0,1931       0            10         0             0   \n",
       "2     Ambos        0,6664       0            10         0             0   \n",
       "3     Ambos        0,5485       0            10       NaN             0   \n",
       "4     Ambos        0,5594     3,3           6,6       6,6           3,3   \n",
       "\n",
       "  IDPE Candidato Macri y Vidal  \\\n",
       "0                            0   \n",
       "1                           10   \n",
       "2                           10   \n",
       "3                           10   \n",
       "4                           10   \n",
       "\n",
       "                                            VotoIDPE  \n",
       "0                                   A otro candidato  \n",
       "1  A Esteban Bullrich y Gladys González por Cambi...  \n",
       "2  A Cristina Fernández de Kirchner y Jorge Taian...  \n",
       "3  A Esteban Bullrich y Gladys González por Cambi...  \n",
       "4  A Esteban Bullrich y Gladys González por Cambi...  "
      ]
     },
     "execution_count": 47,
     "metadata": {},
     "output_type": "execute_result"
    }
   ],
   "source": [
    "pd.set_option('display.max_columns', 500)\n",
    "train_df = pd.read_csv('PBA_Oct_17_norm.csv')\n",
    "train_df.head()"
   ]
  },
  {
   "cell_type": "code",
   "execution_count": 101,
   "metadata": {},
   "outputs": [
    {
     "name": "stdout",
     "output_type": "stream",
     "text": [
      "<class 'pandas.core.frame.DataFrame'>\n",
      "RangeIndex: 1760 entries, 0 to 1759\n",
      "Data columns (total 50 columns):\n",
      "%date%                          1760 non-null object\n",
      "%time%                          1760 non-null int64\n",
      "%linename%                      1760 non-null object\n",
      "%cid%                           1760 non-null object\n",
      "%intro%                         1411 non-null object\n",
      "Genero                          1760 non-null object\n",
      "Edad                            1760 non-null object\n",
      "Estudios                        1760 non-null object\n",
      "fue_a_votar                     1760 non-null object\n",
      "voto_anterior                   1519 non-null object\n",
      "voto_partido                    1757 non-null object\n",
      "voto_candidato                  1715 non-null object\n",
      "voto_cfk                        1660 non-null object\n",
      "voto_bullrich                   1623 non-null object\n",
      "voto_massa                      1566 non-null object\n",
      "vot_randazzo                    1533 non-null object\n",
      "voto_cambiemos                  1527 non-null object\n",
      "economia_pais                   1511 non-null object\n",
      "economia_personal               1503 non-null object\n",
      "partido_politico                1494 non-null object\n",
      "imagen_gobierno_nacional        1480 non-null object\n",
      "imagen_gobierno_vidal           1470 non-null object\n",
      "imagen_gobierno_cfk             1462 non-null object\n",
      "emocion_pais                    1440 non-null object\n",
      "imagen_macri                    1372 non-null object\n",
      "imagen_vidal                    1367 non-null object\n",
      "imagen_cfk                      1355 non-null object\n",
      "imagen_massa                    1344 non-null object\n",
      "imagen_randazoo                 1334 non-null object\n",
      "imagen_bullrich                 1322 non-null object\n",
      "Cantidad                        1760 non-null int64\n",
      "ProvMunLoc                      1411 non-null object\n",
      "RadioCensal                     1411 non-null object\n",
      "NSE                             1411 non-null object\n",
      "FC                              1411 non-null object\n",
      "ProvMunFC                       1411 non-null object\n",
      "Localidad                       1760 non-null object\n",
      "ProvMun                         1760 non-null object\n",
      "F4                              1760 non-null int64\n",
      "Base                            1760 non-null object\n",
      "Base_A                          1760 non-null object\n",
      "Zona                            1760 non-null object\n",
      "Telefonia                       1760 non-null object\n",
      "PonderFinal28                   1760 non-null object\n",
      "IDPECFK                         1565 non-null object\n",
      "IDPE Bullrich                   1505 non-null object\n",
      "IDPEMassa                       1449 non-null object\n",
      "IDPE Randazzo                   1405 non-null object\n",
      "IDPE Candidato Macri y Vidal    1436 non-null object\n",
      "VotoIDPE                        1760 non-null object\n",
      "dtypes: int64(3), object(47)\n",
      "memory usage: 687.6+ KB\n"
     ]
    }
   ],
   "source": [
    "train_df.info()"
   ]
  },
  {
   "cell_type": "code",
   "execution_count": 48,
   "metadata": {},
   "outputs": [],
   "source": [
    "train_df.dropna(subset=['imagen_bullrich'], inplace=True)\n",
    "train_df.dropna(subset=['imagen_vidal'], inplace=True)\n",
    "train_df.dropna(subset=['imagen_cfk'], inplace=True)\n",
    "train_df.dropna(subset=['imagen_randazoo'], inplace=True)\n",
    "train_df.dropna(subset=['voto_partido'], inplace=True)"
   ]
  },
  {
   "cell_type": "code",
   "execution_count": 4,
   "metadata": {},
   "outputs": [
    {
     "data": {
      "text/plain": [
       "array(['A otro candidato',\n",
       "       'A Esteban Bullrich y Gladys Gonz\\xc3\\xa1lez por Cambiemos',\n",
       "       'A Cristina Fern\\xc3\\xa1ndez de Kirchner y Jorge Taiana por Unidad Ciudadana',\n",
       "       'A N\\xc3\\xa9stor Pitrola y Andrea Datri por Frente de Izquierda de los trabajadores',\n",
       "       'A Sergio Massa y Margarita Stolbizer por Frente 1Pa\\xc3\\xacs',\n",
       "       'Vote en Blanco', 'No sabe',\n",
       "       'A Florencio Randazzo y Florencia Casamiquela Por Frente Cumplir',\n",
       "       nan], dtype=object)"
      ]
     },
     "execution_count": 4,
     "metadata": {},
     "output_type": "execute_result"
    }
   ],
   "source": [
    "train_df.voto_anterior.unique()"
   ]
  },
  {
   "cell_type": "code",
   "execution_count": 49,
   "metadata": {},
   "outputs": [],
   "source": [
    "age_mapping = {\"16-29\": 1, \"30-44\": 2, \"45-59\": 3, \"60-74\": 4, \"Mas de 75\": 5}\n",
    "\n",
    "train_df['Edad'] = train_df['Edad'].map(age_mapping).astype(int)\n",
    "gender_mapping = {\"Feme\": 1, \"Masc\": 0}\n",
    "emocion_pais_mapping = {'Preocupaci\\xc3\\xb3n':3, 'Tristeza':1, 'Enojo':2,\n",
    "       'Esperanza':5,'Tranquilidad':6, 'No sabe':4, 'Alegr\\xc3\\xada':7}\n",
    "\n",
    "train_df['emocion_pais'] = train_df['emocion_pais'].map(emocion_pais_mapping)\n",
    "train_df['emocion_pais'] = train_df['emocion_pais'].fillna(0).astype(int)\n",
    "train_df['Genero'] = train_df['Genero'].map(gender_mapping).astype(int)\n",
    "imagen_mapping = {'Muy Mala':1, 'Mala':2, 'Regular negativa':3,\n",
    "       'Regular positiva':5, 'Buena':6,'Muy buena':7, 'No sabe':4}\n",
    "\n",
    "train_df['imagen_macri'] = train_df['imagen_macri'].map(imagen_mapping)\n",
    "train_df['imagen_macri'] = train_df['imagen_macri'].fillna(0).astype(int)\n",
    "train_df['imagen_cfk'] = train_df['imagen_cfk'].map(imagen_mapping)\n",
    "train_df['imagen_cfk'] = train_df['imagen_cfk'].fillna(0).astype(int)\n",
    "train_df['imagen_vidal'] = train_df['imagen_vidal'].map(imagen_mapping)\n",
    "train_df['imagen_vidal'] = train_df['imagen_vidal'].fillna(0).astype(int)\n",
    "train_df['imagen_massa'] = train_df['imagen_massa'].map(imagen_mapping)\n",
    "train_df['imagen_massa'] = train_df['imagen_massa'].fillna(0).astype(int)\n",
    "train_df['imagen_randazoo'] = train_df['imagen_randazoo'].map(imagen_mapping)\n",
    "train_df['imagen_randazoo'] = train_df['imagen_randazoo'].fillna(0).astype(int)\n",
    "train_df['economia_pais'] = train_df['economia_pais'].map(imagen_mapping)\n",
    "train_df['economia_pais'] = train_df['economia_pais'].fillna(0).astype(int)\n",
    "train_df['economia_personal'] = train_df['economia_personal'].map(imagen_mapping)\n",
    "train_df['economia_personal'] = train_df['economia_personal'].fillna(0).astype(int)\n",
    "voto_cambiemos_mapping = {'Nunca lo votaría':1, 'Es poco probable que lo vote':2, 'No sabe':3,\n",
    "                         'Es probable que la vote':4,'Muy probable que la vote':5}\n",
    "\n",
    "train_df['voto_cambiemos'] = train_df['voto_cambiemos'].map(voto_cambiemos_mapping)\n",
    "train_df['voto_cambiemos'] = train_df['voto_cambiemos'].fillna(0).astype(int)\n",
    "\n",
    "train_df['voto_massa'] = train_df['voto_massa'].map(voto_cambiemos_mapping)\n",
    "train_df['voto_massa'] = train_df['voto_massa'].fillna(0).astype(int)\n",
    "\n",
    "train_df['voto_cfk'] = train_df['voto_cfk'].map(voto_cambiemos_mapping)\n",
    "train_df['voto_cfk'] = train_df['voto_cfk'].fillna(0).astype(int)\n",
    "\n",
    "train_df['vot_randazzo'] = train_df['vot_randazzo'].map(voto_cambiemos_mapping)\n",
    "train_df['vot_randazzo'] = train_df['vot_randazzo'].fillna(0).astype(int)\n",
    "\n",
    "voto_anterior_mapping = {'A otro candidato':1,\n",
    "       'A Esteban Bullrich y Gladys Gonz\\xc3\\xa1lez por Cambiemos':2,\n",
    "       'A Cristina Fern\\xc3\\xa1ndez de Kirchner y Jorge Taiana por Unidad Ciudadana':3,\n",
    "       'A N\\xc3\\xa9stor Pitrola y Andrea Datri por Frente de Izquierda de los trabajadores':4,\n",
    "       'A Sergio Massa y Margarita Stolbizer por Frente 1Pa\\xc3\\xacs':5,\n",
    "       'Vote en Blanco':6, 'No sabe':7,\n",
    "       'A Florencio Randazzo y Florencia Casamiquela Por Frente Cumplir':8}\n",
    "\n",
    "train_df['voto_anterior'] = train_df['voto_anterior'].map(voto_anterior_mapping)\n",
    "train_df['voto_anterior'] = train_df['voto_anterior'].fillna(0).astype(int)"
   ]
  },
  {
   "cell_type": "code",
   "execution_count": 50,
   "metadata": {},
   "outputs": [
    {
     "data": {
      "text/html": [
       "<div>\n",
       "<style scoped>\n",
       "    .dataframe tbody tr th:only-of-type {\n",
       "        vertical-align: middle;\n",
       "    }\n",
       "\n",
       "    .dataframe tbody tr th {\n",
       "        vertical-align: top;\n",
       "    }\n",
       "\n",
       "    .dataframe thead th {\n",
       "        text-align: right;\n",
       "    }\n",
       "</style>\n",
       "<table border=\"1\" class=\"dataframe\">\n",
       "  <thead>\n",
       "    <tr style=\"text-align: right;\">\n",
       "      <th></th>\n",
       "      <th>Edad</th>\n",
       "      <th>emocion_pais</th>\n",
       "      <th>Genero</th>\n",
       "      <th>imagen_macri</th>\n",
       "      <th>imagen_vidal</th>\n",
       "      <th>emocion_pais</th>\n",
       "      <th>economia_personal</th>\n",
       "      <th>imagen_randazoo</th>\n",
       "      <th>imagen_massa</th>\n",
       "      <th>voto_cambiemos</th>\n",
       "      <th>voto_massa</th>\n",
       "      <th>voto_cfk</th>\n",
       "      <th>vot_randazzo</th>\n",
       "    </tr>\n",
       "  </thead>\n",
       "  <tbody>\n",
       "    <tr>\n",
       "      <th>0</th>\n",
       "      <td>4</td>\n",
       "      <td>3</td>\n",
       "      <td>1</td>\n",
       "      <td>1</td>\n",
       "      <td>1</td>\n",
       "      <td>3</td>\n",
       "      <td>3</td>\n",
       "      <td>1</td>\n",
       "      <td>1</td>\n",
       "      <td>1</td>\n",
       "      <td>1</td>\n",
       "      <td>1</td>\n",
       "      <td>1</td>\n",
       "    </tr>\n",
       "    <tr>\n",
       "      <th>1</th>\n",
       "      <td>4</td>\n",
       "      <td>2</td>\n",
       "      <td>0</td>\n",
       "      <td>6</td>\n",
       "      <td>7</td>\n",
       "      <td>2</td>\n",
       "      <td>5</td>\n",
       "      <td>3</td>\n",
       "      <td>2</td>\n",
       "      <td>5</td>\n",
       "      <td>1</td>\n",
       "      <td>1</td>\n",
       "      <td>1</td>\n",
       "    </tr>\n",
       "    <tr>\n",
       "      <th>2</th>\n",
       "      <td>2</td>\n",
       "      <td>5</td>\n",
       "      <td>0</td>\n",
       "      <td>6</td>\n",
       "      <td>7</td>\n",
       "      <td>5</td>\n",
       "      <td>6</td>\n",
       "      <td>6</td>\n",
       "      <td>3</td>\n",
       "      <td>5</td>\n",
       "      <td>1</td>\n",
       "      <td>1</td>\n",
       "      <td>1</td>\n",
       "    </tr>\n",
       "    <tr>\n",
       "      <th>3</th>\n",
       "      <td>4</td>\n",
       "      <td>5</td>\n",
       "      <td>0</td>\n",
       "      <td>6</td>\n",
       "      <td>7</td>\n",
       "      <td>5</td>\n",
       "      <td>6</td>\n",
       "      <td>5</td>\n",
       "      <td>3</td>\n",
       "      <td>5</td>\n",
       "      <td>3</td>\n",
       "      <td>1</td>\n",
       "      <td>1</td>\n",
       "    </tr>\n",
       "    <tr>\n",
       "      <th>4</th>\n",
       "      <td>3</td>\n",
       "      <td>5</td>\n",
       "      <td>0</td>\n",
       "      <td>5</td>\n",
       "      <td>6</td>\n",
       "      <td>5</td>\n",
       "      <td>5</td>\n",
       "      <td>5</td>\n",
       "      <td>5</td>\n",
       "      <td>5</td>\n",
       "      <td>4</td>\n",
       "      <td>2</td>\n",
       "      <td>2</td>\n",
       "    </tr>\n",
       "  </tbody>\n",
       "</table>\n",
       "</div>"
      ],
      "text/plain": [
       "   Edad  emocion_pais  Genero  imagen_macri  imagen_vidal  emocion_pais  \\\n",
       "0     4             3       1             1             1             3   \n",
       "1     4             2       0             6             7             2   \n",
       "2     2             5       0             6             7             5   \n",
       "3     4             5       0             6             7             5   \n",
       "4     3             5       0             5             6             5   \n",
       "\n",
       "   economia_personal  imagen_randazoo  imagen_massa  voto_cambiemos  \\\n",
       "0                  3                1             1               1   \n",
       "1                  5                3             2               5   \n",
       "2                  6                6             3               5   \n",
       "3                  6                5             3               5   \n",
       "4                  5                5             5               5   \n",
       "\n",
       "   voto_massa  voto_cfk  vot_randazzo  \n",
       "0           1         1             1  \n",
       "1           1         1             1  \n",
       "2           1         1             1  \n",
       "3           3         1             1  \n",
       "4           4         2             2  "
      ]
     },
     "execution_count": 50,
     "metadata": {},
     "output_type": "execute_result"
    }
   ],
   "source": [
    "df_filtered = train_df.filter(items=['Edad', 'emocion_pais','Genero',\n",
    "                                     'imagen_macri','imagen_cfk'\n",
    "                                     'economia_pais','imagen_vidal','emocion_pais',\n",
    "                                     'economia_personal','imagen_randazoo','imagen_massa',\n",
    "                                     'voto_cambiemos',\n",
    "                                      'voto_massa',\n",
    "                                    'voto_cfk',\n",
    "                                    'vot_randazzo'])\n",
    "df_filtered.head()"
   ]
  },
  {
   "cell_type": "code",
   "execution_count": 9,
   "metadata": {},
   "outputs": [],
   "source": [
    "from sklearn.manifold import TSNE\n",
    "from sklearn.decomposition import TruncatedSVD\n",
    "fmd = df_filtered\n",
    "svd = TruncatedSVD(n_components=8, n_iter=200, random_state=42)\n",
    "svd.fit(fmd.T)\n",
    "X_embedded = TSNE(n_components=2).fit_transform(svd.components_.T)\n"
   ]
  },
  {
   "cell_type": "markdown",
   "metadata": {},
   "source": [
    "Veamos si sucede el mismo fenómoneno del caso anterior respecto a la intención de voto a cambiemos"
   ]
  },
  {
   "cell_type": "code",
   "execution_count": 107,
   "metadata": {},
   "outputs": [],
   "source": [
    "voto = df_filtered['voto_cambiemos']"
   ]
  },
  {
   "cell_type": "code",
   "execution_count": 146,
   "metadata": {},
   "outputs": [
    {
     "data": {
      "image/png": "[encoded data removed]",
      "text/plain": [
       "<matplotlib.figure.Figure at 0x7f044c253050>"
      ]
     },
     "metadata": {},
     "output_type": "display_data"
    }
   ],
   "source": [
    "from matplotlib import pyplot as plt\n",
    "plt.figure(figsize=(20,10))\n",
    "plt.scatter(X_embedded[voto[:]==1,0], X_embedded[voto[:]==1,1], color='#08088A', s=10)\n",
    "plt.scatter(X_embedded[voto[:]==2,0], X_embedded[voto[:]==2,1], color='#5858FA', s=10)\n",
    "plt.scatter(X_embedded[voto[:]==5,0], X_embedded[voto[:]==5,1], color='#5E610B', s=10)\n",
    "plt.scatter(X_embedded[voto[:]==4,0], X_embedded[voto[:]==4,1], color='#F7FE2E', s=10)\n",
    "plt.scatter(X_embedded[voto[:]==3,0], X_embedded[voto[:]==3,1], color='r', s=40)\n",
    "plt.show()"
   ]
  },
  {
   "cell_type": "code",
   "execution_count": 24,
   "metadata": {},
   "outputs": [
    {
     "data": {
      "text/plain": [
       "array(['Al Frente de Izquierda de los trabajadores',\n",
       "       'A Cambiemos de Macri y Vidal',\n",
       "       'A Unidad Ciudadana de Cristina Fernández de Kirchner', 'No sabe',\n",
       "       'Al Frente 1 País de Massa y Stolbizer', 'En blanco',\n",
       "       'Al Frente Cumplir de Florencio Randazzo', nan], dtype=object)"
      ]
     },
     "execution_count": 24,
     "metadata": {},
     "output_type": "execute_result"
    }
   ],
   "source": [
    "train_df.voto_partido.unique()"
   ]
  },
  {
   "cell_type": "code",
   "execution_count": 51,
   "metadata": {},
   "outputs": [],
   "source": [
    "voto_partido_mapping = {'Al Frente de Izquierda de los trabajadores':4,\n",
    "       'A Cambiemos de Macri y Vidal':1,\n",
    "       'A Unidad Ciudadana de Cristina Fernández de Kirchner':2, 'No sabe':7,\n",
    "       'Al Frente 1 País de Massa y Stolbizer':3, 'En blanco':6,\n",
    "       'Al Frente Cumplir de Florencio Randazzo':5}\n",
    "\n",
    "train_df['voto_partido'] = train_df['voto_partido'].map(voto_partido_mapping)\n",
    "train_df['voto_partido'] = train_df['voto_partido'].fillna(0).astype(int)\n"
   ]
  },
  {
   "cell_type": "code",
   "execution_count": 109,
   "metadata": {},
   "outputs": [],
   "source": [
    "voto_partido = train_df['voto_partido']"
   ]
  },
  {
   "cell_type": "markdown",
   "metadata": {},
   "source": [
    "Veamos ahora como es la distribución del voto según la intención de voto por partido político"
   ]
  },
  {
   "cell_type": "code",
   "execution_count": 19,
   "metadata": {},
   "outputs": [
    {
     "data": {
      "image/png": "[encoded data removed]",
      "text/plain": [
       "<matplotlib.figure.Figure at 0x7f9f09903790>"
      ]
     },
     "metadata": {},
     "output_type": "display_data"
    }
   ],
   "source": [
    "plt.figure(figsize=(20,10))\n",
    "plt.scatter(X_embedded[voto_partido[:]==1,0], X_embedded[voto_partido[:]==1,1], color='y', s=10, label=\"Cambiemos\")\n",
    "plt.scatter(X_embedded[voto_partido[:]==2,0], X_embedded[voto_partido[:]==2,1], color='b', s=10, label=\"Unidad Ciudadana\")\n",
    "plt.scatter(X_embedded[voto_partido[:]==3,0], X_embedded[voto_partido[:]==3,1], color='#04B404', s=10, label=\"1Pais\")#massa verde\n",
    "plt.scatter(X_embedded[voto_partido[:]==4,0], X_embedded[voto_partido[:]==4,1], color='r', s=10, label=\"FIT\")#fit rojo\n",
    "plt.scatter(X_embedded[voto_partido[:]==5,0], X_embedded[voto_partido[:]==5,1], color='#58D3F7', s=10, label=\"Cumplir\")#Randazzo celeste\n",
    "plt.scatter(X_embedded[voto_partido[:]==6,0], X_embedded[voto_partido[:]==6,1], color='#585858', s=10, label=\"Voto en Blanco\")#Blanco gris\n",
    "plt.scatter(X_embedded[voto_partido[:]==7,0], X_embedded[voto_partido[:]==7,1], color='#FF00FF', s=30, label=\"Indeciso\")#no sabe Rosa\n",
    "plt.legend( prop={'size': 15})\n",
    "plt.show()"
   ]
  },
  {
   "cell_type": "markdown",
   "metadata": {},
   "source": [
    "Podemos ver que cada partido ocupa una posición diferenciable de los demas en el gráfico, lo que nos indica que los votantes de cada partido tienen disintas formas de responder a la encuesta respecto a los demas partidos y similares entre sí.\n",
    "\n",
    "Lo que nos da un indicio de que puede ser posible identificar la intención de voto a los distintos partidos con la información expuesta en esta encuesta."
   ]
  },
  {
   "cell_type": "code",
   "execution_count": 52,
   "metadata": {},
   "outputs": [],
   "source": [
    "df_filtered = train_df.filter(items=['Edad', 'emocion_pais','Genero',\n",
    "                                     'imagen_macri','imagen_cfk'\n",
    "                                     'economia_pais','imagen_vidal',\n",
    "                                     'economia_personal','imagen_randazoo',\n",
    "                                     'voto_cambiemos',\n",
    "                                      'voto_massa',\n",
    "                                    'voto_cfk',\n",
    "                                    'vot_randazzo','voto_partido'])\n"
   ]
  },
  {
   "cell_type": "markdown",
   "metadata": {},
   "source": [
    "Aparto a aquellos usuarios que no saben aún su voto y utilizo el resto para entrenar mi modelo"
   ]
  },
  {
   "cell_type": "code",
   "execution_count": 53,
   "metadata": {},
   "outputs": [],
   "source": [
    "df_filtered_saben = df_filtered.drop(df_filtered.loc[train_df['voto_partido'] == 7].index)\n",
    "df_filtered_saben = df_filtered_saben.drop(df_filtered.loc[train_df['voto_partido'] == 0].index)"
   ]
  },
  {
   "cell_type": "code",
   "execution_count": 54,
   "metadata": {},
   "outputs": [
    {
     "name": "stdout",
     "output_type": "stream",
     "text": [
      "<class 'pandas.core.frame.DataFrame'>\n",
      "Int64Index: 1176 entries, 0 to 1759\n",
      "Data columns (total 12 columns):\n",
      "Edad                 1176 non-null int64\n",
      "emocion_pais         1176 non-null int64\n",
      "Genero               1176 non-null int64\n",
      "imagen_macri         1176 non-null int64\n",
      "imagen_vidal         1176 non-null int64\n",
      "economia_personal    1176 non-null int64\n",
      "imagen_randazoo      1176 non-null int64\n",
      "voto_cambiemos       1176 non-null int64\n",
      "voto_massa           1176 non-null int64\n",
      "voto_cfk             1176 non-null int64\n",
      "vot_randazzo         1176 non-null int64\n",
      "voto_partido         1176 non-null int64\n",
      "dtypes: int64(12)\n",
      "memory usage: 119.4 KB\n"
     ]
    }
   ],
   "source": [
    "df_filtered_saben.info()"
   ]
  },
  {
   "cell_type": "code",
   "execution_count": 17,
   "metadata": {},
   "outputs": [],
   "source": [
    "from sklearn.model_selection import train_test_split\n",
    "def clasificadores(X,y):\n",
    "    X, X_test, y, y_test = train_test_split(X, y, test_size=0.2, random_state=42)\n",
    "    knn = KNeighborsClassifier(n_neighbors = 3)\n",
    "    knn.fit(X, y)\n",
    "\n",
    "    acc_knn = round(knn.score(X_test, y_test) * 100, 2)\n",
    "\n",
    "\n",
    "    random_forest = RandomForestClassifier(n_estimators=100)\n",
    "    random_forest.fit(X, y)\n",
    "\n",
    "    acc_random_forest = round(random_forest.score(X_test, y_test) * 100, 2)\n",
    "\n",
    "\n",
    "    gaussian = GaussianNB()\n",
    "    gaussian.fit(X, y)\n",
    "\n",
    "    acc_gaussian = round(gaussian.score(X_test, y_test) * 100, 2)\n",
    "\n",
    "\n",
    "    logreg = LogisticRegression()\n",
    "    logreg.fit(X, y)\n",
    "\n",
    "    acc_log = round(logreg.score(X_test, y_test) * 100, 2)\n",
    "\n",
    "\n",
    "    svc = SVC()\n",
    "    svc.fit(X, y)\n",
    "\n",
    "    acc_svc = round(svc.score(X_test, y_test) * 100, 2)\n",
    "\n",
    "\n",
    "    decision_tree = DecisionTreeClassifier()\n",
    "    decision_tree.fit(X, y)\n",
    "\n",
    "    acc_decision_tree = round(decision_tree.score(X_test, y_test) * 100, 2)\n",
    "    return [acc_svc, acc_knn, acc_log, acc_random_forest, acc_gaussian, acc_decision_tree]\n"
   ]
  },
  {
   "cell_type": "code",
   "execution_count": 18,
   "metadata": {},
   "outputs": [
    {
     "name": "stderr",
     "output_type": "stream",
     "text": [
      "/home/juanma/anaconda2/lib/python2.7/site-packages/ipykernel_launcher.py:5: DataConversionWarning: A column-vector y was passed when a 1d array was expected. Please change the shape of y to (n_samples, ), for example using ravel().\n",
      "  \"\"\"\n",
      "/home/juanma/anaconda2/lib/python2.7/site-packages/ipykernel_launcher.py:11: DataConversionWarning: A column-vector y was passed when a 1d array was expected. Please change the shape of y to (n_samples,), for example using ravel().\n",
      "  # This is added back by InteractiveShellApp.init_path()\n"
     ]
    },
    {
     "data": {
      "text/html": [
       "<div>\n",
       "<style scoped>\n",
       "    .dataframe tbody tr th:only-of-type {\n",
       "        vertical-align: middle;\n",
       "    }\n",
       "\n",
       "    .dataframe tbody tr th {\n",
       "        vertical-align: top;\n",
       "    }\n",
       "\n",
       "    .dataframe thead th {\n",
       "        text-align: right;\n",
       "    }\n",
       "</style>\n",
       "<table border=\"1\" class=\"dataframe\">\n",
       "  <thead>\n",
       "    <tr style=\"text-align: right;\">\n",
       "      <th></th>\n",
       "      <th>Clasificador</th>\n",
       "      <th>Score</th>\n",
       "    </tr>\n",
       "  </thead>\n",
       "  <tbody>\n",
       "    <tr>\n",
       "      <th>2</th>\n",
       "      <td>Logistic Regression</td>\n",
       "      <td>87.71</td>\n",
       "    </tr>\n",
       "    <tr>\n",
       "      <th>0</th>\n",
       "      <td>Support Vector Machines</td>\n",
       "      <td>87.29</td>\n",
       "    </tr>\n",
       "    <tr>\n",
       "      <th>3</th>\n",
       "      <td>Random Forest</td>\n",
       "      <td>86.86</td>\n",
       "    </tr>\n",
       "    <tr>\n",
       "      <th>1</th>\n",
       "      <td>KNN</td>\n",
       "      <td>85.17</td>\n",
       "    </tr>\n",
       "    <tr>\n",
       "      <th>4</th>\n",
       "      <td>Naive Bayes</td>\n",
       "      <td>84.32</td>\n",
       "    </tr>\n",
       "    <tr>\n",
       "      <th>5</th>\n",
       "      <td>Decision Tree</td>\n",
       "      <td>80.08</td>\n",
       "    </tr>\n",
       "  </tbody>\n",
       "</table>\n",
       "</div>"
      ],
      "text/plain": [
       "              Clasificador  Score\n",
       "2      Logistic Regression  87.71\n",
       "0  Support Vector Machines  87.29\n",
       "3            Random Forest  86.86\n",
       "1                      KNN  85.17\n",
       "4              Naive Bayes  84.32\n",
       "5            Decision Tree  80.08"
      ]
     },
     "execution_count": 18,
     "metadata": {},
     "output_type": "execute_result"
    }
   ],
   "source": [
    "X = df_filtered_saben.drop(\"voto_partido\", axis=1)\n",
    "y = df_filtered_saben.filter(items=[\"voto_partido\"])\n",
    "obvio = clasificadores(X,y)\n",
    "models = pd.DataFrame({\n",
    "    'Clasificador': ['Support Vector Machines', 'KNN', 'Logistic Regression', \n",
    "              'Random Forest', 'Naive Bayes', \n",
    "              'Decision Tree'],\n",
    "    'Score': obvio})\n",
    "models[['Clasificador','Score']].sort_values(by='Score', ascending=False)"
   ]
  },
  {
   "cell_type": "markdown",
   "metadata": {},
   "source": [
    "### Red Neuronal\n"
   ]
  },
  {
   "cell_type": "code",
   "execution_count": 19,
   "metadata": {},
   "outputs": [
    {
     "name": "stderr",
     "output_type": "stream",
     "text": [
      "/home/juanma/anaconda2/lib/python2.7/site-packages/h5py/__init__.py:36: FutureWarning: Conversion of the second argument of issubdtype from `float` to `np.floating` is deprecated. In future, it will be treated as `np.float64 == np.dtype(float).type`.\n",
      "  from ._conv import register_converters as _register_converters\n",
      "Using TensorFlow backend.\n"
     ]
    }
   ],
   "source": [
    "%load_ext autoreload\n",
    "%autoreload 2\n",
    "from IPython.display import HTML\n",
    "import reg_helper as RHelper\n",
    "import numpy as np\n",
    "import draw_nn\n",
    "from matplotlib import pyplot as plt \n",
    "from keras.utils import to_categorical\n",
    "from keras.callbacks import ModelCheckpoint \n",
    "from keras.models import Sequential\n",
    "from keras.layers.core import Dense, Dropout, Activation, Flatten\n",
    "from keras.layers.normalization import BatchNormalization\n",
    "from keras import optimizers\n",
    "from keras import initializers\n",
    "from fnn_helper import PlotLosses\n",
    "from keras import optimizers"
   ]
  },
  {
   "cell_type": "code",
   "execution_count": 55,
   "metadata": {},
   "outputs": [
    {
     "data": {
      "text/plain": [
       "(1176, 11)"
      ]
     },
     "execution_count": 55,
     "metadata": {},
     "output_type": "execute_result"
    }
   ],
   "source": [
    "X = df_filtered_saben.drop(\"voto_partido\", axis=1)\n",
    "y = df_filtered_saben.filter(items=[\"voto_partido\"])\n",
    "from sklearn.model_selection import train_test_split\n",
    "#train_df.voto_cambiemos_reducido.unique()\n",
    "X.shape"
   ]
  },
  {
   "cell_type": "code",
   "execution_count": 56,
   "metadata": {},
   "outputs": [
    {
     "data": {
      "text/plain": [
       "array([1, 2, 3, 4, 5, 6])"
      ]
     },
     "execution_count": 56,
     "metadata": {},
     "output_type": "execute_result"
    }
   ],
   "source": [
    "np.unique(y)"
   ]
  },
  {
   "cell_type": "code",
   "execution_count": 57,
   "metadata": {},
   "outputs": [
    {
     "data": {
      "text/plain": [
       "(1176, 6)"
      ]
     },
     "execution_count": 57,
     "metadata": {},
     "output_type": "execute_result"
    }
   ],
   "source": [
    "from sklearn.preprocessing import LabelEncoder\n",
    "from keras.utils import np_utils\n",
    "encoder = LabelEncoder()\n",
    "encoder.fit(y)\n",
    "encoded_Y = encoder.transform(y)\n",
    "# convert integers to dummy variables (i.e. one hot encoded)\n",
    "dummy_y = np_utils.to_categorical(encoded_Y)\n",
    "X_train, X_test, y_train, y_test= train_test_split(X, dummy_y, test_size=0.2, random_state=42)\n",
    "dummy_y.shape"
   ]
  },
  {
   "cell_type": "code",
   "execution_count": 58,
   "metadata": {},
   "outputs": [
    {
     "name": "stdout",
     "output_type": "stream",
     "text": [
      "_________________________________________________________________\n",
      "Layer (type)                 Output Shape              Param #   \n",
      "=================================================================\n",
      "dense_3 (Dense)              (None, 30)                360       \n",
      "_________________________________________________________________\n",
      "batch_normalization_3 (Batch (None, 30)                120       \n",
      "_________________________________________________________________\n",
      "Hidden (Dense)               (None, 30)                930       \n",
      "_________________________________________________________________\n",
      "Salida (Dense)               (None, 6)                 186       \n",
      "_________________________________________________________________\n",
      "activation_3 (Activation)    (None, 6)                 0         \n",
      "=================================================================\n",
      "Total params: 1,596\n",
      "Trainable params: 1,536\n",
      "Non-trainable params: 60\n",
      "_________________________________________________________________\n"
     ]
    },
    {
     "name": "stderr",
     "output_type": "stream",
     "text": [
      "/home/juanma/anaconda2/lib/python2.7/site-packages/ipykernel_launcher.py:16: UserWarning: Update your `Dense` call to the Keras 2 API: `Dense(30, activation=\"relu\", kernel_initializer=\"RandomUniform\", input_dim=11)`\n",
      "  app.launch_new_instance()\n"
     ]
    }
   ],
   "source": [
    "epochs = 1000 #adam 3000, sgd 30000\n",
    "lr=0.001\n",
    "decay=0\n",
    "input_shape = 11\n",
    "hidden_units = 30 # Probar con 3, 10, 20, 200\n",
    "output_size = 6\n",
    "p = 0.2\n",
    "batch_size = 512 # 10 y 59\n",
    "\n",
    "optim = optimizers.adam(lr=lr, decay=0.1)\n",
    "#optim = optimizers.rmsprop(lr=lr, decay=0.001)\n",
    "\n",
    "default_initializer = 'normal'\n",
    "# Creo el modelo\n",
    "model_single_layer = Sequential()\n",
    "model_single_layer.add(Dense(hidden_units, input_dim=input_shape, init='RandomUniform',activation=\"relu\"))\n",
    "model_single_layer.add(BatchNormalization())\n",
    "\n",
    "model_single_layer.add(Dense(hidden_units, kernel_initializer=default_initializer,bias_initializer=default_initializer, name='Hidden',activation=\"relu\"))\n",
    "\n",
    "\n",
    "model_single_layer.add(Dense(output_size, kernel_initializer=default_initializer, name='Salida'))\n",
    "model_single_layer.add(Activation('softmax'))\n",
    "model_single_layer.summary()"
   ]
  },
  {
   "cell_type": "code",
   "execution_count": 59,
   "metadata": {},
   "outputs": [],
   "source": [
    "model_single_layer.compile(loss='categorical_crossentropy', optimizer=optim, metrics=['accuracy'])"
   ]
  },
  {
   "cell_type": "code",
   "execution_count": 28,
   "metadata": {},
   "outputs": [
    {
     "data": {
      "image/png": "[encoded data removed]",
      "text/plain": [
       "<matplotlib.figure.Figure at 0x7f3b2f680a10>"
      ]
     },
     "metadata": {},
     "output_type": "display_data"
    },
    {
     "data": {
      "text/plain": [
       "<keras.callbacks.History at 0x7f3b2fdba210>"
      ]
     },
     "execution_count": 28,
     "metadata": {},
     "output_type": "execute_result"
    }
   ],
   "source": [
    "optim = optimizers.rmsprop(lr=lr, decay=0.01)\n",
    "model_single_layer.compile(loss='categorical_crossentropy', optimizer=optim, metrics=['accuracy'])\n",
    "plot_losses = PlotLosses(plot_interval=50, evaluate_interval=None, x_val=X_test, y_val_categorical=y_test)\n",
    "checkpointer = ModelCheckpoint(filepath='model_pba.hdf5', verbose=0, save_best_only=True)\n",
    "model_single_layer.fit(X_train, \n",
    "          y_train, batch_size = batch_size,\n",
    "          epochs=epochs, \n",
    "          verbose=0, \n",
    "          validation_data=(X_test, y_test), \n",
    "          callbacks=[plot_losses, checkpointer],\n",
    "         )"
   ]
  },
  {
   "cell_type": "code",
   "execution_count": 60,
   "metadata": {},
   "outputs": [
    {
     "name": "stdout",
     "output_type": "stream",
     "text": [
      "236/236 [==============================] - 0s 232us/step\n"
     ]
    }
   ],
   "source": [
    "model_single_layer.load_weights('model_pba.hdf5')\n",
    "loss, acc = model_single_layer.evaluate(X_test, y_test)"
   ]
  },
  {
   "cell_type": "code",
   "execution_count": 61,
   "metadata": {},
   "outputs": [
    {
     "name": "stdout",
     "output_type": "stream",
     "text": [
      "0.885593220338983\n"
     ]
    }
   ],
   "source": [
    "print(acc)"
   ]
  },
  {
   "cell_type": "markdown",
   "metadata": {},
   "source": [
    "## AHORA Predigo los que no sabian"
   ]
  },
  {
   "cell_type": "code",
   "execution_count": 62,
   "metadata": {},
   "outputs": [],
   "source": [
    "df_no_saben = train_df.filter(items=['Edad', 'emocion_pais','Genero',\n",
    "                                     'imagen_macri','imagen_cfk'\n",
    "                                     'economia_pais','imagen_vidal',\n",
    "                                     'economia_personal','imagen_randazoo',\n",
    "                                     'voto_cambiemos',\n",
    "                                      'voto_massa',\n",
    "                                    'voto_cfk',\n",
    "                                    'vot_randazzo','voto_partido','PonderFinal28'])\n",
    "\n",
    "df_no_saben = df_no_saben.loc[df_no_saben['voto_partido'] == 7]\n"
   ]
  },
  {
   "cell_type": "code",
   "execution_count": 63,
   "metadata": {},
   "outputs": [],
   "source": [
    "X_test_2  = df_no_saben.drop([\"voto_partido\",'PonderFinal28'], axis=1).copy()\n",
    "y_test_2 = df_no_saben.filter(items=[\"voto_partido\"])\n",
    "\n",
    "\n",
    "\n",
    "test_prediction = model_single_layer.predict(X_test_2)\n",
    "test_labels = np.argmax(test_prediction, axis = -1)"
   ]
  },
  {
   "cell_type": "code",
   "execution_count": 64,
   "metadata": {},
   "outputs": [],
   "source": [
    "test_labels = test_labels+1"
   ]
  },
  {
   "cell_type": "code",
   "execution_count": 65,
   "metadata": {},
   "outputs": [
    {
     "data": {
      "text/plain": [
       "Predicto\n",
       "1     69.1974\n",
       "2    100.4607\n",
       "3     50.9970\n",
       "4      9.9464\n",
       "5     23.9266\n",
       "Name: Ponder, dtype: float64"
      ]
     },
     "execution_count": 65,
     "metadata": {},
     "output_type": "execute_result"
    }
   ],
   "source": [
    "ponder = df_no_saben.filter(items=[\"PonderFinal28\"])\n",
    "models = pd.DataFrame({\n",
    "    'Ponder': ponder[\"PonderFinal28\"],\n",
    "    'Predicto': test_labels})\n",
    "models['Ponder'] = pd.to_numeric(models['Ponder'].str.replace(',', '.'), errors='coerce')\n",
    "predicted = models.groupby(['Predicto'])['Ponder'].sum()\n",
    "predicted"
   ]
  },
  {
   "cell_type": "code",
   "execution_count": 67,
   "metadata": {},
   "outputs": [
    {
     "data": {
      "text/plain": [
       "voto_partido\n",
       "1    35.408156\n",
       "2    27.863587\n",
       "3     9.746776\n",
       "4     3.165669\n",
       "5     3.548390\n",
       "6     2.060027\n",
       "7    18.207394\n",
       "Name: PonderFinal28, dtype: float64"
      ]
     },
     "execution_count": 67,
     "metadata": {},
     "output_type": "execute_result"
    }
   ],
   "source": [
    "df_ponder = train_df.filter(items=['Edad', 'emocion_pais','Genero',\n",
    "                                     'imagen_macri','imagen_cfk'\n",
    "                                     'economia_pais','imagen_vidal','economia_personal','imagen_randazoo','imagen_massa','voto_cambiemos','voto_partido','PonderFinal28'])\n",
    "df_ponder = df_ponder.drop(df_ponder.loc[train_df['voto_partido'] == 0].index)\n",
    "df_ponder['PonderFinal28'] = pd.to_numeric(df_ponder['PonderFinal28'].str.replace(',', '.'), errors='coerce')\n",
    "tabla = df_ponder.groupby(['voto_partido'])['PonderFinal28'].sum()\n",
    "tabla_pocentaje = tabla / np.sum(tabla) * 100\n",
    "tabla_pocentaje"
   ]
  },
  {
   "cell_type": "markdown",
   "metadata": {},
   "source": [
    "### Antes de predecir\n",
    "\n",
    "<table>\n",
    "    <tr><td><b>Voto</b></td><td>Ponder</td><td>Porcentaje</td></tr>\n",
    "    <tr><td>'A Cambiemos de Macri y Vidal'</td><td>556.5549 </td><td> 35.40%</td></tr>\n",
    "<tr><td>'A Unidad Ciudadana de Cristina Fernández de Kirchner'</td><td>541.0992 </td><td> 27.86%</td></tr>\n",
    "<tr><td>'Al Frente 1 País de Massa y Stolbizer'</td><td>177.6277 </td><td> 9.74%</td></tr>\n",
    "<tr><td>'Al Frente de Izquierda de los trabajadores'</td><td>44.2541 </td><td> 3.16%</td></tr>\n",
    "<tr><td>'Al Frente Cumplir de Florencio Randazzo'</td><td>49.6043 </td><td> 3.54%</td></tr>\n",
    "    <tr><td>'En blanco'</td><td>28.7979,</td><td>2.06%</td></tr>\n",
    "    </table>\n",
    "\n",
    "    "
   ]
  },
  {
   "cell_type": "code",
   "execution_count": 68,
   "metadata": {},
   "outputs": [
    {
     "data": {
      "text/plain": [
       "voto_partido\n",
       "1    41.360306\n",
       "2    35.920309\n",
       "3    13.727417\n",
       "4     3.244281\n",
       "5     3.636505\n",
       "6     2.111182\n",
       "Name: PonderFinal28, dtype: float64"
      ]
     },
     "execution_count": 68,
     "metadata": {},
     "output_type": "execute_result"
    }
   ],
   "source": [
    "tabla_predicta = tabla[[1,2,3,4,5,6]]\n",
    "tabla_predicta[1] = tabla_predicta[1] + predicted[1]\n",
    "tabla_predicta[2] = tabla_predicta[2] + predicted[2]\n",
    "tabla_predicta[3] = tabla_predicta[3] + predicted[3]\n",
    "tabla_predicta_porcentaje = tabla_predicta / np.sum(tabla_predicta) * 100\n",
    "tabla_predicta_porcentaje"
   ]
  },
  {
   "cell_type": "markdown",
   "metadata": {},
   "source": [
    "### Predictos\n",
    "<table>\n",
    "    <tr><td><b>Voto</b></td><td><b>Antes de predecir indecisos</b></td><td><b>Porcentaje predicto</b></td><td><b>Real</b></td></tr>\n",
    "    <tr><td>Cambiemos</td><td>35.40%</td><td> 41.36%</td><td> 41.38%</td></tr>\n",
    "<tr><td>Unidad Ciudadana</td><td>27.86%</td><td> 35.92%</td><td> 37.25%</td></tr>\n",
    "<tr><td>1 País</td><td>9.74%</td><td> 13.72%</td><td> 11.32%</td></tr>\n",
    "<tr><td>FIT</td><td>3.16%</td><td> 3.24%</td><td> 5.31%</td></tr>\n",
    "<tr><td>Cumplir</td><td>3.54%</td><td> 3.64%</td><td> 4.75%</td></tr>\n",
    "    <tr><td>En blanco</td><td>2.06%</td><td>2.11%</td><td>2.21%</td></tr>\n",
    "    </table>\n"
   ]
  },
  {
   "cell_type": "code",
   "execution_count": 70,
   "metadata": {},
   "outputs": [
    {
     "data": {
      "text/plain": [
       "2.157859089004562"
      ]
     },
     "execution_count": 70,
     "metadata": {},
     "output_type": "execute_result"
    }
   ],
   "source": [
    "from sklearn.metrics import mean_squared_error\n",
    "from math import sqrt\n",
    "\n",
    "error = mean_squared_error(resultados_reales, tabla_predicta_porcentaje)\n",
    "error"
   ]
  },
  {
   "cell_type": "markdown",
   "metadata": {},
   "source": [
    "## Error cuadrático medio: 2.16\n"
   ]
  },
  {
   "cell_type": "code",
   "execution_count": null,
   "metadata": {},
   "outputs": [],
   "source": []
  }
 ],
 "metadata": {
  "kernelspec": {
   "display_name": "Python 3",
   "language": "python",
   "name": "python3"
  },
  "language_info": {
   "codemirror_mode": {
    "name": "ipython",
    "version": 2
   },
   "file_extension": ".py",
   "mimetype": "text/x-python",
   "name": "python",
   "nbconvert_exporter": "python",
   "pygments_lexer": "ipython2",
   "version": "2.7.14"
  }
 },
 "nbformat": 4,
 "nbformat_minor": 2
}
