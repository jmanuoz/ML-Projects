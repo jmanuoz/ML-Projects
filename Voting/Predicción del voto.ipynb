{
 "cells": [
  {
   "cell_type": "markdown",
   "metadata": {},
   "source": [
    "\n",
    "# Predicción del voto"
   ]
  },
  {
   "cell_type": "markdown",
   "metadata": {},
   "source": [
    "En este trabajo utilizaré dos encuestas de intención de voto realizadas en enero y marzo de 2018 en AMBA. <br>Utilizaré la primera como mi train set y a la segunda como test.<br> La intención es tomar el campo de intención de voto a uno de los partidos políticos (en este caso tomamos a cambiemos arbitrariamente) como campo a predecir en base a las demás preguntas."
   ]
  },
  {
   "cell_type": "code",
   "execution_count": 1,
   "metadata": {},
   "outputs": [],
   "source": [
    "# data analysis and wrangling\n",
    "import pandas as pd\n",
    "import numpy as np\n",
    "import random as rnd\n",
    "\n",
    "# visualization\n",
    "import seaborn as sns\n",
    "import matplotlib.pyplot as plt\n",
    "#matplotlib inline\n",
    "\n",
    "# machine learning\n",
    "from sklearn.linear_model import LogisticRegression\n",
    "from sklearn.svm import SVC, LinearSVC\n",
    "from sklearn.ensemble import RandomForestClassifier\n",
    "from sklearn.neighbors import KNeighborsClassifier\n",
    "from sklearn.naive_bayes import GaussianNB\n",
    "from sklearn.linear_model import Perceptron\n",
    "from sklearn.linear_model import SGDClassifier\n",
    "from sklearn.tree import DecisionTreeClassifier\n",
    "import seaborn as sns\n",
    "import matplotlib.pyplot as plt\n"
   ]
  },
  {
   "cell_type": "code",
   "execution_count": 2,
   "metadata": {
    "scrolled": true
   },
   "outputs": [
    {
     "data": {
      "text/plain": [
       "(1372, 47)"
      ]
     },
     "execution_count": 2,
     "metadata": {},
     "output_type": "execute_result"
    }
   ],
   "source": [
    "pd.set_option('display.max_columns', 500)\n",
    "train_df = pd.read_csv('BASE_AMBA_enero2018.csv')\n",
    "train_df.shape"
   ]
  },
  {
   "cell_type": "code",
   "execution_count": 3,
   "metadata": {},
   "outputs": [
    {
     "data": {
      "text/html": [
       "<div>\n",
       "<style scoped>\n",
       "    .dataframe tbody tr th:only-of-type {\n",
       "        vertical-align: middle;\n",
       "    }\n",
       "\n",
       "    .dataframe tbody tr th {\n",
       "        vertical-align: top;\n",
       "    }\n",
       "\n",
       "    .dataframe thead th {\n",
       "        text-align: right;\n",
       "    }\n",
       "</style>\n",
       "<table border=\"1\" class=\"dataframe\">\n",
       "  <thead>\n",
       "    <tr style=\"text-align: right;\">\n",
       "      <th></th>\n",
       "      <th>%date%</th>\n",
       "      <th>%cid%</th>\n",
       "      <th>Genero</th>\n",
       "      <th>Edad</th>\n",
       "      <th>Estudios</th>\n",
       "      <th>Como cree Ud. que es la gestión del gobierno nacional encabezada por Mauricio Macri?</th>\n",
       "      <th>Y como cree Ud. que es la gestión del gobierno provincial encabezada por María Eugenia Vidal?</th>\n",
       "      <th>Y como cree Ud. que es la gestión del intendente de su municipio?</th>\n",
       "      <th>Qué imagen tiene usted de Mauricio Macri?</th>\n",
       "      <th>Y qué imagen tiene Ud. de Cristina Fernández de Kirchner?</th>\n",
       "      <th>Y qué imagen tiene Ud. de María Eugenia Vidal?</th>\n",
       "      <th>Y qué imagen tiene Ud. de Sergio Massa?</th>\n",
       "      <th>Y qué imagen tiene Ud. de Elisa Carrió?</th>\n",
       "      <th>Y qué imagen tiene Ud. de Marcos Peña?</th>\n",
       "      <th>¿A qué espacio político diría usted que se siente más cercano?</th>\n",
       "      <th>13. ¿Cuan probable es para usted votar a presidente por Mauricio Macri, Maria Eugenia Vidal o un candidato que ellos apoyen? Usted diría que…</th>\n",
       "      <th>¿Y cuan probable es para usted votar a presidente por Cristina Fernández de Kirchner o un candidato que ella apoye? Usted diría que…</th>\n",
       "      <th>¿Y cuan probable es para usted votar a presidente por Sergio Massa o un candidato que él apoye? Usted diría que…</th>\n",
       "      <th>¿Y cuan probable es para usted votar a presidente a un candidato del Peronismo? Usted diría que…</th>\n",
       "      <th>¿Cuál de los siguientes estados de ánimo le despierta hoy a Ud. la situación del país?</th>\n",
       "      <th>¿Cuál de los siguientes estados de ánimo le despierta hoy a Ud. la situación de su municipio?</th>\n",
       "      <th>Según su opinión cómo es la situación económica hoy en el país?</th>\n",
       "      <th>y como es su situación económica personal?</th>\n",
       "      <th>Teniendo en cuenta sus gastos habituales. ¿Cuánto cree Ud. que comprara en supermercado en los próximos meses?</th>\n",
       "      <th>Y ¿Cuánto cree Ud. que comprara en indumentaria en los próximos meses?</th>\n",
       "      <th>Y ¿Cuánto cree Ud. Consumirá en Salidas y Ocio en los próximos meses?</th>\n",
       "      <th>Y en relación a los Viajes y escapadas, considera que en los próximos meses…</th>\n",
       "      <th>¿Cree que la inflación al día de hoy es…</th>\n",
       "      <th>Y en los próximos tres meses usted cree que la inflación</th>\n",
       "      <th>¿Cree que las posibilidades de perder su empleo en los próximos tres meses son…</th>\n",
       "      <th>Respecto a sus tarjetas de crédito y/o préstamos bancarios. ¿Qué tan endeudado se siente Ud.?</th>\n",
       "      <th>Cambiando de tema, podría decirnos cuál es su condición de actividad? Es decir, cuál es su principal actividad?</th>\n",
       "      <th>Cambiando de tema, ¿cuál considera usted que es la principal problemática de la actualidad entre las siguientes opciones?</th>\n",
       "      <th>¿Y cuál considera usted que es la principal problemática de su ciudad de entre las siguientes opciones?</th>\n",
       "      <th>Cantidad</th>\n",
       "      <th>ProvMunLoc</th>\n",
       "      <th>RadioCensal</th>\n",
       "      <th>NSE</th>\n",
       "      <th>FC</th>\n",
       "      <th>ProvMunFC</th>\n",
       "      <th>Localidad</th>\n",
       "      <th>ProvMun</th>\n",
       "      <th>PorvLoc</th>\n",
       "      <th>ProvMunFC_A</th>\n",
       "      <th>SE</th>\n",
       "      <th>Zona</th>\n",
       "      <th>PonderFinal8</th>\n",
       "    </tr>\n",
       "  </thead>\n",
       "  <tbody>\n",
       "    <tr>\n",
       "      <th>0</th>\n",
       "      <td>19-Jan-2018</td>\n",
       "      <td>541146682815</td>\n",
       "      <td>Feme</td>\n",
       "      <td>60-74</td>\n",
       "      <td>HSC</td>\n",
       "      <td>Buena</td>\n",
       "      <td>Buena</td>\n",
       "      <td>Regular positiva</td>\n",
       "      <td>Buena</td>\n",
       "      <td>Muy Mala</td>\n",
       "      <td>Buena</td>\n",
       "      <td>Buena</td>\n",
       "      <td>Buena</td>\n",
       "      <td>Buena</td>\n",
       "      <td>A cambiemos</td>\n",
       "      <td>Es probable que la vote</td>\n",
       "      <td>Nunca lo votaría</td>\n",
       "      <td>No sabe</td>\n",
       "      <td>Es poco probable que lo vote</td>\n",
       "      <td>Esperanza</td>\n",
       "      <td>Esperanza</td>\n",
       "      <td>Regular positiva</td>\n",
       "      <td>Buena</td>\n",
       "      <td>Compraré lo mismo que antes</td>\n",
       "      <td>No sabe</td>\n",
       "      <td>Consumiré lo mismo que antes</td>\n",
       "      <td>Viajaré igual que antes</td>\n",
       "      <td>Media</td>\n",
       "      <td>No Sabe</td>\n",
       "      <td>No Sabe</td>\n",
       "      <td>Nada endeudado</td>\n",
       "      <td>Soy jubilado o pensionado</td>\n",
       "      <td>Corrupción</td>\n",
       "      <td>Falta de cloacas</td>\n",
       "      <td>1</td>\n",
       "      <td>BUENOS AIRES             SAN MIGUEL           ...</td>\n",
       "      <td>06.760.13.03</td>\n",
       "      <td>C2</td>\n",
       "      <td>06.760.13</td>\n",
       "      <td>BUENOS AIRES             SAN MIGUEL           ...</td>\n",
       "      <td>BELLA VISTA</td>\n",
       "      <td>BUENOS AIRES             SAN MIGUEL</td>\n",
       "      <td>SAN MIGUEL</td>\n",
       "      <td>BUENOS AIRES             SAN MIGUEL           ...</td>\n",
       "      <td>1era SE</td>\n",
       "      <td>2do Cordon</td>\n",
       "      <td>1,393</td>\n",
       "    </tr>\n",
       "    <tr>\n",
       "      <th>1</th>\n",
       "      <td>19-Jan-2018</td>\n",
       "      <td>541142635685</td>\n",
       "      <td>Feme</td>\n",
       "      <td>16-29</td>\n",
       "      <td>TUoS</td>\n",
       "      <td>Regular positiva</td>\n",
       "      <td>Regular positiva</td>\n",
       "      <td>Regular negativa</td>\n",
       "      <td>No sabe</td>\n",
       "      <td>No sabe</td>\n",
       "      <td>No sabe</td>\n",
       "      <td>No sabe</td>\n",
       "      <td>No sabe</td>\n",
       "      <td>No sabe</td>\n",
       "      <td>Al radicalismo</td>\n",
       "      <td>No sabe</td>\n",
       "      <td>Es poco probable que lo vote</td>\n",
       "      <td>No sabe</td>\n",
       "      <td>No sabe</td>\n",
       "      <td>Esperanza</td>\n",
       "      <td>Preocupación</td>\n",
       "      <td>Regular positiva</td>\n",
       "      <td>Regular positiva</td>\n",
       "      <td>No sabe</td>\n",
       "      <td>No sabe</td>\n",
       "      <td>No sabe</td>\n",
       "      <td>No sabe</td>\n",
       "      <td>Media</td>\n",
       "      <td>No Sabe</td>\n",
       "      <td>No Sabe</td>\n",
       "      <td>Nada endeudado</td>\n",
       "      <td>Soy desocupado</td>\n",
       "      <td>NaN</td>\n",
       "      <td>NaN</td>\n",
       "      <td>1</td>\n",
       "      <td>BUENOS AIRES             ESTEBAN ECHEVERRIA   ...</td>\n",
       "      <td>06.260.16.06</td>\n",
       "      <td>C3</td>\n",
       "      <td>06.260.16</td>\n",
       "      <td>BUENOS AIRES             ESTEBAN ECHEVERRIA   ...</td>\n",
       "      <td>MONTE GRANDE</td>\n",
       "      <td>BUENOS AIRES             ESTEBAN ECHEVERRIA</td>\n",
       "      <td>ESTEBAN ECHEVERRIA</td>\n",
       "      <td>BUENOS AIRES             ESTEBAN ECHEVERRIA   ...</td>\n",
       "      <td>3era SE</td>\n",
       "      <td>2do Cordon</td>\n",
       "      <td>0,5361</td>\n",
       "    </tr>\n",
       "    <tr>\n",
       "      <th>2</th>\n",
       "      <td>19-Jan-2018</td>\n",
       "      <td>541148233063</td>\n",
       "      <td>Masc</td>\n",
       "      <td>75 o mas</td>\n",
       "      <td>TUoS</td>\n",
       "      <td>Buena</td>\n",
       "      <td>No sabe</td>\n",
       "      <td>Buena</td>\n",
       "      <td>Muy buena</td>\n",
       "      <td>Muy Mala</td>\n",
       "      <td>Muy buena</td>\n",
       "      <td>Regular positiva</td>\n",
       "      <td>Buena</td>\n",
       "      <td>Buena</td>\n",
       "      <td>Al radicalismo</td>\n",
       "      <td>Muy probable que la vote</td>\n",
       "      <td>Nunca lo votaría</td>\n",
       "      <td>Nunca lo votaría</td>\n",
       "      <td>Nunca lo votaría</td>\n",
       "      <td>No sabe</td>\n",
       "      <td>Esperanza</td>\n",
       "      <td>Regular positiva</td>\n",
       "      <td>Regular positiva</td>\n",
       "      <td>Compraré lo mismo que antes</td>\n",
       "      <td>Compraré lo mismo que antes</td>\n",
       "      <td>Consumiré lo mismo que antes</td>\n",
       "      <td>Viajaré igual que antes</td>\n",
       "      <td>Baja</td>\n",
       "      <td>No Sabe</td>\n",
       "      <td>No Sabe</td>\n",
       "      <td>Poco endeudado</td>\n",
       "      <td>Soy jubilado o pensionado</td>\n",
       "      <td>NaN</td>\n",
       "      <td>NaN</td>\n",
       "      <td>1</td>\n",
       "      <td>CAPITAL FEDERAL          CAPITAL FEDERAL      ...</td>\n",
       "      <td>02.014.25.05</td>\n",
       "      <td>C1</td>\n",
       "      <td>02.014.25</td>\n",
       "      <td>CAPITAL FEDERAL          Comuna 14            ...</td>\n",
       "      <td>PALERMO</td>\n",
       "      <td>CAPITAL FEDERAL          Comuna 14</td>\n",
       "      <td>CAPITAL FEDERAL</td>\n",
       "      <td>CAPITAL FEDERAL          Comuna 14            ...</td>\n",
       "      <td>CABA</td>\n",
       "      <td>CABA</td>\n",
       "      <td>0,1178</td>\n",
       "    </tr>\n",
       "    <tr>\n",
       "      <th>3</th>\n",
       "      <td>19-Jan-2018</td>\n",
       "      <td>541142906387</td>\n",
       "      <td>Feme</td>\n",
       "      <td>45-59</td>\n",
       "      <td>HSC</td>\n",
       "      <td>Muy Mala</td>\n",
       "      <td>Mala</td>\n",
       "      <td>Buena</td>\n",
       "      <td>Muy Mala</td>\n",
       "      <td>Muy buena</td>\n",
       "      <td>Mala</td>\n",
       "      <td>Mala</td>\n",
       "      <td>Muy Mala</td>\n",
       "      <td>Muy Mala</td>\n",
       "      <td>A ningún espacio político</td>\n",
       "      <td>Nunca lo votaría</td>\n",
       "      <td>Muy probable que la vote</td>\n",
       "      <td>Nunca lo votaría</td>\n",
       "      <td>Es poco probable que lo vote</td>\n",
       "      <td>Tristeza</td>\n",
       "      <td>No sabe</td>\n",
       "      <td>Mala</td>\n",
       "      <td>Regular negativa</td>\n",
       "      <td>Compraré menos que antes</td>\n",
       "      <td>Compraré menos que antes</td>\n",
       "      <td>Consumiré menos que antes</td>\n",
       "      <td>Viajaré menos que antes</td>\n",
       "      <td>Alta</td>\n",
       "      <td>Se mantendrá igual</td>\n",
       "      <td>Pocas</td>\n",
       "      <td>Poco endeudado</td>\n",
       "      <td>Trabajo, soy obrero o empleado</td>\n",
       "      <td>Corrupción</td>\n",
       "      <td>Estado de calles y veredas</td>\n",
       "      <td>1</td>\n",
       "      <td>BUENOS AIRES             ESTEBAN ECHEVERRIA   ...</td>\n",
       "      <td>06.260.07.08</td>\n",
       "      <td>C2</td>\n",
       "      <td>06.260.07</td>\n",
       "      <td>BUENOS AIRES             ESTEBAN ECHEVERRIA   ...</td>\n",
       "      <td>MONTE GRANDE</td>\n",
       "      <td>BUENOS AIRES             ESTEBAN ECHEVERRIA</td>\n",
       "      <td>ESTEBAN ECHEVERRIA</td>\n",
       "      <td>BUENOS AIRES             ESTEBAN ECHEVERRIA   ...</td>\n",
       "      <td>3era SE</td>\n",
       "      <td>2do Cordon</td>\n",
       "      <td>0,5005</td>\n",
       "    </tr>\n",
       "    <tr>\n",
       "      <th>4</th>\n",
       "      <td>19-Jan-2018</td>\n",
       "      <td>541144885093</td>\n",
       "      <td>Masc</td>\n",
       "      <td>60-74</td>\n",
       "      <td>HSC</td>\n",
       "      <td>Mala</td>\n",
       "      <td>Mala</td>\n",
       "      <td>Regular negativa</td>\n",
       "      <td>Mala</td>\n",
       "      <td>Mala</td>\n",
       "      <td>Mala</td>\n",
       "      <td>Regular positiva</td>\n",
       "      <td>Mala</td>\n",
       "      <td>Mala</td>\n",
       "      <td>A otro</td>\n",
       "      <td>Nunca lo votaría</td>\n",
       "      <td>Nunca lo votaría</td>\n",
       "      <td>Es poco probable que lo vote</td>\n",
       "      <td>Nunca lo votaría</td>\n",
       "      <td>Enojo</td>\n",
       "      <td>Enojo</td>\n",
       "      <td>Mala</td>\n",
       "      <td>Regular positiva</td>\n",
       "      <td>No sabe</td>\n",
       "      <td>No sabe</td>\n",
       "      <td>No sabe</td>\n",
       "      <td>No sabe</td>\n",
       "      <td>Alta</td>\n",
       "      <td>Aumentará</td>\n",
       "      <td>No Sabe</td>\n",
       "      <td>Nada endeudado</td>\n",
       "      <td>Trabajo, soy cuenta propista</td>\n",
       "      <td>Narcotráfico</td>\n",
       "      <td>La falta de limpieza de la ciudad</td>\n",
       "      <td>1</td>\n",
       "      <td>BUENOS AIRES             TRES DE FEBRERO      ...</td>\n",
       "      <td>06.840.31.06</td>\n",
       "      <td>C2</td>\n",
       "      <td>06.840.31</td>\n",
       "      <td>BUENOS AIRES             TRES DE FEBRERO      ...</td>\n",
       "      <td>CIUDADELA</td>\n",
       "      <td>BUENOS AIRES             TRES DE FEBRERO</td>\n",
       "      <td>TRES DE FEBRERO</td>\n",
       "      <td>BUENOS AIRES             TRES DE FEBRERO      ...</td>\n",
       "      <td>1era SE</td>\n",
       "      <td>1er Cordon</td>\n",
       "      <td>0,3864</td>\n",
       "    </tr>\n",
       "  </tbody>\n",
       "</table>\n",
       "</div>"
      ],
      "text/plain": [
       "        %date%         %cid% Genero      Edad Estudios  \\\n",
       "0  19-Jan-2018  541146682815   Feme     60-74      HSC   \n",
       "1  19-Jan-2018  541142635685   Feme     16-29     TUoS   \n",
       "2  19-Jan-2018  541148233063   Masc  75 o mas     TUoS   \n",
       "3  19-Jan-2018  541142906387   Feme     45-59      HSC   \n",
       "4  19-Jan-2018  541144885093   Masc     60-74      HSC   \n",
       "\n",
       "  Como cree Ud. que es la gestión del gobierno nacional encabezada por Mauricio Macri?  \\\n",
       "0                                              Buena                                     \n",
       "1                                   Regular positiva                                     \n",
       "2                                              Buena                                     \n",
       "3                                           Muy Mala                                     \n",
       "4                                               Mala                                     \n",
       "\n",
       "  Y como cree Ud. que es la gestión del gobierno provincial encabezada por María Eugenia Vidal?  \\\n",
       "0                                              Buena                                              \n",
       "1                                   Regular positiva                                              \n",
       "2                                            No sabe                                              \n",
       "3                                               Mala                                              \n",
       "4                                               Mala                                              \n",
       "\n",
       "  Y como cree Ud. que es la gestión del intendente de su municipio?  \\\n",
       "0                                   Regular positiva                  \n",
       "1                                   Regular negativa                  \n",
       "2                                              Buena                  \n",
       "3                                              Buena                  \n",
       "4                                   Regular negativa                  \n",
       "\n",
       "  Qué imagen tiene usted de Mauricio Macri?  \\\n",
       "0                                     Buena   \n",
       "1                                   No sabe   \n",
       "2                                 Muy buena   \n",
       "3                                  Muy Mala   \n",
       "4                                      Mala   \n",
       "\n",
       "  Y qué imagen tiene Ud. de Cristina Fernández de Kirchner?  \\\n",
       "0                                           Muy Mala          \n",
       "1                                            No sabe          \n",
       "2                                           Muy Mala          \n",
       "3                                          Muy buena          \n",
       "4                                               Mala          \n",
       "\n",
       "  Y qué imagen tiene Ud. de María Eugenia Vidal?  \\\n",
       "0                                          Buena   \n",
       "1                                        No sabe   \n",
       "2                                      Muy buena   \n",
       "3                                           Mala   \n",
       "4                                           Mala   \n",
       "\n",
       "  Y qué imagen tiene Ud. de Sergio Massa?  \\\n",
       "0                                   Buena   \n",
       "1                                 No sabe   \n",
       "2                        Regular positiva   \n",
       "3                                    Mala   \n",
       "4                        Regular positiva   \n",
       "\n",
       "  Y qué imagen tiene Ud. de Elisa Carrió?  \\\n",
       "0                                   Buena   \n",
       "1                                 No sabe   \n",
       "2                                   Buena   \n",
       "3                                Muy Mala   \n",
       "4                                    Mala   \n",
       "\n",
       "  Y qué imagen tiene Ud. de Marcos Peña?  \\\n",
       "0                                  Buena   \n",
       "1                                No sabe   \n",
       "2                                  Buena   \n",
       "3                               Muy Mala   \n",
       "4                                   Mala   \n",
       "\n",
       "  ¿A qué espacio político diría usted que se siente más cercano?  \\\n",
       "0                                        A cambiemos               \n",
       "1                                     Al radicalismo               \n",
       "2                                     Al radicalismo               \n",
       "3                          A ningún espacio político               \n",
       "4                                             A otro               \n",
       "\n",
       "  13. ¿Cuan probable es para usted votar a presidente por Mauricio Macri, Maria Eugenia Vidal o un candidato que ellos apoyen? Usted diría que…  \\\n",
       "0                            Es probable que la vote                                                                                              \n",
       "1                                            No sabe                                                                                              \n",
       "2                           Muy probable que la vote                                                                                              \n",
       "3                                   Nunca lo votaría                                                                                              \n",
       "4                                   Nunca lo votaría                                                                                              \n",
       "\n",
       "  ¿Y cuan probable es para usted votar a presidente por Cristina Fernández de Kirchner o un candidato que ella apoye? Usted diría que…  \\\n",
       "0                                   Nunca lo votaría                                                                                     \n",
       "1                       Es poco probable que lo vote                                                                                     \n",
       "2                                   Nunca lo votaría                                                                                     \n",
       "3                           Muy probable que la vote                                                                                     \n",
       "4                                   Nunca lo votaría                                                                                     \n",
       "\n",
       "  ¿Y cuan probable es para usted votar a presidente por Sergio Massa o un candidato que él apoye? Usted diría que…  \\\n",
       "0                                            No sabe                                                                 \n",
       "1                                            No sabe                                                                 \n",
       "2                                   Nunca lo votaría                                                                 \n",
       "3                                   Nunca lo votaría                                                                 \n",
       "4                       Es poco probable que lo vote                                                                 \n",
       "\n",
       "  ¿Y cuan probable es para usted votar a presidente a un candidato del Peronismo? Usted diría que…  \\\n",
       "0                       Es poco probable que lo vote                                                 \n",
       "1                                            No sabe                                                 \n",
       "2                                   Nunca lo votaría                                                 \n",
       "3                       Es poco probable que lo vote                                                 \n",
       "4                                   Nunca lo votaría                                                 \n",
       "\n",
       "  ¿Cuál de los siguientes estados de ánimo le despierta hoy a Ud. la situación del país?  \\\n",
       "0                                          Esperanza                                       \n",
       "1                                          Esperanza                                       \n",
       "2                                            No sabe                                       \n",
       "3                                           Tristeza                                       \n",
       "4                                              Enojo                                       \n",
       "\n",
       "  ¿Cuál de los siguientes estados de ánimo le despierta hoy a Ud. la situación de su municipio?  \\\n",
       "0                                          Esperanza                                              \n",
       "1                                       Preocupación                                              \n",
       "2                                          Esperanza                                              \n",
       "3                                            No sabe                                              \n",
       "4                                              Enojo                                              \n",
       "\n",
       "  Según su opinión cómo es la situación económica hoy en el país?  \\\n",
       "0                                   Regular positiva                \n",
       "1                                   Regular positiva                \n",
       "2                                   Regular positiva                \n",
       "3                                               Mala                \n",
       "4                                               Mala                \n",
       "\n",
       "  y como es su situación económica personal?  \\\n",
       "0                                      Buena   \n",
       "1                           Regular positiva   \n",
       "2                           Regular positiva   \n",
       "3                           Regular negativa   \n",
       "4                           Regular positiva   \n",
       "\n",
       "  Teniendo en cuenta sus gastos habituales. ¿Cuánto cree Ud. que comprara en supermercado en los próximos meses?  \\\n",
       "0                        Compraré lo mismo que antes                                                               \n",
       "1                                            No sabe                                                               \n",
       "2                        Compraré lo mismo que antes                                                               \n",
       "3                           Compraré menos que antes                                                               \n",
       "4                                            No sabe                                                               \n",
       "\n",
       "  Y ¿Cuánto cree Ud. que comprara en indumentaria en los próximos meses?  \\\n",
       "0                                            No sabe                       \n",
       "1                                            No sabe                       \n",
       "2                        Compraré lo mismo que antes                       \n",
       "3                           Compraré menos que antes                       \n",
       "4                                            No sabe                       \n",
       "\n",
       "  Y ¿Cuánto cree Ud. Consumirá en Salidas y Ocio en los próximos meses?  \\\n",
       "0                       Consumiré lo mismo que antes                      \n",
       "1                                            No sabe                      \n",
       "2                       Consumiré lo mismo que antes                      \n",
       "3                          Consumiré menos que antes                      \n",
       "4                                            No sabe                      \n",
       "\n",
       "  Y en relación a los Viajes y escapadas, considera que en los próximos meses…  \\\n",
       "0                            Viajaré igual que antes                             \n",
       "1                                            No sabe                             \n",
       "2                            Viajaré igual que antes                             \n",
       "3                            Viajaré menos que antes                             \n",
       "4                                            No sabe                             \n",
       "\n",
       "  ¿Cree que la inflación al día de hoy es…  \\\n",
       "0                                    Media   \n",
       "1                                    Media   \n",
       "2                                     Baja   \n",
       "3                                     Alta   \n",
       "4                                     Alta   \n",
       "\n",
       "  Y en los próximos tres meses usted cree que la inflación  \\\n",
       "0                                            No Sabe         \n",
       "1                                            No Sabe         \n",
       "2                                            No Sabe         \n",
       "3                                 Se mantendrá igual         \n",
       "4                                          Aumentará         \n",
       "\n",
       "  ¿Cree que las posibilidades de perder su empleo en los próximos tres meses son…  \\\n",
       "0                                            No Sabe                                \n",
       "1                                            No Sabe                                \n",
       "2                                            No Sabe                                \n",
       "3                                              Pocas                                \n",
       "4                                            No Sabe                                \n",
       "\n",
       "  Respecto a sus tarjetas de crédito y/o préstamos bancarios. ¿Qué tan endeudado se siente Ud.?  \\\n",
       "0                                     Nada endeudado                                              \n",
       "1                                     Nada endeudado                                              \n",
       "2                                     Poco endeudado                                              \n",
       "3                                     Poco endeudado                                              \n",
       "4                                     Nada endeudado                                              \n",
       "\n",
       "  Cambiando de tema, podría decirnos cuál es su condición de actividad? Es decir, cuál es su principal actividad?  \\\n",
       "0                          Soy jubilado o pensionado                                                                \n",
       "1                                     Soy desocupado                                                                \n",
       "2                          Soy jubilado o pensionado                                                                \n",
       "3                     Trabajo, soy obrero o empleado                                                                \n",
       "4                       Trabajo, soy cuenta propista                                                                \n",
       "\n",
       "  Cambiando de tema, ¿cuál considera usted que es la principal problemática de la actualidad entre las siguientes opciones?  \\\n",
       "0                                         Corrupción                                                                          \n",
       "1                                                NaN                                                                          \n",
       "2                                                NaN                                                                          \n",
       "3                                         Corrupción                                                                          \n",
       "4                                       Narcotráfico                                                                          \n",
       "\n",
       "  ¿Y cuál considera usted que es la principal problemática de su ciudad de entre las siguientes opciones?  \\\n",
       "0                                   Falta de cloacas                                                        \n",
       "1                                                NaN                                                        \n",
       "2                                                NaN                                                        \n",
       "3                         Estado de calles y veredas                                                        \n",
       "4                  La falta de limpieza de la ciudad                                                        \n",
       "\n",
       "   Cantidad                                         ProvMunLoc   RadioCensal  \\\n",
       "0         1  BUENOS AIRES             SAN MIGUEL           ...  06.760.13.03   \n",
       "1         1  BUENOS AIRES             ESTEBAN ECHEVERRIA   ...  06.260.16.06   \n",
       "2         1  CAPITAL FEDERAL          CAPITAL FEDERAL      ...  02.014.25.05   \n",
       "3         1  BUENOS AIRES             ESTEBAN ECHEVERRIA   ...  06.260.07.08   \n",
       "4         1  BUENOS AIRES             TRES DE FEBRERO      ...  06.840.31.06   \n",
       "\n",
       "  NSE         FC                                          ProvMunFC  \\\n",
       "0  C2  06.760.13  BUENOS AIRES             SAN MIGUEL           ...   \n",
       "1  C3  06.260.16  BUENOS AIRES             ESTEBAN ECHEVERRIA   ...   \n",
       "2  C1  02.014.25  CAPITAL FEDERAL          Comuna 14            ...   \n",
       "3  C2  06.260.07  BUENOS AIRES             ESTEBAN ECHEVERRIA   ...   \n",
       "4  C2  06.840.31  BUENOS AIRES             TRES DE FEBRERO      ...   \n",
       "\n",
       "      Localidad                                      ProvMun  \\\n",
       "0   BELLA VISTA          BUENOS AIRES             SAN MIGUEL   \n",
       "1  MONTE GRANDE  BUENOS AIRES             ESTEBAN ECHEVERRIA   \n",
       "2       PALERMO           CAPITAL FEDERAL          Comuna 14   \n",
       "3  MONTE GRANDE  BUENOS AIRES             ESTEBAN ECHEVERRIA   \n",
       "4     CIUDADELA     BUENOS AIRES             TRES DE FEBRERO   \n",
       "\n",
       "              PorvLoc                                        ProvMunFC_A  \\\n",
       "0          SAN MIGUEL  BUENOS AIRES             SAN MIGUEL           ...   \n",
       "1  ESTEBAN ECHEVERRIA  BUENOS AIRES             ESTEBAN ECHEVERRIA   ...   \n",
       "2     CAPITAL FEDERAL  CAPITAL FEDERAL          Comuna 14            ...   \n",
       "3  ESTEBAN ECHEVERRIA  BUENOS AIRES             ESTEBAN ECHEVERRIA   ...   \n",
       "4     TRES DE FEBRERO  BUENOS AIRES             TRES DE FEBRERO      ...   \n",
       "\n",
       "        SE        Zona PonderFinal8  \n",
       "0  1era SE  2do Cordon        1,393  \n",
       "1  3era SE  2do Cordon       0,5361  \n",
       "2     CABA        CABA       0,1178  \n",
       "3  3era SE  2do Cordon       0,5005  \n",
       "4  1era SE  1er Cordon       0,3864  "
      ]
     },
     "execution_count": 3,
     "metadata": {},
     "output_type": "execute_result"
    }
   ],
   "source": [
    "train_df.head()"
   ]
  },
  {
   "cell_type": "code",
   "execution_count": 3,
   "metadata": {},
   "outputs": [],
   "source": [
    "test_df = pd.read_csv('BASE_AMBA_NORM_enero2018.csv')\n",
    "train_df = pd.read_csv('BASE_AMBA_NORM_marzo2018.csv')"
   ]
  },
  {
   "cell_type": "markdown",
   "metadata": {},
   "source": [
    "Chequeo que tan completos están los datos"
   ]
  },
  {
   "cell_type": "code",
   "execution_count": 5,
   "metadata": {},
   "outputs": [
    {
     "name": "stdout",
     "output_type": "stream",
     "text": [
      "<class 'pandas.core.frame.DataFrame'>\n",
      "RangeIndex: 1428 entries, 0 to 1427\n",
      "Data columns (total 40 columns):\n",
      "%date%                               1428 non-null object\n",
      "%cid%                                1428 non-null int64\n",
      "Genero                               1428 non-null object\n",
      "Edad                                 1428 non-null object\n",
      "Estudios                             1428 non-null object\n",
      "gobierno_macri                       1422 non-null object\n",
      "gobierno_vidal                       1390 non-null object\n",
      "gobierno_intendente                  1373 non-null object\n",
      "imagen_macri                         1279 non-null object\n",
      "imagen_cfk                           1264 non-null object\n",
      "imagen_vidal                         1266 non-null object\n",
      "imagen_massa                         1242 non-null object\n",
      "imagen_carrio                        1230 non-null object\n",
      "partido_politico                     1216 non-null object\n",
      "voto_cambiemos                       1185 non-null object\n",
      "voto_cfk                             1166 non-null object\n",
      "voto_massa                           1147 non-null object\n",
      "voto_peronismo                       1127 non-null object\n",
      "emocion_pais                         1116 non-null object\n",
      "emocion_municipio                    1109 non-null object\n",
      "economia_pais                        1100 non-null object\n",
      "economia_personal                    1088 non-null object\n",
      "inflacion                            1070 non-null object\n",
      "inflacion_futuro                     1074 non-null object\n",
      "posibilidad_perdida_empleo           1036 non-null object\n",
      "actividad_personal                   1012 non-null object\n",
      "principal_problematica_actualidad    770 non-null object\n",
      "principal_problematica_ciudad        740 non-null object\n",
      "ProvMunLoc                           1428 non-null object\n",
      "RadioCensal                          1428 non-null object\n",
      "NSE                                  1428 non-null object\n",
      "FC                                   1428 non-null object\n",
      "ProvMunFC                            1428 non-null object\n",
      "Localidad                            1428 non-null object\n",
      "ProvMun                              1428 non-null object\n",
      "PorvLoc                              1428 non-null object\n",
      "ProvMunFC_A                          1428 non-null object\n",
      "SE                                   1428 non-null object\n",
      "zona                                 1428 non-null object\n",
      "PonderFinal8                         1428 non-null object\n",
      "dtypes: int64(1), object(39)\n",
      "memory usage: 446.3+ KB\n"
     ]
    }
   ],
   "source": [
    "train_df.info()"
   ]
  },
  {
   "cell_type": "markdown",
   "metadata": {},
   "source": [
    "Elimino las filas con missing values"
   ]
  },
  {
   "cell_type": "code",
   "execution_count": 4,
   "metadata": {},
   "outputs": [
    {
     "data": {
      "text/plain": [
       "(769, 40)"
      ]
     },
     "execution_count": 4,
     "metadata": {},
     "output_type": "execute_result"
    }
   ],
   "source": [
    "train_df.dropna(subset=['principal_problematica_actualidad'], inplace=True)\n",
    "train_df.dropna(subset=['voto_cambiemos'], inplace=True)\n",
    "test_df.dropna(subset=['principal_problematica_actualidad'], inplace=True)\n",
    "test_df.dropna(subset=['voto_cambiemos'], inplace=True)\n",
    "train_df.shape"
   ]
  },
  {
   "cell_type": "markdown",
   "metadata": {},
   "source": [
    "Analizo las respuestas del campo a predecir\n"
   ]
  },
  {
   "cell_type": "code",
   "execution_count": 5,
   "metadata": {},
   "outputs": [
    {
     "data": {
      "text/plain": [
       "array(['Es poco probable que lo vote', 'Es probable que la vote',\n",
       "       'Muy probable que la vote', 'No sabe', 'Nunca lo votaría'],\n",
       "      dtype=object)"
      ]
     },
     "execution_count": 5,
     "metadata": {},
     "output_type": "execute_result"
    }
   ],
   "source": [
    "np.unique(train_df['voto_cambiemos'].values)"
   ]
  },
  {
   "cell_type": "markdown",
   "metadata": {},
   "source": [
    "Analizo el resto de los campos"
   ]
  },
  {
   "cell_type": "code",
   "execution_count": 6,
   "metadata": {},
   "outputs": [
    {
     "data": {
      "text/html": [
       "<div>\n",
       "<style scoped>\n",
       "    .dataframe tbody tr th:only-of-type {\n",
       "        vertical-align: middle;\n",
       "    }\n",
       "\n",
       "    .dataframe tbody tr th {\n",
       "        vertical-align: top;\n",
       "    }\n",
       "\n",
       "    .dataframe thead th {\n",
       "        text-align: right;\n",
       "    }\n",
       "</style>\n",
       "<table border=\"1\" class=\"dataframe\">\n",
       "  <thead>\n",
       "    <tr style=\"text-align: right;\">\n",
       "      <th></th>\n",
       "      <th>%date%</th>\n",
       "      <th>Genero</th>\n",
       "      <th>Edad</th>\n",
       "      <th>Estudios</th>\n",
       "      <th>gobierno_macri</th>\n",
       "      <th>gobierno_vidal</th>\n",
       "      <th>gobierno_intendente</th>\n",
       "      <th>imagen_macri</th>\n",
       "      <th>imagen_cfk</th>\n",
       "      <th>imagen_vidal</th>\n",
       "      <th>imagen_massa</th>\n",
       "      <th>imagen_carrio</th>\n",
       "      <th>partido_politico</th>\n",
       "      <th>voto_cambiemos</th>\n",
       "      <th>voto_cfk</th>\n",
       "      <th>voto_massa</th>\n",
       "      <th>voto_peronismo</th>\n",
       "      <th>emocion_pais</th>\n",
       "      <th>emocion_municipio</th>\n",
       "      <th>economia_pais</th>\n",
       "      <th>economia_personal</th>\n",
       "      <th>inflacion</th>\n",
       "      <th>inflacion_futuro</th>\n",
       "      <th>posibilidad_perdida_empleo</th>\n",
       "      <th>actividad_personal</th>\n",
       "      <th>principal_problematica_actualidad</th>\n",
       "      <th>principal_problematica_ciudad</th>\n",
       "      <th>ProvMunLoc</th>\n",
       "      <th>RadioCensal</th>\n",
       "      <th>NSE</th>\n",
       "      <th>FC</th>\n",
       "      <th>ProvMunFC</th>\n",
       "      <th>Localidad</th>\n",
       "      <th>ProvMun</th>\n",
       "      <th>PorvLoc</th>\n",
       "      <th>ProvMunFC_A</th>\n",
       "      <th>SE</th>\n",
       "      <th>zona</th>\n",
       "      <th>PonderFinal8</th>\n",
       "    </tr>\n",
       "  </thead>\n",
       "  <tbody>\n",
       "    <tr>\n",
       "      <th>count</th>\n",
       "      <td>769</td>\n",
       "      <td>769</td>\n",
       "      <td>769</td>\n",
       "      <td>769</td>\n",
       "      <td>768</td>\n",
       "      <td>768</td>\n",
       "      <td>769</td>\n",
       "      <td>769</td>\n",
       "      <td>769</td>\n",
       "      <td>769</td>\n",
       "      <td>769</td>\n",
       "      <td>768</td>\n",
       "      <td>769</td>\n",
       "      <td>769</td>\n",
       "      <td>769</td>\n",
       "      <td>769</td>\n",
       "      <td>769</td>\n",
       "      <td>768</td>\n",
       "      <td>768</td>\n",
       "      <td>768</td>\n",
       "      <td>768</td>\n",
       "      <td>762</td>\n",
       "      <td>769</td>\n",
       "      <td>767</td>\n",
       "      <td>769</td>\n",
       "      <td>769</td>\n",
       "      <td>738</td>\n",
       "      <td>769</td>\n",
       "      <td>769</td>\n",
       "      <td>769</td>\n",
       "      <td>769</td>\n",
       "      <td>769</td>\n",
       "      <td>769</td>\n",
       "      <td>769</td>\n",
       "      <td>769</td>\n",
       "      <td>769</td>\n",
       "      <td>769</td>\n",
       "      <td>769</td>\n",
       "      <td>769</td>\n",
       "    </tr>\n",
       "    <tr>\n",
       "      <th>unique</th>\n",
       "      <td>4</td>\n",
       "      <td>2</td>\n",
       "      <td>5</td>\n",
       "      <td>3</td>\n",
       "      <td>7</td>\n",
       "      <td>7</td>\n",
       "      <td>7</td>\n",
       "      <td>7</td>\n",
       "      <td>7</td>\n",
       "      <td>7</td>\n",
       "      <td>7</td>\n",
       "      <td>7</td>\n",
       "      <td>9</td>\n",
       "      <td>5</td>\n",
       "      <td>5</td>\n",
       "      <td>5</td>\n",
       "      <td>5</td>\n",
       "      <td>7</td>\n",
       "      <td>7</td>\n",
       "      <td>7</td>\n",
       "      <td>7</td>\n",
       "      <td>4</td>\n",
       "      <td>4</td>\n",
       "      <td>6</td>\n",
       "      <td>9</td>\n",
       "      <td>9</td>\n",
       "      <td>9</td>\n",
       "      <td>176</td>\n",
       "      <td>661</td>\n",
       "      <td>7</td>\n",
       "      <td>500</td>\n",
       "      <td>520</td>\n",
       "      <td>176</td>\n",
       "      <td>39</td>\n",
       "      <td>25</td>\n",
       "      <td>520</td>\n",
       "      <td>3</td>\n",
       "      <td>3</td>\n",
       "      <td>726</td>\n",
       "    </tr>\n",
       "    <tr>\n",
       "      <th>top</th>\n",
       "      <td>24-mar-18</td>\n",
       "      <td>Feme</td>\n",
       "      <td>45-59</td>\n",
       "      <td>TUoS</td>\n",
       "      <td>Muy Mala</td>\n",
       "      <td>Muy buena</td>\n",
       "      <td>Regular positiva</td>\n",
       "      <td>Muy buena</td>\n",
       "      <td>Muy Mala</td>\n",
       "      <td>Muy buena</td>\n",
       "      <td>Regular positiva</td>\n",
       "      <td>Muy buena</td>\n",
       "      <td>A ningún espacio político</td>\n",
       "      <td>Nunca lo votaría</td>\n",
       "      <td>Nunca lo votaría</td>\n",
       "      <td>Nunca lo votaría</td>\n",
       "      <td>Nunca lo votaría</td>\n",
       "      <td>Preocupación</td>\n",
       "      <td>Preocupación</td>\n",
       "      <td>Regular positiva</td>\n",
       "      <td>Regular positiva</td>\n",
       "      <td>Alta</td>\n",
       "      <td>Aumentará</td>\n",
       "      <td>Ninguna</td>\n",
       "      <td>Soy jubilado o pensionado</td>\n",
       "      <td>Corrupción</td>\n",
       "      <td>Estado del hospital y centros de salud</td>\n",
       "      <td>BUENOS AIRES             LOMAS DE ZAMORA      ...</td>\n",
       "      <td>?</td>\n",
       "      <td>C2</td>\n",
       "      <td>?</td>\n",
       "      <td>BUENOS AIRES             GENERAL SAN MARTIN   ...</td>\n",
       "      <td>BANFIELD</td>\n",
       "      <td>BUENOS AIRES             LA MATANZA</td>\n",
       "      <td>CAPITAL FEDERAL</td>\n",
       "      <td>BUENOS AIRES             GENERAL SAN MARTIN   ...</td>\n",
       "      <td>3era SE</td>\n",
       "      <td>2do Cordon</td>\n",
       "      <td>0,0263</td>\n",
       "    </tr>\n",
       "    <tr>\n",
       "      <th>freq</th>\n",
       "      <td>427</td>\n",
       "      <td>400</td>\n",
       "      <td>274</td>\n",
       "      <td>367</td>\n",
       "      <td>190</td>\n",
       "      <td>228</td>\n",
       "      <td>172</td>\n",
       "      <td>189</td>\n",
       "      <td>255</td>\n",
       "      <td>292</td>\n",
       "      <td>197</td>\n",
       "      <td>211</td>\n",
       "      <td>274</td>\n",
       "      <td>266</td>\n",
       "      <td>415</td>\n",
       "      <td>349</td>\n",
       "      <td>267</td>\n",
       "      <td>284</td>\n",
       "      <td>241</td>\n",
       "      <td>257</td>\n",
       "      <td>289</td>\n",
       "      <td>466</td>\n",
       "      <td>346</td>\n",
       "      <td>163</td>\n",
       "      <td>259</td>\n",
       "      <td>159</td>\n",
       "      <td>158</td>\n",
       "      <td>18</td>\n",
       "      <td>88</td>\n",
       "      <td>272</td>\n",
       "      <td>88</td>\n",
       "      <td>12</td>\n",
       "      <td>18</td>\n",
       "      <td>79</td>\n",
       "      <td>187</td>\n",
       "      <td>12</td>\n",
       "      <td>318</td>\n",
       "      <td>328</td>\n",
       "      <td>4</td>\n",
       "    </tr>\n",
       "  </tbody>\n",
       "</table>\n",
       "</div>"
      ],
      "text/plain": [
       "           %date% Genero   Edad Estudios gobierno_macri gobierno_vidal  \\\n",
       "count         769    769    769      769            768            768   \n",
       "unique          4      2      5        3              7              7   \n",
       "top     24-mar-18   Feme  45-59     TUoS       Muy Mala      Muy buena   \n",
       "freq          427    400    274      367            190            228   \n",
       "\n",
       "       gobierno_intendente imagen_macri imagen_cfk imagen_vidal  \\\n",
       "count                  769          769        769          769   \n",
       "unique                   7            7          7            7   \n",
       "top       Regular positiva    Muy buena   Muy Mala    Muy buena   \n",
       "freq                   172          189        255          292   \n",
       "\n",
       "            imagen_massa imagen_carrio           partido_politico  \\\n",
       "count                769           768                        769   \n",
       "unique                 7             7                          9   \n",
       "top     Regular positiva     Muy buena  A ningún espacio político   \n",
       "freq                 197           211                        274   \n",
       "\n",
       "          voto_cambiemos          voto_cfk        voto_massa  \\\n",
       "count                769               769               769   \n",
       "unique                 5                 5                 5   \n",
       "top     Nunca lo votaría  Nunca lo votaría  Nunca lo votaría   \n",
       "freq                 266               415               349   \n",
       "\n",
       "          voto_peronismo  emocion_pais emocion_municipio     economia_pais  \\\n",
       "count                769           768               768               768   \n",
       "unique                 5             7                 7                 7   \n",
       "top     Nunca lo votaría  Preocupación      Preocupación  Regular positiva   \n",
       "freq                 267           284               241               257   \n",
       "\n",
       "       economia_personal inflacion inflacion_futuro  \\\n",
       "count                768       762              769   \n",
       "unique                 7         4                4   \n",
       "top     Regular positiva      Alta        Aumentará   \n",
       "freq                 289       466              346   \n",
       "\n",
       "       posibilidad_perdida_empleo         actividad_personal  \\\n",
       "count                         767                        769   \n",
       "unique                          6                          9   \n",
       "top                       Ninguna  Soy jubilado o pensionado   \n",
       "freq                          163                        259   \n",
       "\n",
       "       principal_problematica_actualidad  \\\n",
       "count                                769   \n",
       "unique                                 9   \n",
       "top                           Corrupción   \n",
       "freq                                 159   \n",
       "\n",
       "                 principal_problematica_ciudad  \\\n",
       "count                                      738   \n",
       "unique                                       9   \n",
       "top     Estado del hospital y centros de salud   \n",
       "freq                                       158   \n",
       "\n",
       "                                               ProvMunLoc RadioCensal  NSE  \\\n",
       "count                                                 769         769  769   \n",
       "unique                                                176         661    7   \n",
       "top     BUENOS AIRES             LOMAS DE ZAMORA      ...           ?   C2   \n",
       "freq                                                   18          88  272   \n",
       "\n",
       "         FC                                          ProvMunFC Localidad  \\\n",
       "count   769                                                769       769   \n",
       "unique  500                                                520       176   \n",
       "top       ?  BUENOS AIRES             GENERAL SAN MARTIN   ...  BANFIELD   \n",
       "freq     88                                                 12        18   \n",
       "\n",
       "                                    ProvMun          PorvLoc  \\\n",
       "count                                   769              769   \n",
       "unique                                   39               25   \n",
       "top     BUENOS AIRES             LA MATANZA  CAPITAL FEDERAL   \n",
       "freq                                     79              187   \n",
       "\n",
       "                                              ProvMunFC_A       SE  \\\n",
       "count                                                 769      769   \n",
       "unique                                                520        3   \n",
       "top     BUENOS AIRES             GENERAL SAN MARTIN   ...  3era SE   \n",
       "freq                                                   12      318   \n",
       "\n",
       "              zona PonderFinal8  \n",
       "count          769          769  \n",
       "unique           3          726  \n",
       "top     2do Cordon       0,0263  \n",
       "freq           328            4  "
      ]
     },
     "execution_count": 6,
     "metadata": {},
     "output_type": "execute_result"
    }
   ],
   "source": [
    "train_df.describe(include=['O'])"
   ]
  },
  {
   "cell_type": "markdown",
   "metadata": {},
   "source": [
    "Casteo los strings a integer, con criterios semanticos ordenados lo mas posible\n"
   ]
  },
  {
   "cell_type": "code",
   "execution_count": 7,
   "metadata": {},
   "outputs": [],
   "source": [
    "#casteo todos los strings\n",
    "age_mapping = {\"16-29\": 1, \"30-44\": 2, \"45-59\": 3, \"60-74\": 4, \"75 o mas\": 5}\n",
    "\n",
    "train_df['Edad'] = train_df['Edad'].map(age_mapping).astype(int)\n",
    "test_df['Edad'] = test_df['Edad'].map(age_mapping).astype(int)\n",
    "\n",
    "\n",
    "gender_mapping = {\"Feme\": 1, \"Masc\": 0}\n",
    "\n",
    "train_df['Genero'] = train_df['Genero'].map(gender_mapping).astype(int)\n",
    "test_df['Genero'] = test_df['Genero'].map(gender_mapping).astype(int)\n",
    "\n",
    "########### IMAGENES ############\n",
    "imagen_mapping = {'Muy Mala':1, \n",
    "                  'Mala':2, \n",
    "                  'Regular negativa':3,\n",
    "                  'No sabe':4,\n",
    "                  'Regular positiva':5, \n",
    "                  'Buena':6,\n",
    "                  'Muy buena':7 }\n",
    "\n",
    "train_df['imagen_macri'] = train_df['imagen_macri'].map(imagen_mapping)\n",
    "train_df['imagen_macri'] = train_df['imagen_macri'].fillna(0).astype(int)\n",
    "train_df['imagen_cfk'] = train_df['imagen_cfk'].map(imagen_mapping)\n",
    "train_df['imagen_cfk'] = train_df['imagen_cfk'].fillna(0).astype(int)\n",
    "train_df['imagen_vidal'] = train_df['imagen_vidal'].map(imagen_mapping)\n",
    "train_df['imagen_vidal'] = train_df['imagen_vidal'].fillna(0).astype(int)\n",
    "train_df['imagen_carrio'] = train_df['imagen_carrio'].map(imagen_mapping)\n",
    "train_df['imagen_carrio'] = train_df['imagen_carrio'].fillna(0).astype(int)\n",
    "train_df['economia_pais'] = train_df['economia_pais'].map(imagen_mapping)\n",
    "train_df['economia_pais'] = train_df['economia_pais'].fillna(0).astype(int)\n",
    "train_df['economia_personal'] = train_df['economia_personal'].map(imagen_mapping)\n",
    "train_df['economia_personal'] = train_df['economia_personal'].fillna(0).astype(int)\n",
    "test_df['imagen_macri'] = test_df['imagen_macri'].map(imagen_mapping)\n",
    "test_df['imagen_macri'] = test_df['imagen_macri'].fillna(0).astype(int)\n",
    "test_df['imagen_cfk'] = test_df['imagen_cfk'].map(imagen_mapping)\n",
    "test_df['imagen_cfk'] = test_df['imagen_cfk'].fillna(0).astype(int)\n",
    "test_df['imagen_vidal'] = test_df['imagen_vidal'].map(imagen_mapping)\n",
    "test_df['imagen_vidal'] = test_df['imagen_vidal'].fillna(0).astype(int)\n",
    "test_df['imagen_carrio'] = test_df['imagen_carrio'].map(imagen_mapping)\n",
    "test_df['imagen_carrio'] = test_df['imagen_carrio'].fillna(0).astype(int)\n",
    "test_df['economia_pais'] = test_df['economia_pais'].map(imagen_mapping)\n",
    "test_df['economia_pais'] = test_df['economia_pais'].fillna(0).astype(int)\n",
    "test_df['economia_personal'] = test_df['economia_personal'].map(imagen_mapping)\n",
    "test_df['economia_personal'] = test_df['economia_personal'].fillna(0).astype(int)\n",
    "\n",
    "\n",
    "principal_problematica_actualidad_mapping = {'Desempleo':1,\n",
    "                                             'Aumento de tarifas de servicios p\\xc3\\xbablicos':2,\n",
    "                                             'Pobreza':3, \n",
    "                                             'Falta de Vivienda':4,\n",
    "                                             'No sabe':5,\n",
    "                                             'Inseguridad':6,\n",
    "                                             'Inflaci\\xc3\\xb3n':7,\n",
    "                                             'Narcotr\\xc3\\xa1fico':8,\n",
    "                                             'Corrupci\\xc3\\xb3n':9,\n",
    "                                            }\n",
    "\n",
    "\n",
    "train_df['principal_problematica_actualidad'] = train_df['principal_problematica_actualidad'].map(principal_problematica_actualidad_mapping)\n",
    "train_df['principal_problematica_actualidad'] = train_df['principal_problematica_actualidad'].fillna(0).astype(int)\n",
    "test_df['principal_problematica_actualidad'] = test_df['principal_problematica_actualidad'].map(principal_problematica_actualidad_mapping)\n",
    "test_df['principal_problematica_actualidad'] = test_df['principal_problematica_actualidad'].fillna(0).astype(int)\n",
    "\n",
    "emocion_pais_mapping = {'Tristeza':1, \n",
    "                        'Enojo':2,\n",
    "                        'Preocupaci\\xc3\\xb3n':3,\n",
    "                        'No sabe':4,\n",
    "                        'Esperanza':5,\n",
    "                        'Tranquilidad':6,  \n",
    "                        'Alegr\\xc3\\xada':7}\n",
    "\n",
    "train_df['emocion_pais'] = train_df['emocion_pais'].map(emocion_pais_mapping)\n",
    "train_df['emocion_pais'] = train_df['emocion_pais'].fillna(0).astype(int)\n",
    "test_df['emocion_pais'] = test_df['emocion_pais'].map(emocion_pais_mapping)\n",
    "test_df['emocion_pais'] = test_df['emocion_pais'].fillna(0).astype(int)\n",
    "actividad_personal_mapping = {'Soy jubilado o pensionado':7, 'Trabajo, soy cuenta propista':2,\n",
    "       'Trabajo, soy trabajador familiar sin remuneración':8,\n",
    "       'Soy desocupado':9, 'Trabajo, soy obrero o empleado':6, 'Otro':4,\n",
    "       'Trabajo, soy patrón':1, 'Soy estudiante':3, 'No sabe':5}\n",
    "\n",
    "train_df['actividad_personal'] = train_df['actividad_personal'].map(actividad_personal_mapping)\n",
    "train_df['actividad_personal'] = train_df['actividad_personal'].fillna(0).astype(int)\n",
    "test_df['actividad_personal'] = test_df['actividad_personal'].map(actividad_personal_mapping)\n",
    "test_df['actividad_personal'] = test_df['actividad_personal'].fillna(0).astype(int)\n",
    "\n",
    "#### INFLACION ######\n",
    "inflacion_mapping = {'Baja':1,\n",
    "                     'No Sabe':2,\n",
    "                     'Media':3,                       \n",
    "                     'Alta':4\n",
    "                     }\n",
    "\n",
    "train_df['inflacion'] = train_df['inflacion'].map(inflacion_mapping)\n",
    "train_df['inflacion'] = train_df['inflacion'].fillna(0).astype(int)\n",
    "test_df['inflacion'] = test_df['inflacion'].map(inflacion_mapping)\n",
    "test_df['inflacion'] = test_df['inflacion'].fillna(0).astype(int)\n",
    "\n",
    "inflacion_futuro_mapping = {'Disminuirá':1,\n",
    "                            'Se mantendrá igual':2, \n",
    "                            'No Sabe':3, \n",
    "                            'Aumentará':4, \n",
    "                            }\n",
    "\n",
    "train_df['inflacion_futuro'] = train_df['inflacion_futuro'].map(inflacion_futuro_mapping)\n",
    "train_df['inflacion_futuro'] = train_df['inflacion_futuro'].fillna(0).astype(int)\n",
    "test_df['inflacion_futuro'] = test_df['inflacion_futuro'].map(inflacion_futuro_mapping)\n",
    "test_df['inflacion_futuro'] = test_df['inflacion_futuro'].fillna(0).astype(int)\n",
    "\n",
    "\n",
    "\n",
    "\n",
    "\n",
    "\n",
    "\n",
    "posibilidad_perdida_empleo_mapping = {'Ninguna':1,\n",
    "                                      'Pocas':2,\n",
    "                                      'Algunas':3,\n",
    "                                      'No Sabe':4,\n",
    "                                      'Muchas':5, \n",
    "                                      'Bastantes':6, \n",
    "                                      }\n",
    "\n",
    "train_df['posibilidad_perdida_empleo'] = train_df['posibilidad_perdida_empleo'].map(posibilidad_perdida_empleo_mapping)\n",
    "train_df['posibilidad_perdida_empleo'] = train_df['posibilidad_perdida_empleo'].fillna(0).astype(int)\n",
    "test_df['posibilidad_perdida_empleo'] = test_df['posibilidad_perdida_empleo'].map(posibilidad_perdida_empleo_mapping)\n",
    "test_df['posibilidad_perdida_empleo'] = test_df['posibilidad_perdida_empleo'].fillna(0).astype(int)\n",
    "\n",
    "\n",
    "\n",
    "\n",
    "\n",
    "#### INTENCION DE VOTO #####\n",
    "voto_cambiemos_mapping = {'Nunca lo votaría':1, \n",
    "                          'Es poco probable que lo vote':2, \n",
    "                          'No sabe':3,\n",
    "                         'Es probable que la vote':4,\n",
    "                          'Muy probable que la vote':5}\n",
    "\n",
    "\n",
    "train_df['voto_cfk'] = train_df['voto_cfk'].map(voto_cambiemos_mapping)\n",
    "train_df['voto_cfk'] = train_df['voto_cfk'].fillna(0).astype(int)\n",
    "test_df['voto_cfk'] = test_df['voto_cfk'].map(voto_cambiemos_mapping)\n",
    "test_df['voto_cfk'] = test_df['voto_cfk'].fillna(0).astype(int)\n",
    "\n",
    "\n",
    "#train_df['voto_cambiemos_str'] = train_df['voto_cambiemos_str'].fillna(\"No contesta\").astpye(str)\n",
    "train_df['voto_cambiemos_str'] =train_df['voto_cambiemos']\n",
    "test_df['voto_cambiemos_str'] =test_df['voto_cambiemos']\n",
    "train_df['voto_cambiemos'] = train_df['voto_cambiemos'].map(voto_cambiemos_mapping)\n",
    "train_df['voto_cambiemos'] = train_df['voto_cambiemos'].fillna(0).astype(int)\n",
    "test_df['voto_cambiemos'] = test_df['voto_cambiemos'].map(voto_cambiemos_mapping)\n",
    "test_df['voto_cambiemos'] = test_df['voto_cambiemos'].fillna(0).astype(int)\n",
    "\n",
    "#train_df['voto_cambiemos_reducido'] = train_df['voto_cambiemos'].map(voto_cambiemos_mapping_2)\n",
    "#test_df['voto_cambiemos_reducido'] = test_df['voto_cambiemos'].map(voto_cambiemos_mapping_2)\n",
    "\n",
    "\n",
    "#train_df['voto_cfk_reducido'] = train_df['voto_cfk'].map(voto_cambiemos_mapping)\n",
    "#train_df['voto_cfk_reducido'] = train_df['voto_cfk'].fillna(0).astype(int)\n",
    "#test_df['voto_cfk_reducido'] = test_df['voto_cfk'].map(voto_cambiemos_mapping)\n",
    "#test_df['voto_cfk_reducido'] = test_df['voto_cfk'].fillna(0).astype(int)\n",
    "#Me quedo con los codigos de area\n",
    "train_df['%cid%'] = train_df['%cid%'].astype(str).str[5:8]\n",
    "train_df['%cid%'] = pd.to_numeric(train_df['%cid%'])\n",
    "test_df['%cid%'] = test_df['%cid%'].astype(str).str[5:8]\n",
    "test_df['%cid%'] = pd.to_numeric(test_df['%cid%'])\n",
    "#df_filtered = train_df.filter(items=['inflacion', 'emocion_pais','inflacion_futuro',\n",
    "#                                     'posibilidad_perdida_empleo','zona',\n",
    " #                                    'economia_pais','responsable_tarifazo','imagen_cta','PorvLoc','voto_cambiemos_reducido'])\n",
    "#train_df['kirchnerismo'] =train_df['imagen_cfk']*train_df['voto_cfk']\n",
    "#train_df['imagen_cambiemos'] = train_df['imagen_macri']*train_df['imagen_vidal']\n",
    "#test_df['kirchnerismo'] =test_df['imagen_cfk']*test_df['voto_cfk']\n",
    "#test_df['imagen_cambiemos'] = test_df['imagen_macri']*test_df['imagen_vidal']"
   ]
  },
  {
   "cell_type": "markdown",
   "metadata": {},
   "source": [
    "Chequeo correlaciones de parametros con el voto a macri"
   ]
  },
  {
   "cell_type": "code",
   "execution_count": 9,
   "metadata": {},
   "outputs": [
    {
     "data": {
      "text/html": [
       "<div>\n",
       "<style scoped>\n",
       "    .dataframe tbody tr th:only-of-type {\n",
       "        vertical-align: middle;\n",
       "    }\n",
       "\n",
       "    .dataframe tbody tr th {\n",
       "        vertical-align: top;\n",
       "    }\n",
       "\n",
       "    .dataframe thead th {\n",
       "        text-align: right;\n",
       "    }\n",
       "</style>\n",
       "<table border=\"1\" class=\"dataframe\">\n",
       "  <thead>\n",
       "    <tr style=\"text-align: right;\">\n",
       "      <th></th>\n",
       "      <th>voto_cambiemos_str</th>\n",
       "      <th>imagen_macri</th>\n",
       "    </tr>\n",
       "  </thead>\n",
       "  <tbody>\n",
       "    <tr>\n",
       "      <th>2</th>\n",
       "      <td>Muy probable que la vote</td>\n",
       "      <td>6.451087</td>\n",
       "    </tr>\n",
       "    <tr>\n",
       "      <th>1</th>\n",
       "      <td>Es probable que la vote</td>\n",
       "      <td>5.570093</td>\n",
       "    </tr>\n",
       "    <tr>\n",
       "      <th>3</th>\n",
       "      <td>No sabe</td>\n",
       "      <td>4.277778</td>\n",
       "    </tr>\n",
       "    <tr>\n",
       "      <th>0</th>\n",
       "      <td>Es poco probable que lo vote</td>\n",
       "      <td>3.543860</td>\n",
       "    </tr>\n",
       "    <tr>\n",
       "      <th>4</th>\n",
       "      <td>Nunca lo votaría</td>\n",
       "      <td>1.670157</td>\n",
       "    </tr>\n",
       "  </tbody>\n",
       "</table>\n",
       "</div>"
      ],
      "text/plain": [
       "             voto_cambiemos_str  imagen_macri\n",
       "2      Muy probable que la vote      6.451087\n",
       "1       Es probable que la vote      5.570093\n",
       "3                       No sabe      4.277778\n",
       "0  Es poco probable que lo vote      3.543860\n",
       "4              Nunca lo votaría      1.670157"
      ]
     },
     "execution_count": 9,
     "metadata": {},
     "output_type": "execute_result"
    }
   ],
   "source": [
    "train_df[['voto_cambiemos_str', 'imagen_macri']].groupby(['voto_cambiemos_str'], as_index=False).mean().sort_values(by='imagen_macri', ascending=False)"
   ]
  },
  {
   "cell_type": "code",
   "execution_count": 12,
   "metadata": {},
   "outputs": [
    {
     "data": {
      "image/png": "[encoded data removed]",
      "text/plain": [
       "<Figure size 1080x216 with 5 Axes>"
      ]
     },
     "metadata": {},
     "output_type": "display_data"
    }
   ],
   "source": [
    "g = sns.FacetGrid(train_df, col='voto_cambiemos_str')\n",
    "g.map(plt.hist, 'imagen_macri', bins=20)\n",
    "plt.show()"
   ]
  },
  {
   "cell_type": "code",
   "execution_count": 11,
   "metadata": {},
   "outputs": [
    {
     "data": {
      "text/html": [
       "<div>\n",
       "<style scoped>\n",
       "    .dataframe tbody tr th:only-of-type {\n",
       "        vertical-align: middle;\n",
       "    }\n",
       "\n",
       "    .dataframe tbody tr th {\n",
       "        vertical-align: top;\n",
       "    }\n",
       "\n",
       "    .dataframe thead th {\n",
       "        text-align: right;\n",
       "    }\n",
       "</style>\n",
       "<table border=\"1\" class=\"dataframe\">\n",
       "  <thead>\n",
       "    <tr style=\"text-align: right;\">\n",
       "      <th></th>\n",
       "      <th>voto_cambiemos_str</th>\n",
       "      <th>imagen_vidal</th>\n",
       "    </tr>\n",
       "  </thead>\n",
       "  <tbody>\n",
       "    <tr>\n",
       "      <th>2</th>\n",
       "      <td>Muy probable que la vote</td>\n",
       "      <td>6.701087</td>\n",
       "    </tr>\n",
       "    <tr>\n",
       "      <th>1</th>\n",
       "      <td>Es probable que la vote</td>\n",
       "      <td>6.355140</td>\n",
       "    </tr>\n",
       "    <tr>\n",
       "      <th>3</th>\n",
       "      <td>No sabe</td>\n",
       "      <td>5.000000</td>\n",
       "    </tr>\n",
       "    <tr>\n",
       "      <th>0</th>\n",
       "      <td>Es poco probable que lo vote</td>\n",
       "      <td>4.771930</td>\n",
       "    </tr>\n",
       "    <tr>\n",
       "      <th>4</th>\n",
       "      <td>Nunca lo votaría</td>\n",
       "      <td>2.277487</td>\n",
       "    </tr>\n",
       "  </tbody>\n",
       "</table>\n",
       "</div>"
      ],
      "text/plain": [
       "             voto_cambiemos_str  imagen_vidal\n",
       "2      Muy probable que la vote      6.701087\n",
       "1       Es probable que la vote      6.355140\n",
       "3                       No sabe      5.000000\n",
       "0  Es poco probable que lo vote      4.771930\n",
       "4              Nunca lo votaría      2.277487"
      ]
     },
     "execution_count": 11,
     "metadata": {},
     "output_type": "execute_result"
    }
   ],
   "source": [
    "train_df[['voto_cambiemos_str', 'imagen_vidal']].groupby(['voto_cambiemos_str'], as_index=False).mean().sort_values(by='imagen_vidal', ascending=False)"
   ]
  },
  {
   "cell_type": "code",
   "execution_count": 13,
   "metadata": {},
   "outputs": [
    {
     "data": {
      "image/png": "[encoded data removed]",
      "text/plain": [
       "<Figure size 1080x216 with 5 Axes>"
      ]
     },
     "metadata": {},
     "output_type": "display_data"
    }
   ],
   "source": [
    "g = sns.FacetGrid(train_df, col='voto_cambiemos_str')\n",
    "g.map(plt.hist, 'imagen_vidal', bins=20)\n",
    "plt.show()"
   ]
  },
  {
   "cell_type": "code",
   "execution_count": 12,
   "metadata": {},
   "outputs": [
    {
     "data": {
      "text/html": [
       "<div>\n",
       "<style scoped>\n",
       "    .dataframe tbody tr th:only-of-type {\n",
       "        vertical-align: middle;\n",
       "    }\n",
       "\n",
       "    .dataframe tbody tr th {\n",
       "        vertical-align: top;\n",
       "    }\n",
       "\n",
       "    .dataframe thead th {\n",
       "        text-align: right;\n",
       "    }\n",
       "</style>\n",
       "<table border=\"1\" class=\"dataframe\">\n",
       "  <thead>\n",
       "    <tr style=\"text-align: right;\">\n",
       "      <th></th>\n",
       "      <th>voto_cambiemos_str</th>\n",
       "      <th>voto_cfk</th>\n",
       "    </tr>\n",
       "  </thead>\n",
       "  <tbody>\n",
       "    <tr>\n",
       "      <th>4</th>\n",
       "      <td>Nunca lo votaría</td>\n",
       "      <td>3.848168</td>\n",
       "    </tr>\n",
       "    <tr>\n",
       "      <th>0</th>\n",
       "      <td>Es poco probable que lo vote</td>\n",
       "      <td>2.175439</td>\n",
       "    </tr>\n",
       "    <tr>\n",
       "      <th>3</th>\n",
       "      <td>No sabe</td>\n",
       "      <td>1.907407</td>\n",
       "    </tr>\n",
       "    <tr>\n",
       "      <th>1</th>\n",
       "      <td>Es probable que la vote</td>\n",
       "      <td>1.392523</td>\n",
       "    </tr>\n",
       "    <tr>\n",
       "      <th>2</th>\n",
       "      <td>Muy probable que la vote</td>\n",
       "      <td>1.239130</td>\n",
       "    </tr>\n",
       "  </tbody>\n",
       "</table>\n",
       "</div>"
      ],
      "text/plain": [
       "             voto_cambiemos_str  voto_cfk\n",
       "4              Nunca lo votaría  3.848168\n",
       "0  Es poco probable que lo vote  2.175439\n",
       "3                       No sabe  1.907407\n",
       "1       Es probable que la vote  1.392523\n",
       "2      Muy probable que la vote  1.239130"
      ]
     },
     "execution_count": 12,
     "metadata": {},
     "output_type": "execute_result"
    }
   ],
   "source": [
    "train_df[['voto_cambiemos_str', 'voto_cfk']].groupby(['voto_cambiemos_str'], as_index=False).mean().sort_values(by='voto_cfk', ascending=False)"
   ]
  },
  {
   "cell_type": "code",
   "execution_count": 14,
   "metadata": {},
   "outputs": [
    {
     "data": {
      "image/png": "[encoded data removed]",
      "text/plain": [
       "<Figure size 1080x216 with 5 Axes>"
      ]
     },
     "metadata": {},
     "output_type": "display_data"
    }
   ],
   "source": [
    "g = sns.FacetGrid(train_df, col='voto_cambiemos_str')\n",
    "g.map(plt.hist, 'voto_cfk', bins=20)\n",
    "plt.show()"
   ]
  },
  {
   "cell_type": "code",
   "execution_count": 13,
   "metadata": {},
   "outputs": [
    {
     "data": {
      "text/html": [
       "<div>\n",
       "<style scoped>\n",
       "    .dataframe tbody tr th:only-of-type {\n",
       "        vertical-align: middle;\n",
       "    }\n",
       "\n",
       "    .dataframe tbody tr th {\n",
       "        vertical-align: top;\n",
       "    }\n",
       "\n",
       "    .dataframe thead th {\n",
       "        text-align: right;\n",
       "    }\n",
       "</style>\n",
       "<table border=\"1\" class=\"dataframe\">\n",
       "  <thead>\n",
       "    <tr style=\"text-align: right;\">\n",
       "      <th></th>\n",
       "      <th>voto_cambiemos_str</th>\n",
       "      <th>economia_pais</th>\n",
       "    </tr>\n",
       "  </thead>\n",
       "  <tbody>\n",
       "    <tr>\n",
       "      <th>2</th>\n",
       "      <td>Muy probable que la vote</td>\n",
       "      <td>5.103261</td>\n",
       "    </tr>\n",
       "    <tr>\n",
       "      <th>1</th>\n",
       "      <td>Es probable que la vote</td>\n",
       "      <td>4.373832</td>\n",
       "    </tr>\n",
       "    <tr>\n",
       "      <th>3</th>\n",
       "      <td>No sabe</td>\n",
       "      <td>3.351852</td>\n",
       "    </tr>\n",
       "    <tr>\n",
       "      <th>0</th>\n",
       "      <td>Es poco probable que lo vote</td>\n",
       "      <td>2.719298</td>\n",
       "    </tr>\n",
       "    <tr>\n",
       "      <th>4</th>\n",
       "      <td>Nunca lo votaría</td>\n",
       "      <td>1.727749</td>\n",
       "    </tr>\n",
       "  </tbody>\n",
       "</table>\n",
       "</div>"
      ],
      "text/plain": [
       "             voto_cambiemos_str  economia_pais\n",
       "2      Muy probable que la vote       5.103261\n",
       "1       Es probable que la vote       4.373832\n",
       "3                       No sabe       3.351852\n",
       "0  Es poco probable que lo vote       2.719298\n",
       "4              Nunca lo votaría       1.727749"
      ]
     },
     "execution_count": 13,
     "metadata": {},
     "output_type": "execute_result"
    }
   ],
   "source": [
    "train_df[['voto_cambiemos_str', 'economia_pais']].groupby(['voto_cambiemos_str'], as_index=False).mean().sort_values(by='economia_pais', ascending=False)"
   ]
  },
  {
   "cell_type": "code",
   "execution_count": 16,
   "metadata": {},
   "outputs": [
    {
     "data": {
      "image/png": "[encoded data removed]",
      "text/plain": [
       "<Figure size 1080x216 with 5 Axes>"
      ]
     },
     "metadata": {},
     "output_type": "display_data"
    }
   ],
   "source": [
    "g = sns.FacetGrid(train_df, col='voto_cambiemos_str')\n",
    "g.map(plt.hist, 'economia_pais', bins=20)\n",
    "plt.show()"
   ]
  },
  {
   "cell_type": "code",
   "execution_count": 14,
   "metadata": {},
   "outputs": [
    {
     "data": {
      "text/html": [
       "<div>\n",
       "<style scoped>\n",
       "    .dataframe tbody tr th:only-of-type {\n",
       "        vertical-align: middle;\n",
       "    }\n",
       "\n",
       "    .dataframe tbody tr th {\n",
       "        vertical-align: top;\n",
       "    }\n",
       "\n",
       "    .dataframe thead th {\n",
       "        text-align: right;\n",
       "    }\n",
       "</style>\n",
       "<table border=\"1\" class=\"dataframe\">\n",
       "  <thead>\n",
       "    <tr style=\"text-align: right;\">\n",
       "      <th></th>\n",
       "      <th>voto_cambiemos_str</th>\n",
       "      <th>emocion_pais</th>\n",
       "    </tr>\n",
       "  </thead>\n",
       "  <tbody>\n",
       "    <tr>\n",
       "      <th>2</th>\n",
       "      <td>Muy probable que la vote</td>\n",
       "      <td>3.494565</td>\n",
       "    </tr>\n",
       "    <tr>\n",
       "      <th>1</th>\n",
       "      <td>Es probable que la vote</td>\n",
       "      <td>2.495327</td>\n",
       "    </tr>\n",
       "    <tr>\n",
       "      <th>3</th>\n",
       "      <td>No sabe</td>\n",
       "      <td>1.592593</td>\n",
       "    </tr>\n",
       "    <tr>\n",
       "      <th>4</th>\n",
       "      <td>Nunca lo votaría</td>\n",
       "      <td>1.094241</td>\n",
       "    </tr>\n",
       "    <tr>\n",
       "      <th>0</th>\n",
       "      <td>Es poco probable que lo vote</td>\n",
       "      <td>0.771930</td>\n",
       "    </tr>\n",
       "  </tbody>\n",
       "</table>\n",
       "</div>"
      ],
      "text/plain": [
       "             voto_cambiemos_str  emocion_pais\n",
       "2      Muy probable que la vote      3.494565\n",
       "1       Es probable que la vote      2.495327\n",
       "3                       No sabe      1.592593\n",
       "4              Nunca lo votaría      1.094241\n",
       "0  Es poco probable que lo vote      0.771930"
      ]
     },
     "execution_count": 14,
     "metadata": {},
     "output_type": "execute_result"
    }
   ],
   "source": [
    "train_df[['voto_cambiemos_str', 'emocion_pais']].groupby(['voto_cambiemos_str'], as_index=False).mean().sort_values(by='emocion_pais', ascending=False)"
   ]
  },
  {
   "cell_type": "code",
   "execution_count": 17,
   "metadata": {},
   "outputs": [
    {
     "data": {
      "image/png": "[encoded data removed]",
      "text/plain": [
       "<Figure size 1080x216 with 5 Axes>"
      ]
     },
     "metadata": {},
     "output_type": "display_data"
    }
   ],
   "source": [
    "g = sns.FacetGrid(train_df, col='voto_cambiemos_str')\n",
    "g.map(plt.hist, 'emocion_pais', bins=20)\n",
    "plt.show()"
   ]
  },
  {
   "cell_type": "code",
   "execution_count": 20,
   "metadata": {},
   "outputs": [
    {
     "data": {
      "text/html": [
       "<div>\n",
       "<style scoped>\n",
       "    .dataframe tbody tr th:only-of-type {\n",
       "        vertical-align: middle;\n",
       "    }\n",
       "\n",
       "    .dataframe tbody tr th {\n",
       "        vertical-align: top;\n",
       "    }\n",
       "\n",
       "    .dataframe thead th {\n",
       "        text-align: right;\n",
       "    }\n",
       "</style>\n",
       "<table border=\"1\" class=\"dataframe\">\n",
       "  <thead>\n",
       "    <tr style=\"text-align: right;\">\n",
       "      <th></th>\n",
       "      <th>voto_cambiemos_str</th>\n",
       "      <th>inflacion_futuro</th>\n",
       "    </tr>\n",
       "  </thead>\n",
       "  <tbody>\n",
       "    <tr>\n",
       "      <th>4</th>\n",
       "      <td>Nunca lo votaría</td>\n",
       "      <td>3.582707</td>\n",
       "    </tr>\n",
       "    <tr>\n",
       "      <th>0</th>\n",
       "      <td>Es poco probable que lo vote</td>\n",
       "      <td>3.183908</td>\n",
       "    </tr>\n",
       "    <tr>\n",
       "      <th>3</th>\n",
       "      <td>No sabe</td>\n",
       "      <td>3.150943</td>\n",
       "    </tr>\n",
       "    <tr>\n",
       "      <th>1</th>\n",
       "      <td>Es probable que la vote</td>\n",
       "      <td>2.508065</td>\n",
       "    </tr>\n",
       "    <tr>\n",
       "      <th>2</th>\n",
       "      <td>Muy probable que la vote</td>\n",
       "      <td>1.928870</td>\n",
       "    </tr>\n",
       "  </tbody>\n",
       "</table>\n",
       "</div>"
      ],
      "text/plain": [
       "             voto_cambiemos_str  inflacion_futuro\n",
       "4              Nunca lo votaría          3.582707\n",
       "0  Es poco probable que lo vote          3.183908\n",
       "3                       No sabe          3.150943\n",
       "1       Es probable que la vote          2.508065\n",
       "2      Muy probable que la vote          1.928870"
      ]
     },
     "execution_count": 20,
     "metadata": {},
     "output_type": "execute_result"
    }
   ],
   "source": [
    "train_df[['voto_cambiemos_str', 'inflacion_futuro']].groupby(['voto_cambiemos_str'], as_index=False).mean().sort_values(by='inflacion_futuro', ascending=False)"
   ]
  },
  {
   "cell_type": "code",
   "execution_count": 19,
   "metadata": {},
   "outputs": [
    {
     "data": {
      "text/html": [
       "<div>\n",
       "<style scoped>\n",
       "    .dataframe tbody tr th:only-of-type {\n",
       "        vertical-align: middle;\n",
       "    }\n",
       "\n",
       "    .dataframe tbody tr th {\n",
       "        vertical-align: top;\n",
       "    }\n",
       "\n",
       "    .dataframe thead th {\n",
       "        text-align: right;\n",
       "    }\n",
       "</style>\n",
       "<table border=\"1\" class=\"dataframe\">\n",
       "  <thead>\n",
       "    <tr style=\"text-align: right;\">\n",
       "      <th></th>\n",
       "      <th>voto_cambiemos_str</th>\n",
       "      <th>inflacion</th>\n",
       "    </tr>\n",
       "  </thead>\n",
       "  <tbody>\n",
       "    <tr>\n",
       "      <th>4</th>\n",
       "      <td>Nunca lo votaría</td>\n",
       "      <td>3.541353</td>\n",
       "    </tr>\n",
       "    <tr>\n",
       "      <th>0</th>\n",
       "      <td>Es poco probable que lo vote</td>\n",
       "      <td>3.471264</td>\n",
       "    </tr>\n",
       "    <tr>\n",
       "      <th>1</th>\n",
       "      <td>Es probable que la vote</td>\n",
       "      <td>3.354839</td>\n",
       "    </tr>\n",
       "    <tr>\n",
       "      <th>3</th>\n",
       "      <td>No sabe</td>\n",
       "      <td>3.188679</td>\n",
       "    </tr>\n",
       "    <tr>\n",
       "      <th>2</th>\n",
       "      <td>Muy probable que la vote</td>\n",
       "      <td>3.138075</td>\n",
       "    </tr>\n",
       "  </tbody>\n",
       "</table>\n",
       "</div>"
      ],
      "text/plain": [
       "             voto_cambiemos_str  inflacion\n",
       "4              Nunca lo votaría   3.541353\n",
       "0  Es poco probable que lo vote   3.471264\n",
       "1       Es probable que la vote   3.354839\n",
       "3                       No sabe   3.188679\n",
       "2      Muy probable que la vote   3.138075"
      ]
     },
     "execution_count": 19,
     "metadata": {},
     "output_type": "execute_result"
    }
   ],
   "source": [
    "train_df[['voto_cambiemos_str', 'inflacion']].groupby(['voto_cambiemos_str'], as_index=False).mean().sort_values(by='inflacion', ascending=False)"
   ]
  },
  {
   "cell_type": "code",
   "execution_count": 15,
   "metadata": {},
   "outputs": [
    {
     "data": {
      "text/html": [
       "<div>\n",
       "<style scoped>\n",
       "    .dataframe tbody tr th:only-of-type {\n",
       "        vertical-align: middle;\n",
       "    }\n",
       "\n",
       "    .dataframe tbody tr th {\n",
       "        vertical-align: top;\n",
       "    }\n",
       "\n",
       "    .dataframe thead th {\n",
       "        text-align: right;\n",
       "    }\n",
       "</style>\n",
       "<table border=\"1\" class=\"dataframe\">\n",
       "  <thead>\n",
       "    <tr style=\"text-align: right;\">\n",
       "      <th></th>\n",
       "      <th>voto_cambiemos_str</th>\n",
       "      <th>Edad</th>\n",
       "    </tr>\n",
       "  </thead>\n",
       "  <tbody>\n",
       "    <tr>\n",
       "      <th>2</th>\n",
       "      <td>Muy probable que la vote</td>\n",
       "      <td>3.369565</td>\n",
       "    </tr>\n",
       "    <tr>\n",
       "      <th>3</th>\n",
       "      <td>No sabe</td>\n",
       "      <td>3.222222</td>\n",
       "    </tr>\n",
       "    <tr>\n",
       "      <th>1</th>\n",
       "      <td>Es probable que la vote</td>\n",
       "      <td>3.168224</td>\n",
       "    </tr>\n",
       "    <tr>\n",
       "      <th>0</th>\n",
       "      <td>Es poco probable que lo vote</td>\n",
       "      <td>3.000000</td>\n",
       "    </tr>\n",
       "    <tr>\n",
       "      <th>4</th>\n",
       "      <td>Nunca lo votaría</td>\n",
       "      <td>2.748691</td>\n",
       "    </tr>\n",
       "  </tbody>\n",
       "</table>\n",
       "</div>"
      ],
      "text/plain": [
       "             voto_cambiemos_str      Edad\n",
       "2      Muy probable que la vote  3.369565\n",
       "3                       No sabe  3.222222\n",
       "1       Es probable que la vote  3.168224\n",
       "0  Es poco probable que lo vote  3.000000\n",
       "4              Nunca lo votaría  2.748691"
      ]
     },
     "execution_count": 15,
     "metadata": {},
     "output_type": "execute_result"
    }
   ],
   "source": [
    "train_df[['voto_cambiemos_str', 'Edad']].groupby(['voto_cambiemos_str'], as_index=False).mean().sort_values(by='Edad', ascending=False)"
   ]
  },
  {
   "cell_type": "code",
   "execution_count": 16,
   "metadata": {},
   "outputs": [
    {
     "data": {
      "text/html": [
       "<div>\n",
       "<style scoped>\n",
       "    .dataframe tbody tr th:only-of-type {\n",
       "        vertical-align: middle;\n",
       "    }\n",
       "\n",
       "    .dataframe tbody tr th {\n",
       "        vertical-align: top;\n",
       "    }\n",
       "\n",
       "    .dataframe thead th {\n",
       "        text-align: right;\n",
       "    }\n",
       "</style>\n",
       "<table border=\"1\" class=\"dataframe\">\n",
       "  <thead>\n",
       "    <tr style=\"text-align: right;\">\n",
       "      <th></th>\n",
       "      <th>voto_cambiemos_str</th>\n",
       "      <th>Genero</th>\n",
       "    </tr>\n",
       "  </thead>\n",
       "  <tbody>\n",
       "    <tr>\n",
       "      <th>2</th>\n",
       "      <td>Muy probable que la vote</td>\n",
       "      <td>0.532609</td>\n",
       "    </tr>\n",
       "    <tr>\n",
       "      <th>0</th>\n",
       "      <td>Es poco probable que lo vote</td>\n",
       "      <td>0.526316</td>\n",
       "    </tr>\n",
       "    <tr>\n",
       "      <th>4</th>\n",
       "      <td>Nunca lo votaría</td>\n",
       "      <td>0.523560</td>\n",
       "    </tr>\n",
       "    <tr>\n",
       "      <th>3</th>\n",
       "      <td>No sabe</td>\n",
       "      <td>0.481481</td>\n",
       "    </tr>\n",
       "    <tr>\n",
       "      <th>1</th>\n",
       "      <td>Es probable que la vote</td>\n",
       "      <td>0.476636</td>\n",
       "    </tr>\n",
       "  </tbody>\n",
       "</table>\n",
       "</div>"
      ],
      "text/plain": [
       "             voto_cambiemos_str    Genero\n",
       "2      Muy probable que la vote  0.532609\n",
       "0  Es poco probable que lo vote  0.526316\n",
       "4              Nunca lo votaría  0.523560\n",
       "3                       No sabe  0.481481\n",
       "1       Es probable que la vote  0.476636"
      ]
     },
     "execution_count": 16,
     "metadata": {},
     "output_type": "execute_result"
    }
   ],
   "source": [
    "train_df[['voto_cambiemos_str', 'Genero']].groupby(['voto_cambiemos_str'], as_index=False).mean().sort_values(by='Genero', ascending=False)"
   ]
  },
  {
   "cell_type": "code",
   "execution_count": 17,
   "metadata": {},
   "outputs": [
    {
     "data": {
      "text/html": [
       "<div>\n",
       "<style scoped>\n",
       "    .dataframe tbody tr th:only-of-type {\n",
       "        vertical-align: middle;\n",
       "    }\n",
       "\n",
       "    .dataframe tbody tr th {\n",
       "        vertical-align: top;\n",
       "    }\n",
       "\n",
       "    .dataframe thead th {\n",
       "        text-align: right;\n",
       "    }\n",
       "</style>\n",
       "<table border=\"1\" class=\"dataframe\">\n",
       "  <thead>\n",
       "    <tr style=\"text-align: right;\">\n",
       "      <th></th>\n",
       "      <th>voto_cambiemos_str</th>\n",
       "      <th>principal_problematica_actualidad</th>\n",
       "    </tr>\n",
       "  </thead>\n",
       "  <tbody>\n",
       "    <tr>\n",
       "      <th>0</th>\n",
       "      <td>Es poco probable que lo vote</td>\n",
       "      <td>1.789474</td>\n",
       "    </tr>\n",
       "    <tr>\n",
       "      <th>2</th>\n",
       "      <td>Muy probable que la vote</td>\n",
       "      <td>1.592391</td>\n",
       "    </tr>\n",
       "    <tr>\n",
       "      <th>1</th>\n",
       "      <td>Es probable que la vote</td>\n",
       "      <td>1.485981</td>\n",
       "    </tr>\n",
       "    <tr>\n",
       "      <th>3</th>\n",
       "      <td>No sabe</td>\n",
       "      <td>1.407407</td>\n",
       "    </tr>\n",
       "    <tr>\n",
       "      <th>4</th>\n",
       "      <td>Nunca lo votaría</td>\n",
       "      <td>1.303665</td>\n",
       "    </tr>\n",
       "  </tbody>\n",
       "</table>\n",
       "</div>"
      ],
      "text/plain": [
       "             voto_cambiemos_str  principal_problematica_actualidad\n",
       "0  Es poco probable que lo vote                           1.789474\n",
       "2      Muy probable que la vote                           1.592391\n",
       "1       Es probable que la vote                           1.485981\n",
       "3                       No sabe                           1.407407\n",
       "4              Nunca lo votaría                           1.303665"
      ]
     },
     "execution_count": 17,
     "metadata": {},
     "output_type": "execute_result"
    }
   ],
   "source": [
    "train_df[['voto_cambiemos_str', 'principal_problematica_actualidad']].groupby(['voto_cambiemos_str'], as_index=False).mean().sort_values(by='principal_problematica_actualidad', ascending=False)"
   ]
  },
  {
   "cell_type": "code",
   "execution_count": 18,
   "metadata": {},
   "outputs": [
    {
     "data": {
      "image/png": "[encoded data removed]",
      "text/plain": [
       "<Figure size 1080x1080 with 2 Axes>"
      ]
     },
     "metadata": {},
     "output_type": "display_data"
    }
   ],
   "source": [
    "corrmat = train_df.corr()\n",
    "k = 20 #number of variables for heatmap\n",
    "cols = corrmat.nlargest(k, 'voto_cambiemos')['voto_cambiemos'].index\n",
    "cm = np.corrcoef(train_df[cols].values.T)\n",
    "sns.set(font_scale=1.25)\n",
    "fig, ax = plt.subplots(figsize=(15,15))  \n",
    "hm = sns.heatmap(cm, cbar=True, annot=True, square=True, fmt='.1f', annot_kws={'size': 10}, yticklabels=cols.values, xticklabels=cols.values)\n",
    "\n",
    "plt.show()"
   ]
  },
  {
   "cell_type": "markdown",
   "metadata": {},
   "source": [
    "## Selección de features"
   ]
  },
  {
   "cell_type": "markdown",
   "metadata": {},
   "source": [
    "Voy a dividir el data set en 3, uno con campos mas \"obvios\" o muy correlacionados, otro sin ellos y otro con menos campos aún, para hacerlo mas desafiante.<br>\n",
    "\n"
   ]
  },
  {
   "cell_type": "code",
   "execution_count": 25,
   "metadata": {},
   "outputs": [],
   "source": [
    "df_filtered = train_df.filter(items=[\n",
    "                                     'emocion_pais',\n",
    "                                     'economia_pais',\n",
    "                                     'economia_personal',\n",
    "                                     'inflacion',\n",
    "                                     'actividad_personal',\n",
    "                                     'posibilidad_perdida_empleo',\n",
    "                                     'Edad',\n",
    "                                     'inflacion_futuro',\n",
    "                                     'voto_cambiemos'])\n",
    "df_more_filtered = train_df.filter(items=['principal_problematica_actualidad', \n",
    "                                     'emocion_pais',\n",
    "                                     'economia_pais',\n",
    "                                     'economia_personal',\n",
    "                                     'inflacion',                                     \n",
    "                                     'inflacion_futuro',\n",
    "                                     'voto_cambiemos'])\n",
    "\n",
    "df_obvio = train_df.filter(items=['imagen_macri',\n",
    "                                  'economia_pais',\n",
    "                                  'emocion_pais',\n",
    "                                  'economia_personal',\n",
    "                                  'voto_cambiemos',\n",
    "                                     'imagen_cfk',\n",
    "                                  'imagen_vidal',\n",
    "                                  ])\n"
   ]
  },
  {
   "cell_type": "markdown",
   "metadata": {},
   "source": [
    "## Entrenamientos"
   ]
  },
  {
   "cell_type": "markdown",
   "metadata": {},
   "source": [
    "### Naive Bayes, RandomFores, Regresion Logistica, KNN, SVM"
   ]
  },
  {
   "cell_type": "markdown",
   "metadata": {},
   "source": [
    "Selecciono las columnas mas correlacionadas"
   ]
  },
  {
   "cell_type": "markdown",
   "metadata": {},
   "source": [
    "Clasifico con los algoritmos comunes"
   ]
  },
  {
   "cell_type": "code",
   "execution_count": 23,
   "metadata": {},
   "outputs": [],
   "source": [
    "from sklearn.model_selection import train_test_split\n",
    "def clasificadores(X,y):\n",
    "    X, X_test, y, y_test = train_test_split(X, y, test_size=0.2, random_state=42)\n",
    "    knn = KNeighborsClassifier(n_neighbors = 3)\n",
    "    knn.fit(X, y)\n",
    "\n",
    "    acc_knn = round(knn.score(X_test, y_test) * 100, 2)\n",
    "\n",
    "\n",
    "    random_forest = RandomForestClassifier(n_estimators=100)\n",
    "    random_forest.fit(X, y)\n",
    "\n",
    "    acc_random_forest = round(random_forest.score(X_test, y_test) * 100, 2)\n",
    "\n",
    "\n",
    "    gaussian = GaussianNB()\n",
    "    gaussian.fit(X, y)\n",
    "\n",
    "    acc_gaussian = round(gaussian.score(X_test, y_test) * 100, 2)\n",
    "\n",
    "\n",
    "    logreg = LogisticRegression()\n",
    "    logreg.fit(X, y)\n",
    "\n",
    "    acc_log = round(logreg.score(X_test, y_test) * 100, 2)\n",
    "\n",
    "\n",
    "    svc = SVC()\n",
    "    svc.fit(X, y)\n",
    "\n",
    "    acc_svc = round(svc.score(X_test, y_test) * 100, 2)\n",
    "\n",
    "\n",
    "    decision_tree = DecisionTreeClassifier()\n",
    "    decision_tree.fit(X, y)\n",
    "\n",
    "    acc_decision_tree = round(decision_tree.score(X_test, y_test) * 100, 2)\n",
    "    return [acc_svc, acc_knn, acc_log, acc_random_forest, acc_gaussian, acc_decision_tree]\n",
    "\n"
   ]
  },
  {
   "cell_type": "code",
   "execution_count": 26,
   "metadata": {},
   "outputs": [
    {
     "name": "stderr",
     "output_type": "stream",
     "text": [
      "/home/monteagudo/.local/lib/python3.5/site-packages/ipykernel_launcher.py:5: DataConversionWarning: A column-vector y was passed when a 1d array was expected. Please change the shape of y to (n_samples, ), for example using ravel().\n",
      "  \"\"\"\n",
      "/home/monteagudo/.local/lib/python3.5/site-packages/ipykernel_launcher.py:11: DataConversionWarning: A column-vector y was passed when a 1d array was expected. Please change the shape of y to (n_samples,), for example using ravel().\n",
      "  # This is added back by InteractiveShellApp.init_path()\n",
      "/home/monteagudo/.local/lib/python3.5/site-packages/sklearn/utils/validation.py:578: DataConversionWarning: A column-vector y was passed when a 1d array was expected. Please change the shape of y to (n_samples, ), for example using ravel().\n",
      "  y = column_or_1d(y, warn=True)\n",
      "/home/monteagudo/.local/lib/python3.5/site-packages/ipykernel_launcher.py:5: DataConversionWarning: A column-vector y was passed when a 1d array was expected. Please change the shape of y to (n_samples, ), for example using ravel().\n",
      "  \"\"\"\n",
      "/home/monteagudo/.local/lib/python3.5/site-packages/ipykernel_launcher.py:11: DataConversionWarning: A column-vector y was passed when a 1d array was expected. Please change the shape of y to (n_samples,), for example using ravel().\n",
      "  # This is added back by InteractiveShellApp.init_path()\n",
      "/home/monteagudo/.local/lib/python3.5/site-packages/sklearn/utils/validation.py:578: DataConversionWarning: A column-vector y was passed when a 1d array was expected. Please change the shape of y to (n_samples, ), for example using ravel().\n",
      "  y = column_or_1d(y, warn=True)\n",
      "/home/monteagudo/.local/lib/python3.5/site-packages/ipykernel_launcher.py:5: DataConversionWarning: A column-vector y was passed when a 1d array was expected. Please change the shape of y to (n_samples, ), for example using ravel().\n",
      "  \"\"\"\n",
      "/home/monteagudo/.local/lib/python3.5/site-packages/ipykernel_launcher.py:11: DataConversionWarning: A column-vector y was passed when a 1d array was expected. Please change the shape of y to (n_samples,), for example using ravel().\n",
      "  # This is added back by InteractiveShellApp.init_path()\n",
      "/home/monteagudo/.local/lib/python3.5/site-packages/sklearn/utils/validation.py:578: DataConversionWarning: A column-vector y was passed when a 1d array was expected. Please change the shape of y to (n_samples, ), for example using ravel().\n",
      "  y = column_or_1d(y, warn=True)\n"
     ]
    },
    {
     "data": {
      "text/html": [
       "<div>\n",
       "<style scoped>\n",
       "    .dataframe tbody tr th:only-of-type {\n",
       "        vertical-align: middle;\n",
       "    }\n",
       "\n",
       "    .dataframe tbody tr th {\n",
       "        vertical-align: top;\n",
       "    }\n",
       "\n",
       "    .dataframe thead th {\n",
       "        text-align: right;\n",
       "    }\n",
       "</style>\n",
       "<table border=\"1\" class=\"dataframe\">\n",
       "  <thead>\n",
       "    <tr style=\"text-align: right;\">\n",
       "      <th></th>\n",
       "      <th>Clasificador</th>\n",
       "      <th>Obvio</th>\n",
       "      <th>Filtrado</th>\n",
       "      <th>Mas Filtrado</th>\n",
       "    </tr>\n",
       "  </thead>\n",
       "  <tbody>\n",
       "    <tr>\n",
       "      <th>3</th>\n",
       "      <td>Random Forest</td>\n",
       "      <td>66.23</td>\n",
       "      <td>57.79</td>\n",
       "      <td>61.04</td>\n",
       "    </tr>\n",
       "    <tr>\n",
       "      <th>5</th>\n",
       "      <td>Decision Tree</td>\n",
       "      <td>65.58</td>\n",
       "      <td>50.00</td>\n",
       "      <td>55.84</td>\n",
       "    </tr>\n",
       "    <tr>\n",
       "      <th>0</th>\n",
       "      <td>Support Vector Machines</td>\n",
       "      <td>64.94</td>\n",
       "      <td>58.44</td>\n",
       "      <td>61.69</td>\n",
       "    </tr>\n",
       "    <tr>\n",
       "      <th>4</th>\n",
       "      <td>Naive Bayes</td>\n",
       "      <td>62.99</td>\n",
       "      <td>59.09</td>\n",
       "      <td>58.44</td>\n",
       "    </tr>\n",
       "    <tr>\n",
       "      <th>1</th>\n",
       "      <td>KNN</td>\n",
       "      <td>61.69</td>\n",
       "      <td>51.95</td>\n",
       "      <td>61.04</td>\n",
       "    </tr>\n",
       "    <tr>\n",
       "      <th>2</th>\n",
       "      <td>Logistic Regression</td>\n",
       "      <td>60.39</td>\n",
       "      <td>60.39</td>\n",
       "      <td>61.04</td>\n",
       "    </tr>\n",
       "  </tbody>\n",
       "</table>\n",
       "</div>"
      ],
      "text/plain": [
       "              Clasificador  Obvio  Filtrado  Mas Filtrado\n",
       "3            Random Forest  66.23     57.79         61.04\n",
       "5            Decision Tree  65.58     50.00         55.84\n",
       "0  Support Vector Machines  64.94     58.44         61.69\n",
       "4              Naive Bayes  62.99     59.09         58.44\n",
       "1                      KNN  61.69     51.95         61.04\n",
       "2      Logistic Regression  60.39     60.39         61.04"
      ]
     },
     "execution_count": 26,
     "metadata": {},
     "output_type": "execute_result"
    }
   ],
   "source": [
    "X = df_obvio.drop(\"voto_cambiemos\", axis=1)\n",
    "y = df_obvio.filter(items=[\"voto_cambiemos\"])\n",
    "obvio = clasificadores(X,y)\n",
    "\n",
    "X = df_filtered.drop(\"voto_cambiemos\", axis=1)\n",
    "y = df_filtered.filter(items=[\"voto_cambiemos\"])\n",
    "filtered = clasificadores(X,y)\n",
    "\n",
    "X = df_more_filtered.drop(\"voto_cambiemos\", axis=1)\n",
    "y = df_more_filtered.filter(items=[\"voto_cambiemos\"])\n",
    "more_filtered = clasificadores(X,y)\n",
    "\n",
    "\n",
    "models = pd.DataFrame({\n",
    "    'Clasificador': ['Support Vector Machines', 'KNN', 'Logistic Regression', \n",
    "              'Random Forest', 'Naive Bayes', \n",
    "              'Decision Tree'],\n",
    "    'Obvio': obvio,\n",
    "    'Filtrado': filtered,\n",
    "    'Mas Filtrado': more_filtered})\n",
    "models[['Clasificador','Obvio','Filtrado','Mas Filtrado']].sort_values(by='Obvio', ascending=False)"
   ]
  },
  {
   "cell_type": "markdown",
   "metadata": {},
   "source": [
    "### REDES NEURONALES"
   ]
  },
  {
   "cell_type": "code",
   "execution_count": 27,
   "metadata": {},
   "outputs": [
    {
     "name": "stderr",
     "output_type": "stream",
     "text": [
      "/usr/local/lib/python3.5/dist-packages/h5py/__init__.py:36: FutureWarning: Conversion of the second argument of issubdtype from `float` to `np.floating` is deprecated. In future, it will be treated as `np.float64 == np.dtype(float).type`.\n",
      "  from ._conv import register_converters as _register_converters\n",
      "Using TensorFlow backend.\n"
     ]
    }
   ],
   "source": [
    "%load_ext autoreload\n",
    "%autoreload 2\n",
    "from IPython.display import HTML\n",
    "import reg_helper as RHelper\n",
    "import numpy as np\n",
    "import draw_nn\n",
    "from matplotlib import pyplot as plt \n",
    "from keras.utils import to_categorical\n",
    "from keras.callbacks import ModelCheckpoint \n",
    "from keras.models import Sequential\n",
    "from keras.layers.core import Dense, Dropout, Activation, Flatten\n",
    "from keras.layers.normalization import BatchNormalization\n",
    "from keras import optimizers\n",
    "from keras import initializers\n",
    "from fnn_helper import PlotLosses\n",
    "from keras import optimizers"
   ]
  },
  {
   "cell_type": "code",
   "execution_count": 40,
   "metadata": {},
   "outputs": [
    {
     "data": {
      "text/plain": [
       "(769, 6)"
      ]
     },
     "execution_count": 40,
     "metadata": {},
     "output_type": "execute_result"
    }
   ],
   "source": [
    "X = df_obvio.drop(\"voto_cambiemos\", axis=1)\n",
    "y = df_obvio.filter(items=[\"voto_cambiemos\"])\n",
    "from sklearn.model_selection import train_test_split\n",
    "#train_df.voto_cambiemos_reducido.unique()\n",
    "X.shape"
   ]
  },
  {
   "cell_type": "code",
   "execution_count": 41,
   "metadata": {},
   "outputs": [
    {
     "name": "stderr",
     "output_type": "stream",
     "text": [
      "/home/monteagudo/.local/lib/python3.5/site-packages/sklearn/preprocessing/label.py:95: DataConversionWarning: A column-vector y was passed when a 1d array was expected. Please change the shape of y to (n_samples, ), for example using ravel().\n",
      "  y = column_or_1d(y, warn=True)\n",
      "/home/monteagudo/.local/lib/python3.5/site-packages/sklearn/preprocessing/label.py:128: DataConversionWarning: A column-vector y was passed when a 1d array was expected. Please change the shape of y to (n_samples, ), for example using ravel().\n",
      "  y = column_or_1d(y, warn=True)\n"
     ]
    }
   ],
   "source": [
    "from sklearn.preprocessing import LabelEncoder\n",
    "from keras.utils import np_utils\n",
    "encoder = LabelEncoder()\n",
    "encoder.fit(y)\n",
    "encoded_Y = encoder.transform(y)\n",
    "# convert integers to dummy variables (i.e. one hot encoded)\n",
    "dummy_y = np_utils.to_categorical(encoded_Y)\n",
    "X_train, X_test, y_train, y_test= train_test_split(X, dummy_y, test_size=0.2, random_state=42)"
   ]
  },
  {
   "cell_type": "code",
   "execution_count": 73,
   "metadata": {},
   "outputs": [
    {
     "name": "stdout",
     "output_type": "stream",
     "text": [
      "_________________________________________________________________\n",
      "Layer (type)                 Output Shape              Param #   \n",
      "=================================================================\n",
      "dense_11 (Dense)             (None, 25)                175       \n",
      "_________________________________________________________________\n",
      "dropout_24 (Dropout)         (None, 25)                0         \n",
      "_________________________________________________________________\n",
      "batch_normalization_24 (Batc (None, 25)                100       \n",
      "_________________________________________________________________\n",
      "Hidden (Dense)               (None, 25)                650       \n",
      "_________________________________________________________________\n",
      "dropout_25 (Dropout)         (None, 25)                0         \n",
      "_________________________________________________________________\n",
      "batch_normalization_25 (Batc (None, 25)                100       \n",
      "_________________________________________________________________\n",
      "Salida (Dense)               (None, 5)                 130       \n",
      "_________________________________________________________________\n",
      "activation_11 (Activation)   (None, 5)                 0         \n",
      "=================================================================\n",
      "Total params: 1,155\n",
      "Trainable params: 1,055\n",
      "Non-trainable params: 100\n",
      "_________________________________________________________________\n"
     ]
    },
    {
     "name": "stderr",
     "output_type": "stream",
     "text": [
      "/home/monteagudo/.local/lib/python3.5/site-packages/ipykernel_launcher.py:17: UserWarning: Update your `Dense` call to the Keras 2 API: `Dense(25, kernel_initializer=\"RandomUniform\", input_dim=6, activation=\"relu\")`\n"
     ]
    }
   ],
   "source": [
    "\n",
    "epochs = 2000 #adam 3000, sgd 30000\n",
    "lr=0.001\n",
    "decay=0\n",
    "input_shape = 6\n",
    "hidden_units = 25 # Probar con 3, 10, 20, 200\n",
    "output_size = 5\n",
    "#optim = optimizers.sgd(lr=lr, decay=decay, momentum=0) # cambiar a momentum 0.9 y lr a 5\n",
    "batch_size = 1024# 10 y 59\n",
    "p = 0.4\n",
    "\n",
    "\n",
    "default_initializer = 'normal'\n",
    "# Creo el modelo\n",
    "model_single_layer = Sequential()\n",
    "\n",
    "model_single_layer.add(Dense(hidden_units, input_dim=input_shape, init='RandomUniform',activation=\"relu\"))\n",
    "model_single_layer.add(Dropout(p))\n",
    "model_single_layer.add(BatchNormalization())\n",
    "model_single_layer.add(Dense(hidden_units, kernel_initializer=default_initializer,bias_initializer=default_initializer, name='Hidden',activation=\"relu\"))\n",
    "model_single_layer.add(Dropout(p))\n",
    "model_single_layer.add(BatchNormalization())\n",
    "\n",
    "model_single_layer.add(Dense(output_size, kernel_initializer=default_initializer, name='Salida'))\n",
    "model_single_layer.add(Activation('softmax'))\n",
    "model_single_layer.summary()"
   ]
  },
  {
   "cell_type": "code",
   "execution_count": 74,
   "metadata": {},
   "outputs": [
    {
     "data": {
      "image/png": "[encoded data removed]",
      "text/plain": [
       "<Figure size 1440x360 with 2 Axes>"
      ]
     },
     "metadata": {},
     "output_type": "display_data"
    },
    {
     "data": {
      "text/plain": [
       "<keras.callbacks.History at 0x7f6bf1986320>"
      ]
     },
     "execution_count": 74,
     "metadata": {},
     "output_type": "execute_result"
    }
   ],
   "source": [
    "\n",
    "#optim = optimizers.adam(lr=lr, decay=0.01)\n",
    "optim = optimizers.rmsprop(lr=lr, decay=0.001)\n",
    "model_single_layer.compile(loss='categorical_crossentropy', optimizer=optim, metrics=['accuracy'])\n",
    "plot_losses = PlotLosses(plot_interval=50, evaluate_interval=None, x_val=X_test, y_val_categorical=y_test)\n",
    "checkpointer = ModelCheckpoint(filepath='model_enero_marzo.hdf5', verbose=0, save_best_only=True)\n",
    "model_single_layer.fit(X_train, \n",
    "          y_train, batch_size = batch_size,\n",
    "          epochs=epochs, \n",
    "          verbose=0, \n",
    "          validation_data=(X_test, y_test), \n",
    "          callbacks=[plot_losses, checkpointer],\n",
    "         )"
   ]
  },
  {
   "cell_type": "code",
   "execution_count": 75,
   "metadata": {},
   "outputs": [
    {
     "name": "stdout",
     "output_type": "stream",
     "text": [
      "154/154 [==============================] - 0s 40us/step\n"
     ]
    }
   ],
   "source": [
    "model_single_layer.load_weights('model_enero_marzo.hdf5')\n",
    "loss, acc = model_single_layer.evaluate(X_test, y_test)"
   ]
  },
  {
   "cell_type": "code",
   "execution_count": 76,
   "metadata": {},
   "outputs": [
    {
     "name": "stdout",
     "output_type": "stream",
     "text": [
      "0.6818181802700092\n"
     ]
    }
   ],
   "source": [
    "print(acc)"
   ]
  },
  {
   "cell_type": "code",
   "execution_count": 79,
   "metadata": {},
   "outputs": [],
   "source": [
    "test_filtered = test_df.filter(items=['imagen_macri',\n",
    "                                  'economia_pais',\n",
    "                                  'emocion_pais',\n",
    "                                  'economia_personal',\n",
    "                                  'voto_cambiemos_str',\n",
    "                                     'imagen_cfk',\n",
    "                                  'imagen_vidal'])\n",
    "voto_cambiemos_mapping = {'Nunca lo votaría':1, 'Es poco probable que lo vote':2, 'No sabe':3,\n",
    "                         'Es probable que la vote':4,'Muy probable que la vote':5}\n",
    "\n",
    "test_filtered['voto_cambiemos'] = test_filtered['voto_cambiemos_str'].map(voto_cambiemos_mapping)\n",
    "\n",
    "#elimino los missing\n",
    "test_filtered['voto_cambiemos'] = test_filtered['voto_cambiemos'].fillna(6).astype(int)\n",
    "test_filtered = test_filtered.drop(test_filtered.loc[test_filtered['voto_cambiemos'] == 6].index)\n",
    "\n",
    "\n",
    "test_filtered = test_filtered.drop(\"voto_cambiemos_str\", axis=1).copy()\n",
    "test_filtered_sub  =test_filtered.sample(n=20)\n",
    "test_filtered_sub  =test_filtered\n",
    "X_test_2  = test_filtered_sub.drop(\"voto_cambiemos\", axis=1).copy()\n",
    "y_test_2 = test_filtered_sub.filter(items=[\"voto_cambiemos\"])\n",
    "\n",
    "\n",
    "test_prediction = model_single_layer.predict(X_test_2)\n",
    "test_labels = np.argmax(test_prediction, axis = -1)"
   ]
  },
  {
   "cell_type": "code",
   "execution_count": 82,
   "metadata": {},
   "outputs": [
    {
     "data": {
      "text/plain": [
       "array([1, 2, 4, 5])"
      ]
     },
     "execution_count": 82,
     "metadata": {},
     "output_type": "execute_result"
    }
   ],
   "source": [
    "test_labels = test_labels+1\n",
    "np.unique(test_labels)"
   ]
  },
  {
   "cell_type": "code",
   "execution_count": 83,
   "metadata": {},
   "outputs": [
    {
     "name": "stdout",
     "output_type": "stream",
     "text": [
      "recall:  0.4897919988674614\n",
      "precision_score:  0.4490123797507116\n",
      "F1:  0.45422241100849214\n"
     ]
    },
    {
     "name": "stderr",
     "output_type": "stream",
     "text": [
      "/home/monteagudo/.local/lib/python3.5/site-packages/sklearn/metrics/classification.py:1135: UndefinedMetricWarning: Precision is ill-defined and being set to 0.0 in labels with no predicted samples.\n",
      "  'precision', 'predicted', average, warn_for)\n",
      "/home/monteagudo/.local/lib/python3.5/site-packages/sklearn/metrics/classification.py:1135: UndefinedMetricWarning: F-score is ill-defined and being set to 0.0 in labels with no predicted samples.\n",
      "  'precision', 'predicted', average, warn_for)\n"
     ]
    }
   ],
   "source": [
    "from sklearn.metrics import roc_auc_score,roc_curve, auc,accuracy_score, f1_score, precision_score, recall_score, classification_report, confusion_matrix\n",
    "from scipy import interp\n",
    "from itertools import cycle\n",
    "\n",
    "\n",
    "\n",
    "print('recall: ',recall_score(y_test_2['voto_cambiemos'], test_labels, average=\"macro\"))\n",
    "print('precision_score: ',precision_score(y_test_2['voto_cambiemos'], test_labels, average=\"macro\"))\n",
    "print('F1: ',f1_score(y_test_2['voto_cambiemos'], test_labels, average=\"macro\"))"
   ]
  },
  {
   "cell_type": "markdown",
   "metadata": {},
   "source": [
    "Utilizando los campos del dataframe \"obvio\" y el \"filtrado\", probé la performance humana. Tome 20 casos al azar y le pedí a gente politizada que me digan en cada caso si vota, no vota o no sabe a cambiemos.<br>\n",
    "<br>\n",
    "El accuracy humano (medido mediante F1) en el caso obvio es de: <b> 0.51 </b><br>\n",
    "El accuracy humano (medido mediante F1) en el caso menos obvio es de: <b> 0.44 </b>"
   ]
  },
  {
   "cell_type": "markdown",
   "metadata": {},
   "source": [
    "## Reduzco la cantidad de clases a predecir para simplificar"
   ]
  },
  {
   "cell_type": "code",
   "execution_count": 84,
   "metadata": {},
   "outputs": [],
   "source": [
    "voto_cambiemos_mapping = {'Nunca lo votaría':1, 'Es poco probable que lo vote':1, 'No sabe':2,\n",
    "                         'Es probable que la vote':3,'Muy probable que la vote':3}\n",
    "\n",
    "train_df['voto_cambiemos_reducido'] = train_df['voto_cambiemos_str'].map(voto_cambiemos_mapping)\n",
    "train_df['voto_cambiemos_reducido'] = train_df['voto_cambiemos_reducido'].fillna(0).astype(int)\n",
    "train_df = train_df.drop(train_df.loc[train_df['voto_cambiemos_reducido'] == 0].index)\n",
    "\n",
    "df_filtered['voto_cambiemos_reducido'] = train_df['voto_cambiemos_reducido']\n",
    "df_more_filtered['voto_cambiemos_reducido'] = train_df['voto_cambiemos_reducido']\n",
    "df_obvio['voto_cambiemos_reducido'] = train_df['voto_cambiemos_reducido']\n",
    "\n",
    "\n",
    "\n",
    "\n",
    "df_filtered = df_filtered.drop(['voto_cambiemos'], axis=1)\n",
    "df_more_filtered = df_more_filtered.drop(['voto_cambiemos'], axis=1)\n",
    "df_obvio = df_obvio.drop(['voto_cambiemos'], axis=1)\n",
    "\n"
   ]
  },
  {
   "cell_type": "code",
   "execution_count": 85,
   "metadata": {},
   "outputs": [
    {
     "name": "stderr",
     "output_type": "stream",
     "text": [
      "/home/monteagudo/.local/lib/python3.5/site-packages/ipykernel_launcher.py:5: DataConversionWarning: A column-vector y was passed when a 1d array was expected. Please change the shape of y to (n_samples, ), for example using ravel().\n",
      "  \"\"\"\n",
      "/home/monteagudo/.local/lib/python3.5/site-packages/ipykernel_launcher.py:11: DataConversionWarning: A column-vector y was passed when a 1d array was expected. Please change the shape of y to (n_samples,), for example using ravel().\n",
      "  # This is added back by InteractiveShellApp.init_path()\n",
      "/home/monteagudo/.local/lib/python3.5/site-packages/sklearn/utils/validation.py:578: DataConversionWarning: A column-vector y was passed when a 1d array was expected. Please change the shape of y to (n_samples, ), for example using ravel().\n",
      "  y = column_or_1d(y, warn=True)\n",
      "/home/monteagudo/.local/lib/python3.5/site-packages/ipykernel_launcher.py:5: DataConversionWarning: A column-vector y was passed when a 1d array was expected. Please change the shape of y to (n_samples, ), for example using ravel().\n",
      "  \"\"\"\n",
      "/home/monteagudo/.local/lib/python3.5/site-packages/ipykernel_launcher.py:11: DataConversionWarning: A column-vector y was passed when a 1d array was expected. Please change the shape of y to (n_samples,), for example using ravel().\n",
      "  # This is added back by InteractiveShellApp.init_path()\n",
      "/home/monteagudo/.local/lib/python3.5/site-packages/sklearn/utils/validation.py:578: DataConversionWarning: A column-vector y was passed when a 1d array was expected. Please change the shape of y to (n_samples, ), for example using ravel().\n",
      "  y = column_or_1d(y, warn=True)\n",
      "/home/monteagudo/.local/lib/python3.5/site-packages/ipykernel_launcher.py:5: DataConversionWarning: A column-vector y was passed when a 1d array was expected. Please change the shape of y to (n_samples, ), for example using ravel().\n",
      "  \"\"\"\n",
      "/home/monteagudo/.local/lib/python3.5/site-packages/ipykernel_launcher.py:11: DataConversionWarning: A column-vector y was passed when a 1d array was expected. Please change the shape of y to (n_samples,), for example using ravel().\n",
      "  # This is added back by InteractiveShellApp.init_path()\n",
      "/home/monteagudo/.local/lib/python3.5/site-packages/sklearn/utils/validation.py:578: DataConversionWarning: A column-vector y was passed when a 1d array was expected. Please change the shape of y to (n_samples, ), for example using ravel().\n",
      "  y = column_or_1d(y, warn=True)\n"
     ]
    },
    {
     "data": {
      "text/html": [
       "<div>\n",
       "<style scoped>\n",
       "    .dataframe tbody tr th:only-of-type {\n",
       "        vertical-align: middle;\n",
       "    }\n",
       "\n",
       "    .dataframe tbody tr th {\n",
       "        vertical-align: top;\n",
       "    }\n",
       "\n",
       "    .dataframe thead th {\n",
       "        text-align: right;\n",
       "    }\n",
       "</style>\n",
       "<table border=\"1\" class=\"dataframe\">\n",
       "  <thead>\n",
       "    <tr style=\"text-align: right;\">\n",
       "      <th></th>\n",
       "      <th>Clasificador</th>\n",
       "      <th>Obvio</th>\n",
       "      <th>Filtrado</th>\n",
       "      <th>Mas Filtrado</th>\n",
       "    </tr>\n",
       "  </thead>\n",
       "  <tbody>\n",
       "    <tr>\n",
       "      <th>3</th>\n",
       "      <td>Random Forest</td>\n",
       "      <td>85.71</td>\n",
       "      <td>78.57</td>\n",
       "      <td>77.92</td>\n",
       "    </tr>\n",
       "    <tr>\n",
       "      <th>2</th>\n",
       "      <td>Logistic Regression</td>\n",
       "      <td>85.06</td>\n",
       "      <td>76.62</td>\n",
       "      <td>77.92</td>\n",
       "    </tr>\n",
       "    <tr>\n",
       "      <th>0</th>\n",
       "      <td>Support Vector Machines</td>\n",
       "      <td>84.42</td>\n",
       "      <td>77.27</td>\n",
       "      <td>78.57</td>\n",
       "    </tr>\n",
       "    <tr>\n",
       "      <th>1</th>\n",
       "      <td>KNN</td>\n",
       "      <td>83.77</td>\n",
       "      <td>77.27</td>\n",
       "      <td>77.92</td>\n",
       "    </tr>\n",
       "    <tr>\n",
       "      <th>4</th>\n",
       "      <td>Naive Bayes</td>\n",
       "      <td>81.82</td>\n",
       "      <td>77.27</td>\n",
       "      <td>76.62</td>\n",
       "    </tr>\n",
       "    <tr>\n",
       "      <th>5</th>\n",
       "      <td>Decision Tree</td>\n",
       "      <td>80.52</td>\n",
       "      <td>73.38</td>\n",
       "      <td>75.97</td>\n",
       "    </tr>\n",
       "  </tbody>\n",
       "</table>\n",
       "</div>"
      ],
      "text/plain": [
       "              Clasificador  Obvio  Filtrado  Mas Filtrado\n",
       "3            Random Forest  85.71     78.57         77.92\n",
       "2      Logistic Regression  85.06     76.62         77.92\n",
       "0  Support Vector Machines  84.42     77.27         78.57\n",
       "1                      KNN  83.77     77.27         77.92\n",
       "4              Naive Bayes  81.82     77.27         76.62\n",
       "5            Decision Tree  80.52     73.38         75.97"
      ]
     },
     "execution_count": 85,
     "metadata": {},
     "output_type": "execute_result"
    }
   ],
   "source": [
    "X = df_obvio.drop(\"voto_cambiemos_reducido\", axis=1)\n",
    "y = df_obvio.filter(items=[\"voto_cambiemos_reducido\"])\n",
    "obvio = clasificadores(X,y)\n",
    "\n",
    "X = df_filtered.drop(\"voto_cambiemos_reducido\", axis=1)\n",
    "y = df_filtered.filter(items=[\"voto_cambiemos_reducido\"])\n",
    "filtered = clasificadores(X,y)\n",
    "\n",
    "X = df_more_filtered.drop(\"voto_cambiemos_reducido\", axis=1)\n",
    "y = df_more_filtered.filter(items=[\"voto_cambiemos_reducido\"])\n",
    "more_filtered = clasificadores(X,y)\n",
    "\n",
    "\n",
    "\n",
    "models = pd.DataFrame({\n",
    "    'Clasificador': ['Support Vector Machines', 'KNN', 'Logistic Regression', \n",
    "              'Random Forest', 'Naive Bayes', \n",
    "              'Decision Tree'],\n",
    "    'Obvio': obvio,\n",
    "    'Filtrado': filtered,\n",
    "    'Mas Filtrado': more_filtered})\n",
    "models[['Clasificador','Obvio','Filtrado','Mas Filtrado']].sort_values(by='Obvio', ascending=False)"
   ]
  },
  {
   "cell_type": "markdown",
   "metadata": {},
   "source": [
    "### Red neuronal 3 clases vota, no vota, no sabe"
   ]
  },
  {
   "cell_type": "code",
   "execution_count": 88,
   "metadata": {},
   "outputs": [
    {
     "data": {
      "text/plain": [
       "array([1, 2, 3])"
      ]
     },
     "execution_count": 88,
     "metadata": {},
     "output_type": "execute_result"
    }
   ],
   "source": [
    "X = df_obvio.drop(\"voto_cambiemos_reducido\", axis=1)\n",
    "y = df_obvio.filter(items=[\"voto_cambiemos_reducido\"])\n",
    "from sklearn.model_selection import train_test_split\n",
    "#train_df.voto_cambiemos_reducido.unique()\n",
    "np.unique(y)"
   ]
  },
  {
   "cell_type": "code",
   "execution_count": 89,
   "metadata": {},
   "outputs": [
    {
     "name": "stderr",
     "output_type": "stream",
     "text": [
      "/home/monteagudo/.local/lib/python3.5/site-packages/sklearn/preprocessing/label.py:95: DataConversionWarning: A column-vector y was passed when a 1d array was expected. Please change the shape of y to (n_samples, ), for example using ravel().\n",
      "  y = column_or_1d(y, warn=True)\n",
      "/home/monteagudo/.local/lib/python3.5/site-packages/sklearn/preprocessing/label.py:128: DataConversionWarning: A column-vector y was passed when a 1d array was expected. Please change the shape of y to (n_samples, ), for example using ravel().\n",
      "  y = column_or_1d(y, warn=True)\n"
     ]
    },
    {
     "data": {
      "text/plain": [
       "(615, 6)"
      ]
     },
     "execution_count": 89,
     "metadata": {},
     "output_type": "execute_result"
    }
   ],
   "source": [
    "from sklearn.preprocessing import LabelEncoder\n",
    "from keras.utils import np_utils\n",
    "encoder = LabelEncoder()\n",
    "encoder.fit(y)\n",
    "encoded_Y = encoder.transform(y)\n",
    "# convert integers to dummy variables (i.e. one hot encoded)\n",
    "dummy_y = np_utils.to_categorical(encoded_Y)\n",
    "X_train, X_test, y_train, y_test= train_test_split(X, dummy_y, test_size=0.2, random_state=42)\n",
    "X_train.shape"
   ]
  },
  {
   "cell_type": "code",
   "execution_count": 147,
   "metadata": {},
   "outputs": [
    {
     "name": "stdout",
     "output_type": "stream",
     "text": [
      "_________________________________________________________________\n",
      "Layer (type)                 Output Shape              Param #   \n",
      "=================================================================\n",
      "dense_34 (Dense)             (None, 60)                420       \n",
      "_________________________________________________________________\n",
      "dropout_58 (Dropout)         (None, 60)                0         \n",
      "_________________________________________________________________\n",
      "batch_normalization_62 (Batc (None, 60)                240       \n",
      "_________________________________________________________________\n",
      "Hidden (Dense)               (None, 60)                3660      \n",
      "_________________________________________________________________\n",
      "Salida (Dense)               (None, 3)                 183       \n",
      "_________________________________________________________________\n",
      "activation_31 (Activation)   (None, 3)                 0         \n",
      "=================================================================\n",
      "Total params: 4,503\n",
      "Trainable params: 4,383\n",
      "Non-trainable params: 120\n",
      "_________________________________________________________________\n"
     ]
    },
    {
     "name": "stderr",
     "output_type": "stream",
     "text": [
      "/home/monteagudo/.local/lib/python3.5/site-packages/ipykernel_launcher.py:16: UserWarning: Update your `Dense` call to the Keras 2 API: `Dense(60, kernel_initializer=\"normal\", input_dim=6, activation=\"sigmoid\")`\n",
      "  app.launch_new_instance()\n"
     ]
    }
   ],
   "source": [
    "epochs = 1000 #adam 3000, sgd 30000\n",
    "lr=0.005\n",
    "decay=0\n",
    "input_shape = 6\n",
    "hidden_units = 60 # Probar con 3, 10, 20, 200\n",
    "output_size = 3\n",
    "p = 0.3\n",
    "batch_size = 1024 # 10 y 59\n",
    "\n",
    "optim = optimizers.adam(lr=lr, decay=0.1)\n",
    "#optim = optimizers.rmsprop(lr=lr, decay=0.001)\n",
    "\n",
    "default_initializer = 'normal'\n",
    "# Creo el modelo\n",
    "model_3_clases = Sequential()\n",
    "model_3_clases.add(Dense(hidden_units, input_dim=input_shape, init=default_initializer,activation=\"sigmoid\"))\n",
    "model_3_clases.add(Dropout(p))\n",
    "model_3_clases.add(BatchNormalization())\n",
    "model_3_clases.add(Dense(hidden_units, kernel_initializer=default_initializer,bias_initializer=default_initializer, name='Hidden',activation=\"sigmoid\"))\n",
    "\n",
    "model_3_clases.add(Dense(output_size, kernel_initializer=default_initializer, name='Salida'))\n",
    "model_3_clases.add(Activation('softmax'))\n",
    "model_3_clases.compile(loss='categorical_crossentropy', optimizer=optim, metrics=['accuracy'])\n",
    "model_3_clases.summary()"
   ]
  },
  {
   "cell_type": "code",
   "execution_count": 148,
   "metadata": {},
   "outputs": [
    {
     "data": {
      "image/png": "[encoded data removed]",
      "text/plain": [
       "<Figure size 1440x360 with 2 Axes>"
      ]
     },
     "metadata": {},
     "output_type": "display_data"
    },
    {
     "data": {
      "text/plain": [
       "<keras.callbacks.History at 0x7f6bbaa7a320>"
      ]
     },
     "execution_count": 148,
     "metadata": {},
     "output_type": "execute_result"
    }
   ],
   "source": [
    "#sgd = SGD(lr=lr, decay=decay, momentum=0.9, nesterov=True)\n",
    "#optim = optimizers.adam(lr=lr, decay=0.1)\n",
    "optim = optimizers.rmsprop(lr=lr, decay=0.05)\n",
    "model_3_clases.compile(loss='categorical_crossentropy', optimizer=optim, metrics=['accuracy'])\n",
    "plot_losses = PlotLosses(plot_interval=50, evaluate_interval=None, x_val=X_test, y_val_categorical=y_test)\n",
    "checkpointer = ModelCheckpoint(filepath='model_3_clases.hdf5', verbose=0, save_best_only=True)\n",
    "model_3_clases.fit(X_train, \n",
    "          y_train, batch_size = batch_size,\n",
    "          epochs=epochs, \n",
    "          verbose=0, \n",
    "          validation_data=(X_test, y_test), \n",
    "          callbacks=[plot_losses, checkpointer],\n",
    "         )"
   ]
  },
  {
   "cell_type": "code",
   "execution_count": 149,
   "metadata": {},
   "outputs": [
    {
     "name": "stdout",
     "output_type": "stream",
     "text": [
      "154/154 [==============================] - 0s 49us/step\n"
     ]
    }
   ],
   "source": [
    "model_3_clases.load_weights('model_3_clases.hdf5')\n",
    "loss, acc = model_3_clases.evaluate(X_test, y_test)"
   ]
  },
  {
   "cell_type": "code",
   "execution_count": 150,
   "metadata": {},
   "outputs": [
    {
     "name": "stdout",
     "output_type": "stream",
     "text": [
      "0.8506493475530055\n"
     ]
    }
   ],
   "source": [
    "print(acc)"
   ]
  },
  {
   "cell_type": "code",
   "execution_count": 157,
   "metadata": {},
   "outputs": [],
   "source": [
    "test_filtered = test_df.filter(items=['imagen_macri',\n",
    "                                  'economia_pais',\n",
    "                                  'emocion_pais',\n",
    "                                  'economia_personal',\n",
    "                                  'voto_cambiemos_str',\n",
    "                                     'imagen_cfk',\n",
    "                                  'imagen_vidal'])\n",
    "voto_cambiemos_mapping = {'Nunca lo votaría':0, 'Es poco probable que lo vote':0, 'No sabe':1,\n",
    "                         'Es probable que la vote':2,'Muy probable que la vote':2}\n",
    "\n",
    "test_filtered['voto_cambiemos_reducido'] = test_filtered['voto_cambiemos_str'].map(voto_cambiemos_mapping)\n",
    "test_filtered['voto_cambiemos_reducido'] = test_filtered['voto_cambiemos_reducido'].fillna(3).astype(int)\n",
    "test_filtered = test_filtered.drop(test_filtered.loc[test_filtered['voto_cambiemos_reducido'] == 3].index)\n",
    "\n",
    "\n",
    "test_filtered = test_filtered.drop(\"voto_cambiemos_str\", axis=1).copy()\n",
    "test_filtered_sub  =test_filtered.sample(n=20)\n",
    "test_filtered_sub  =test_filtered\n",
    "X_test_2  = test_filtered_sub.drop(\"voto_cambiemos_reducido\", axis=1).copy()\n",
    "y_test_2 = test_filtered_sub.filter(items=[\"voto_cambiemos_reducido\"])\n",
    "\n",
    "\n",
    "test_prediction = model_3_clases.predict(X_test_2)\n",
    "test_labels = np.argmax(test_prediction, axis = -1)\n",
    "#test_labels = test_prediction.argmax(axis=-1)"
   ]
  },
  {
   "cell_type": "code",
   "execution_count": 153,
   "metadata": {},
   "outputs": [
    {
     "data": {
      "text/plain": [
       "(array([0, 1, 2]), array([248,  54, 291]))"
      ]
     },
     "execution_count": 153,
     "metadata": {},
     "output_type": "execute_result"
    }
   ],
   "source": [
    "np.unique(y_test_2, return_counts=True)"
   ]
  },
  {
   "cell_type": "code",
   "execution_count": 158,
   "metadata": {},
   "outputs": [
    {
     "data": {
      "text/plain": [
       "array([0, 2])"
      ]
     },
     "execution_count": 158,
     "metadata": {},
     "output_type": "execute_result"
    }
   ],
   "source": [
    "\n",
    "np.unique(test_labels)\n"
   ]
  },
  {
   "cell_type": "code",
   "execution_count": 159,
   "metadata": {},
   "outputs": [
    {
     "name": "stdout",
     "output_type": "stream",
     "text": [
      "recall:  0.6132404020249048\n",
      "precision_score:  0.5572424471241486\n",
      "F1:  0.5838996712936791\n"
     ]
    },
    {
     "name": "stderr",
     "output_type": "stream",
     "text": [
      "/home/monteagudo/.local/lib/python3.5/site-packages/sklearn/metrics/classification.py:1135: UndefinedMetricWarning: Precision is ill-defined and being set to 0.0 in labels with no predicted samples.\n",
      "  'precision', 'predicted', average, warn_for)\n",
      "/home/monteagudo/.local/lib/python3.5/site-packages/sklearn/metrics/classification.py:1135: UndefinedMetricWarning: F-score is ill-defined and being set to 0.0 in labels with no predicted samples.\n",
      "  'precision', 'predicted', average, warn_for)\n"
     ]
    }
   ],
   "source": [
    "from sklearn.metrics import roc_auc_score,roc_curve, auc,accuracy_score, f1_score, precision_score, recall_score, classification_report, confusion_matrix\n",
    "from scipy import interp\n",
    "from itertools import cycle\n",
    "\n",
    "\n",
    "\n",
    "print('recall: ',recall_score(y_test_2['voto_cambiemos_reducido'], test_labels, average=\"macro\"))\n",
    "print('precision_score: ',precision_score(y_test_2['voto_cambiemos_reducido'], test_labels, average=\"macro\"))\n",
    "print('F1: ',f1_score(y_test_2['voto_cambiemos_reducido'], test_labels, average=\"macro\"))"
   ]
  },
  {
   "cell_type": "markdown",
   "metadata": {},
   "source": [
    "## Predicción con dos clases vota, no vota"
   ]
  },
  {
   "cell_type": "code",
   "execution_count": 160,
   "metadata": {},
   "outputs": [],
   "source": [
    "df_dos_clases = df_filtered.drop(df_filtered.loc[train_df['voto_cambiemos_reducido'] == 2].index)\n",
    "df_dos_clases_obvio = df_obvio.drop(df_filtered.loc[train_df['voto_cambiemos_reducido'] == 2].index)"
   ]
  },
  {
   "cell_type": "code",
   "execution_count": 161,
   "metadata": {},
   "outputs": [
    {
     "name": "stderr",
     "output_type": "stream",
     "text": [
      "/home/monteagudo/.local/lib/python3.5/site-packages/ipykernel_launcher.py:5: DataConversionWarning: A column-vector y was passed when a 1d array was expected. Please change the shape of y to (n_samples, ), for example using ravel().\n",
      "  \"\"\"\n",
      "/home/monteagudo/.local/lib/python3.5/site-packages/ipykernel_launcher.py:11: DataConversionWarning: A column-vector y was passed when a 1d array was expected. Please change the shape of y to (n_samples,), for example using ravel().\n",
      "  # This is added back by InteractiveShellApp.init_path()\n",
      "/home/monteagudo/.local/lib/python3.5/site-packages/sklearn/utils/validation.py:578: DataConversionWarning: A column-vector y was passed when a 1d array was expected. Please change the shape of y to (n_samples, ), for example using ravel().\n",
      "  y = column_or_1d(y, warn=True)\n",
      "/home/monteagudo/.local/lib/python3.5/site-packages/ipykernel_launcher.py:5: DataConversionWarning: A column-vector y was passed when a 1d array was expected. Please change the shape of y to (n_samples, ), for example using ravel().\n",
      "  \"\"\"\n",
      "/home/monteagudo/.local/lib/python3.5/site-packages/ipykernel_launcher.py:11: DataConversionWarning: A column-vector y was passed when a 1d array was expected. Please change the shape of y to (n_samples,), for example using ravel().\n",
      "  # This is added back by InteractiveShellApp.init_path()\n",
      "/home/monteagudo/.local/lib/python3.5/site-packages/sklearn/utils/validation.py:578: DataConversionWarning: A column-vector y was passed when a 1d array was expected. Please change the shape of y to (n_samples, ), for example using ravel().\n",
      "  y = column_or_1d(y, warn=True)\n"
     ]
    },
    {
     "data": {
      "text/html": [
       "<div>\n",
       "<style scoped>\n",
       "    .dataframe tbody tr th:only-of-type {\n",
       "        vertical-align: middle;\n",
       "    }\n",
       "\n",
       "    .dataframe tbody tr th {\n",
       "        vertical-align: top;\n",
       "    }\n",
       "\n",
       "    .dataframe thead th {\n",
       "        text-align: right;\n",
       "    }\n",
       "</style>\n",
       "<table border=\"1\" class=\"dataframe\">\n",
       "  <thead>\n",
       "    <tr style=\"text-align: right;\">\n",
       "      <th></th>\n",
       "      <th>Clasificador</th>\n",
       "      <th>Dos clases obvio</th>\n",
       "      <th>Dos clases filtrado</th>\n",
       "    </tr>\n",
       "  </thead>\n",
       "  <tbody>\n",
       "    <tr>\n",
       "      <th>3</th>\n",
       "      <td>Random Forest</td>\n",
       "      <td>92.36</td>\n",
       "      <td>82.64</td>\n",
       "    </tr>\n",
       "    <tr>\n",
       "      <th>0</th>\n",
       "      <td>Support Vector Machines</td>\n",
       "      <td>90.97</td>\n",
       "      <td>84.72</td>\n",
       "    </tr>\n",
       "    <tr>\n",
       "      <th>2</th>\n",
       "      <td>Logistic Regression</td>\n",
       "      <td>90.97</td>\n",
       "      <td>81.94</td>\n",
       "    </tr>\n",
       "    <tr>\n",
       "      <th>4</th>\n",
       "      <td>Naive Bayes</td>\n",
       "      <td>89.58</td>\n",
       "      <td>83.33</td>\n",
       "    </tr>\n",
       "    <tr>\n",
       "      <th>5</th>\n",
       "      <td>Decision Tree</td>\n",
       "      <td>88.89</td>\n",
       "      <td>75.69</td>\n",
       "    </tr>\n",
       "    <tr>\n",
       "      <th>1</th>\n",
       "      <td>KNN</td>\n",
       "      <td>87.50</td>\n",
       "      <td>79.86</td>\n",
       "    </tr>\n",
       "  </tbody>\n",
       "</table>\n",
       "</div>"
      ],
      "text/plain": [
       "              Clasificador  Dos clases obvio  Dos clases filtrado\n",
       "3            Random Forest             92.36                82.64\n",
       "0  Support Vector Machines             90.97                84.72\n",
       "2      Logistic Regression             90.97                81.94\n",
       "4              Naive Bayes             89.58                83.33\n",
       "5            Decision Tree             88.89                75.69\n",
       "1                      KNN             87.50                79.86"
      ]
     },
     "execution_count": 161,
     "metadata": {},
     "output_type": "execute_result"
    }
   ],
   "source": [
    "X = df_dos_clases.drop(\"voto_cambiemos_reducido\", axis=1)\n",
    "y = df_dos_clases.filter(items=[\"voto_cambiemos_reducido\"])\n",
    "dos_clases_filtrado = clasificadores(X,y)\n",
    "\n",
    "X = df_dos_clases_obvio.drop(\"voto_cambiemos_reducido\", axis=1)\n",
    "y = df_dos_clases_obvio.filter(items=[\"voto_cambiemos_reducido\"])\n",
    "dos_clases_obvio = clasificadores(X,y)\n",
    "\n",
    "models = pd.DataFrame({\n",
    "    'Clasificador': ['Support Vector Machines', 'KNN', 'Logistic Regression', \n",
    "              'Random Forest', 'Naive Bayes', \n",
    "              'Decision Tree'],\n",
    "    'Dos clases filtrado': dos_clases_filtrado,\n",
    "    'Dos clases obvio': dos_clases_obvio})\n",
    "models[['Clasificador','Dos clases obvio','Dos clases filtrado']].sort_values(by='Dos clases obvio', ascending=False)"
   ]
  },
  {
   "cell_type": "markdown",
   "metadata": {},
   "source": [
    "### Red neuronal"
   ]
  },
  {
   "cell_type": "code",
   "execution_count": 164,
   "metadata": {},
   "outputs": [
    {
     "data": {
      "text/plain": [
       "(716, 6)"
      ]
     },
     "execution_count": 164,
     "metadata": {},
     "output_type": "execute_result"
    }
   ],
   "source": [
    "X = df_dos_clases_obvio.drop(\"voto_cambiemos_reducido\", axis=1)\n",
    "y = df_dos_clases_obvio.filter(items=[\"voto_cambiemos_reducido\"])\n",
    "from sklearn.model_selection import train_test_split\n",
    "#train_df.voto_cambiemos_reducido.unique()\n",
    "X.shape"
   ]
  },
  {
   "cell_type": "code",
   "execution_count": 165,
   "metadata": {},
   "outputs": [
    {
     "name": "stderr",
     "output_type": "stream",
     "text": [
      "/home/monteagudo/.local/lib/python3.5/site-packages/sklearn/preprocessing/label.py:95: DataConversionWarning: A column-vector y was passed when a 1d array was expected. Please change the shape of y to (n_samples, ), for example using ravel().\n",
      "  y = column_or_1d(y, warn=True)\n",
      "/home/monteagudo/.local/lib/python3.5/site-packages/sklearn/preprocessing/label.py:128: DataConversionWarning: A column-vector y was passed when a 1d array was expected. Please change the shape of y to (n_samples, ), for example using ravel().\n",
      "  y = column_or_1d(y, warn=True)\n"
     ]
    },
    {
     "data": {
      "text/plain": [
       "(572, 6)"
      ]
     },
     "execution_count": 165,
     "metadata": {},
     "output_type": "execute_result"
    }
   ],
   "source": [
    "from sklearn.preprocessing import LabelEncoder\n",
    "from keras.utils import np_utils\n",
    "encoder = LabelEncoder()\n",
    "encoder.fit(y)\n",
    "encoded_Y = encoder.transform(y)\n",
    "# convert integers to dummy variables (i.e. one hot encoded)\n",
    "dummy_y = np_utils.to_categorical(encoded_Y)\n",
    "X_train, X_test, y_train, y_test= train_test_split(X, dummy_y, test_size=0.2, random_state=42)\n",
    "X_train.shape"
   ]
  },
  {
   "cell_type": "code",
   "execution_count": 166,
   "metadata": {},
   "outputs": [
    {
     "name": "stdout",
     "output_type": "stream",
     "text": [
      "_________________________________________________________________\n",
      "Layer (type)                 Output Shape              Param #   \n",
      "=================================================================\n",
      "dense_35 (Dense)             (None, 30)                210       \n",
      "_________________________________________________________________\n",
      "batch_normalization_63 (Batc (None, 30)                120       \n",
      "_________________________________________________________________\n",
      "dropout_59 (Dropout)         (None, 30)                0         \n",
      "_________________________________________________________________\n",
      "Hidden (Dense)               (None, 30)                930       \n",
      "_________________________________________________________________\n",
      "batch_normalization_64 (Batc (None, 30)                120       \n",
      "_________________________________________________________________\n",
      "dropout_60 (Dropout)         (None, 30)                0         \n",
      "_________________________________________________________________\n",
      "Salida (Dense)               (None, 2)                 62        \n",
      "_________________________________________________________________\n",
      "activation_32 (Activation)   (None, 2)                 0         \n",
      "=================================================================\n",
      "Total params: 1,442\n",
      "Trainable params: 1,322\n",
      "Non-trainable params: 120\n",
      "_________________________________________________________________\n"
     ]
    },
    {
     "name": "stderr",
     "output_type": "stream",
     "text": [
      "/home/monteagudo/.local/lib/python3.5/site-packages/ipykernel_launcher.py:16: UserWarning: Update your `Dense` call to the Keras 2 API: `Dense(30, kernel_initializer=\"RandomUniform\", input_dim=6, activation=\"relu\")`\n",
      "  app.launch_new_instance()\n"
     ]
    }
   ],
   "source": [
    "epochs = 500 #adam 3000, sgd 30000\n",
    "lr=0.02\n",
    "decay=0\n",
    "input_shape = 6\n",
    "hidden_units = 30 # Probar con 3, 10, 20, 200\n",
    "output_size = 2\n",
    "p = 0.2\n",
    "batch_size = 1024 # 10 y 59\n",
    "\n",
    "optim = optimizers.adam(lr=lr, decay=0.1)\n",
    "#optim = optimizers.rmsprop(lr=lr, decay=0.001)\n",
    "\n",
    "default_initializer = 'normal'\n",
    "# Creo el modelo\n",
    "model_single_layer = Sequential()\n",
    "model_single_layer.add(Dense(hidden_units, input_dim=input_shape, init='RandomUniform',activation=\"relu\"))\n",
    "model_single_layer.add(BatchNormalization())\n",
    "model_single_layer.add(Dropout(p))\n",
    "model_single_layer.add(Dense(hidden_units, kernel_initializer=default_initializer,bias_initializer=default_initializer, name='Hidden',activation=\"relu\"))\n",
    "model_single_layer.add(BatchNormalization())\n",
    "model_single_layer.add(Dropout(p))\n",
    "\n",
    "\n",
    "\n",
    "model_single_layer.add(Dense(output_size, kernel_initializer=default_initializer, name='Salida'))\n",
    "model_single_layer.add(Activation('softmax'))\n",
    "model_single_layer.summary()"
   ]
  },
  {
   "cell_type": "code",
   "execution_count": 167,
   "metadata": {},
   "outputs": [
    {
     "data": {
      "image/png": "[encoded data removed]",
      "text/plain": [
       "<Figure size 1440x360 with 2 Axes>"
      ]
     },
     "metadata": {},
     "output_type": "display_data"
    },
    {
     "data": {
      "text/plain": [
       "<keras.callbacks.History at 0x7f6bbd483e80>"
      ]
     },
     "execution_count": 167,
     "metadata": {},
     "output_type": "execute_result"
    }
   ],
   "source": [
    "#sgd = SGD(lr=lr, decay=decay, momentum=0.9, nesterov=True)\n",
    "#optim = optimizers.adam(lr=lr, decay=0.1)\n",
    "optim = optimizers.rmsprop(lr=lr, decay=0.3)\n",
    "model_single_layer.compile(loss='categorical_crossentropy', optimizer=optim, metrics=['accuracy'])\n",
    "plot_losses = PlotLosses(plot_interval=50, evaluate_interval=None, x_val=X_test, y_val_categorical=y_test)\n",
    "checkpointer = ModelCheckpoint(filepath='model_dos_clases.hdf5', verbose=0, save_best_only=True)\n",
    "model_single_layer.fit(X_train, \n",
    "          y_train, batch_size = batch_size,\n",
    "          epochs=epochs, \n",
    "          verbose=0, \n",
    "          validation_data=(X_test, y_test), \n",
    "          callbacks=[plot_losses, checkpointer],\n",
    "         )"
   ]
  },
  {
   "cell_type": "code",
   "execution_count": 168,
   "metadata": {},
   "outputs": [
    {
     "name": "stdout",
     "output_type": "stream",
     "text": [
      "144/144 [==============================] - 0s 55us/step\n"
     ]
    }
   ],
   "source": [
    "model_single_layer.load_weights('model_dos_clases.hdf5')\n",
    "loss, acc = model_single_layer.evaluate(X_test, y_test)"
   ]
  },
  {
   "cell_type": "code",
   "execution_count": 169,
   "metadata": {},
   "outputs": [
    {
     "name": "stdout",
     "output_type": "stream",
     "text": [
      "0.9027777777777778\n"
     ]
    }
   ],
   "source": [
    "print(acc)"
   ]
  },
  {
   "cell_type": "code",
   "execution_count": 170,
   "metadata": {},
   "outputs": [],
   "source": [
    "test_filtered = test_df.filter(items=['imagen_macri',\n",
    "                                  'economia_pais',\n",
    "                                  'emocion_pais',\n",
    "                                  'economia_personal',\n",
    "                                  'voto_cambiemos_str',\n",
    "                                     'imagen_cfk',\n",
    "                                  'imagen_vidal'])\n",
    "voto_cambiemos_mapping = {'Nunca lo votaría':0, 'Es poco probable que lo vote':0, 'No sabe':2,\n",
    "                         'Es probable que la vote':1,'Muy probable que la vote':1}\n",
    "\n",
    "test_filtered['voto_cambiemos_reducido'] = test_filtered['voto_cambiemos_str'].map(voto_cambiemos_mapping)\n",
    "test_filtered = test_filtered.drop(\"voto_cambiemos_str\", axis=1).copy()\n",
    "\n",
    "\n",
    "test_filtered = test_filtered.drop(test_filtered.loc[test_filtered['voto_cambiemos_reducido'] == 2].index)\n",
    "test_filtered['voto_cambiemos_reducido'] = test_filtered['voto_cambiemos_reducido'].fillna(3).astype(int)\n",
    "test_filtered = test_filtered.drop(test_filtered.loc[test_filtered['voto_cambiemos_reducido'] == 3].index)\n",
    "\n",
    "test_filtered_sub  =test_filtered.sample(n=80)\n",
    "\n",
    "X_test_2  = test_filtered_sub.drop(\"voto_cambiemos_reducido\", axis=1).copy()\n",
    "y_test_2 = test_filtered_sub.filter(items=[\"voto_cambiemos_reducido\"])\n",
    "test_prediction = model_single_layer.predict(X_test_2)\n",
    "test_labels = np.argmax(test_prediction, axis = 1)"
   ]
  },
  {
   "cell_type": "code",
   "execution_count": 171,
   "metadata": {},
   "outputs": [
    {
     "name": "stdout",
     "output_type": "stream",
     "text": [
      "recall:  0.924812030075188\n",
      "precision_score:  0.924812030075188\n",
      "F1:  0.924812030075188\n"
     ]
    }
   ],
   "source": [
    "from sklearn.metrics import roc_auc_score,roc_curve, auc,accuracy_score, f1_score, precision_score, recall_score, classification_report, confusion_matrix\n",
    "from scipy import interp\n",
    "from itertools import cycle\n",
    "\n",
    "\n",
    "\n",
    "print('recall: ',recall_score(y_test_2['voto_cambiemos_reducido'], test_labels, average=\"macro\"))\n",
    "print('precision_score: ',precision_score(y_test_2['voto_cambiemos_reducido'], test_labels, average=\"macro\"))\n",
    "print('F1: ',f1_score(y_test_2['voto_cambiemos_reducido'], test_labels, average=\"macro\"))"
   ]
  },
  {
   "cell_type": "markdown",
   "metadata": {},
   "source": [
    "## ¿Porqué cambia tanto la performance en el test cuando son sólo dos clases?\n",
    "Grafiquemos en dos dimensiones a cada persona y coloremosla en base a si votaría o no a cambiemos. Los que sí lo votarían (con alguna probabilidad) los coloreamos amarillos, los que no azules y los que aún no saben en rojo."
   ]
  },
  {
   "cell_type": "markdown",
   "metadata": {},
   "source": [
    "#### Entrenamiento (Marzo)"
   ]
  },
  {
   "cell_type": "code",
   "execution_count": 172,
   "metadata": {},
   "outputs": [],
   "source": [
    "from sklearn.manifold import TSNE\n",
    "from sklearn.decomposition import TruncatedSVD\n",
    "fmd = df_obvio\n",
    "svd = TruncatedSVD(n_components=8, n_iter=200, random_state=42)\n",
    "svd.fit(fmd.T)\n",
    "X_embedded = TSNE(n_components=2).fit_transform(svd.components_.T)"
   ]
  },
  {
   "cell_type": "code",
   "execution_count": 178,
   "metadata": {},
   "outputs": [],
   "source": [
    "df_obvio = train_df.filter(items=['imagen_macri',\n",
    "                                  'economia_pais',\n",
    "                                  'emocion_pais',\n",
    "                                  'economia_personal',\n",
    "                                  'voto_cambiemos_str',\n",
    "                                     'imagen_cfk',\n",
    "                                  'imagen_vidal'])\n",
    "voto_cambiemos_mapping = {'Nunca lo votaría':1, 'Es poco probable que lo vote':2, 'No sabe':3,\n",
    "                         'Es probable que la vote':4,'Muy probable que la vote':5}\n",
    "\n",
    "df_obvio['voto_cambiemos_reducido'] = df_obvio['voto_cambiemos_str'].map(voto_cambiemos_mapping)\n",
    "voto = df_obvio['voto_cambiemos_reducido']"
   ]
  },
  {
   "cell_type": "code",
   "execution_count": 191,
   "metadata": {},
   "outputs": [
    {
     "data": {
      "image/png": "[encoded data removed]",
      "text/plain": [
       "<Figure size 1440x720 with 1 Axes>"
      ]
     },
     "metadata": {},
     "output_type": "display_data"
    }
   ],
   "source": [
    "from matplotlib import pyplot as plt\n",
    "fig1 = plt.figure(figsize=(20,10),facecolor='white')\n",
    "ax = fig1.add_subplot(1, 1, 1) \n",
    "ax.set_facecolor('white')\n",
    "plt.scatter(X_embedded[voto[:]==1,0], X_embedded[voto[:]==1,1], color='#08088A', s=10)\n",
    "plt.scatter(X_embedded[voto[:]==3,0], X_embedded[voto[:]==3,1], color='r', s=40)\n",
    "plt.scatter(X_embedded[voto[:]==2,0], X_embedded[voto[:]==2,1], color='b', s=10)\n",
    "plt.scatter(X_embedded[voto[:]==4,0], X_embedded[voto[:]==4,1], color='y', s=10)\n",
    "plt.scatter(X_embedded[voto[:]==5,0], X_embedded[voto[:]==5,1], color='#5E610B', s=10)\n",
    "\n",
    "plt.show()"
   ]
  },
  {
   "cell_type": "markdown",
   "metadata": {},
   "source": [
    "#### Test (Enero)"
   ]
  },
  {
   "cell_type": "code",
   "execution_count": 13,
   "metadata": {},
   "outputs": [],
   "source": [
    "fmd = test_filtered\n",
    "svd = TruncatedSVD(n_components=8, n_iter=200, random_state=42)\n",
    "svd.fit(fmd.T)\n",
    "X_embedded = TSNE(n_components=2).fit_transform(svd.components_.T)"
   ]
  },
  {
   "cell_type": "code",
   "execution_count": 14,
   "metadata": {},
   "outputs": [],
   "source": [
    "voto = test_filtered['voto_cambiemos_reducido']"
   ]
  },
  {
   "cell_type": "code",
   "execution_count": 15,
   "metadata": {},
   "outputs": [
    {
     "data": {
      "image/png": "[encoded data removed]",
      "text/plain": [
       "<matplotlib.figure.Figure at 0x7f03daf50710>"
      ]
     },
     "metadata": {},
     "output_type": "display_data"
    }
   ],
   "source": [
    "plt.figure(figsize=(20,10))\n",
    "plt.scatter(X_embedded[voto[:]==0,0], X_embedded[voto[:]==0,1], color='b', s=10)\n",
    "plt.scatter(X_embedded[voto[:]==2,0], X_embedded[voto[:]==2,1], color='y', s=10)\n",
    "plt.scatter(X_embedded[voto[:]==1,0], X_embedded[voto[:]==1,1], color='r', s=40)\n",
    "plt.show()"
   ]
  },
  {
   "cell_type": "markdown",
   "metadata": {},
   "source": [
    "Al realizar la reducción de dimensionalidad podemos observar como los grupos que si lo votarían ocupan regiones bien definidas y diferenciadas de quienes no. A su vez podemos ver que quienes aún no deciden su voto no ocupan una región distinta a las otras dos sino que se mezclan en ellas, por lo que podemos inducir que quienes no definieron su voto no tienen una visión distinta de quienes si. \n",
    "Por lo que sería de esperar que aquellos puntos rojos terminen votando como los puntos del color que los rodean y por lo tanto es de esperar que los modelosde machine learning tengan una mayor precisión."
   ]
  },
  {
   "cell_type": "code",
   "execution_count": null,
   "metadata": {},
   "outputs": [],
   "source": []
  }
 ],
 "metadata": {
  "kernelspec": {
   "display_name": "Python 3",
   "language": "python",
   "name": "python3"
  },
  "language_info": {
   "codemirror_mode": {
    "name": "ipython",
    "version": 2
   },
   "file_extension": ".py",
   "mimetype": "text/x-python",
   "name": "python",
   "nbconvert_exporter": "python",
   "pygments_lexer": "ipython2",
   "version": "2.7.14"
  }
 },
 "nbformat": 4,
 "nbformat_minor": 2
}
